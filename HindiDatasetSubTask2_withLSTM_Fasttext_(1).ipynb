{
  "nbformat": 4,
  "nbformat_minor": 0,
  "metadata": {
    "accelerator": "GPU",
    "colab": {
      "name": "HindiDatasetSubTask2_withLSTM_Fasttext (1).ipynb",
      "provenance": [],
      "collapsed_sections": []
    },
    "kernelspec": {
      "display_name": "Python 3",
      "language": "python",
      "name": "python3"
    },
    "language_info": {
      "codemirror_mode": {
        "name": "ipython",
        "version": 3
      },
      "file_extension": ".py",
      "mimetype": "text/x-python",
      "name": "python",
      "nbconvert_exporter": "python",
      "pygments_lexer": "ipython3",
      "version": "3.6.4"
    }
  },
  "cells": [
    {
      "cell_type": "code",
      "metadata": {
        "id": "geczqqiH_HSF",
        "outputId": "02e9e214-d219-4872-bf77-73bfc20a335d",
        "colab": {
          "base_uri": "https://localhost:8080/",
          "height": 35
        }
      },
      "source": [
        "from google.colab import drive\n",
        "drive.mount('/content/drive')"
      ],
      "execution_count": 1,
      "outputs": [
        {
          "output_type": "stream",
          "text": [
            "Mounted at /content/drive\n"
          ],
          "name": "stdout"
        }
      ]
    },
    {
      "cell_type": "code",
      "metadata": {
        "id": "zpMoZmNtV_6i",
        "outputId": "9ca5aa15-a6da-42a0-aeea-20c015c23748",
        "colab": {
          "base_uri": "https://localhost:8080/",
          "height": 90
        }
      },
      "source": [
        "import numpy as np\n",
        "import pandas as pd\n",
        "import sklearn\n",
        "import nltk\n",
        "nltk.download('stopwords')\n",
        "nltk.download('punkt')\n",
        "from sklearn import feature_extraction,model_selection\n",
        "from sklearn.metrics import confusion_matrix\n",
        "import glob\n",
        "import os\n",
        "import string\n",
        "import tensorflow as tf\n",
        "import keras as K\n",
        "import zipfile\n",
        "from itertools import chain\n",
        "from keras.preprocessing.text import Tokenizer\n",
        "from keras.preprocessing.sequence import pad_sequences\n",
        "import matplotlib.pyplot as plt\n",
        "from sklearn.metrics import plot_confusion_matrix, classification_report"
      ],
      "execution_count": 2,
      "outputs": [
        {
          "output_type": "stream",
          "text": [
            "[nltk_data] Downloading package stopwords to /root/nltk_data...\n",
            "[nltk_data]   Unzipping corpora/stopwords.zip.\n",
            "[nltk_data] Downloading package punkt to /root/nltk_data...\n",
            "[nltk_data]   Unzipping tokenizers/punkt.zip.\n"
          ],
          "name": "stdout"
        }
      ]
    },
    {
      "cell_type": "code",
      "metadata": {
        "id": "UC86IhnuZgWE"
      },
      "source": [
        "# importing Word2Vec\n",
        "from gensim.models import Word2Vec\n",
        "from gensim.models import FastText"
      ],
      "execution_count": 3,
      "outputs": []
    },
    {
      "cell_type": "code",
      "metadata": {
        "id": "6xwkeF1ZAo_w"
      },
      "source": [
        ""
      ],
      "execution_count": 3,
      "outputs": []
    },
    {
      "cell_type": "code",
      "metadata": {
        "id": "yCULtW0LW2gg",
        "outputId": "430bcc99-f041-408b-a7f2-11a94bec14d6",
        "colab": {
          "base_uri": "https://localhost:8080/",
          "height": 424
        }
      },
      "source": [
        "df=pd.read_csv('/content/hindi_tr.csv')\n",
        "df"
      ],
      "execution_count": 4,
      "outputs": [
        {
          "output_type": "execute_result",
          "data": {
            "text/html": [
              "<div>\n",
              "<style scoped>\n",
              "    .dataframe tbody tr th:only-of-type {\n",
              "        vertical-align: middle;\n",
              "    }\n",
              "\n",
              "    .dataframe tbody tr th {\n",
              "        vertical-align: top;\n",
              "    }\n",
              "\n",
              "    .dataframe thead th {\n",
              "        text-align: right;\n",
              "    }\n",
              "</style>\n",
              "<table border=\"1\" class=\"dataframe\">\n",
              "  <thead>\n",
              "    <tr style=\"text-align: right;\">\n",
              "      <th></th>\n",
              "      <th>tweet_id</th>\n",
              "      <th>text</th>\n",
              "      <th>task1</th>\n",
              "      <th>task2</th>\n",
              "      <th>ID</th>\n",
              "    </tr>\n",
              "  </thead>\n",
              "  <tbody>\n",
              "    <tr>\n",
              "      <th>0</th>\n",
              "      <td>1.127755e+18</td>\n",
              "      <td>1 आदमीं को मारने पर गोडसे आतंकी हो सके है तो\\n...</td>\n",
              "      <td>HOF</td>\n",
              "      <td>HATE</td>\n",
              "      <td>hasoc_2020_hi_2250</td>\n",
              "    </tr>\n",
              "    <tr>\n",
              "      <th>1</th>\n",
              "      <td>1.123579e+18</td>\n",
              "      <td>RT @Vishesh4: @jawaharyadavbjp जवाहर यादव, अगर...</td>\n",
              "      <td>NOT</td>\n",
              "      <td>NONE</td>\n",
              "      <td>hasoc_2020_hi_381</td>\n",
              "    </tr>\n",
              "    <tr>\n",
              "      <th>2</th>\n",
              "      <td>1.127750e+18</td>\n",
              "      <td>RT @FunKeyBaat: #भगवा वस्त्र पहन कर मतदान नही ...</td>\n",
              "      <td>HOF</td>\n",
              "      <td>HATE</td>\n",
              "      <td>hasoc_2020_hi_1510</td>\n",
              "    </tr>\n",
              "    <tr>\n",
              "      <th>3</th>\n",
              "      <td>1.127661e+18</td>\n",
              "      <td>Yey nina khothani labafazi benu phambili Finis...</td>\n",
              "      <td>HOF</td>\n",
              "      <td>PRFN</td>\n",
              "      <td>hasoc_2020_hi_1010</td>\n",
              "    </tr>\n",
              "    <tr>\n",
              "      <th>4</th>\n",
              "      <td>1.123487e+18</td>\n",
              "      <td>RT @Rajeshbhanjan2: जब भी कोई सिकुलर कोंग्रेसी...</td>\n",
              "      <td>HOF</td>\n",
              "      <td>HATE</td>\n",
              "      <td>hasoc_2020_hi_331</td>\n",
              "    </tr>\n",
              "    <tr>\n",
              "      <th>...</th>\n",
              "      <td>...</td>\n",
              "      <td>...</td>\n",
              "      <td>...</td>\n",
              "      <td>...</td>\n",
              "      <td>...</td>\n",
              "    </tr>\n",
              "    <tr>\n",
              "      <th>2958</th>\n",
              "      <td>1.127651e+18</td>\n",
              "      <td>@Varun_dvn जिसके नाम के साथ इंडिअनस लगा हो उसक...</td>\n",
              "      <td>NOT</td>\n",
              "      <td>NONE</td>\n",
              "      <td>hasoc_2020_hi_2781</td>\n",
              "    </tr>\n",
              "    <tr>\n",
              "      <th>2959</th>\n",
              "      <td>1.127752e+18</td>\n",
              "      <td>मुझे सबसे ज्यादा राहुल और सोनियाके बारे बुरा ल...</td>\n",
              "      <td>NOT</td>\n",
              "      <td>NONE</td>\n",
              "      <td>hasoc_2020_hi_2283</td>\n",
              "    </tr>\n",
              "    <tr>\n",
              "      <th>2960</th>\n",
              "      <td>1.123722e+18</td>\n",
              "      <td>RT @Gujju_Er: एक आतंकी जिसे कांग्रेस ने\\n'शांत...</td>\n",
              "      <td>HOF</td>\n",
              "      <td>HATE</td>\n",
              "      <td>hasoc_2020_hi_2022</td>\n",
              "    </tr>\n",
              "    <tr>\n",
              "      <th>2961</th>\n",
              "      <td>1.127753e+18</td>\n",
              "      <td>RT @dayanand151: @jafahar1 @BBCHindi @Hariramk...</td>\n",
              "      <td>HOF</td>\n",
              "      <td>OFFN</td>\n",
              "      <td>hasoc_2020_hi_882</td>\n",
              "    </tr>\n",
              "    <tr>\n",
              "      <th>2962</th>\n",
              "      <td>1.127463e+18</td>\n",
              "      <td>RT @manakgupta: “हमें 5 साल हो गए, हमने संविधा...</td>\n",
              "      <td>NOT</td>\n",
              "      <td>NONE</td>\n",
              "      <td>hasoc_2020_hi_118</td>\n",
              "    </tr>\n",
              "  </tbody>\n",
              "</table>\n",
              "<p>2963 rows × 5 columns</p>\n",
              "</div>"
            ],
            "text/plain": [
              "          tweet_id  ...                  ID\n",
              "0     1.127755e+18  ...  hasoc_2020_hi_2250\n",
              "1     1.123579e+18  ...   hasoc_2020_hi_381\n",
              "2     1.127750e+18  ...  hasoc_2020_hi_1510\n",
              "3     1.127661e+18  ...  hasoc_2020_hi_1010\n",
              "4     1.123487e+18  ...   hasoc_2020_hi_331\n",
              "...            ...  ...                 ...\n",
              "2958  1.127651e+18  ...  hasoc_2020_hi_2781\n",
              "2959  1.127752e+18  ...  hasoc_2020_hi_2283\n",
              "2960  1.123722e+18  ...  hasoc_2020_hi_2022\n",
              "2961  1.127753e+18  ...   hasoc_2020_hi_882\n",
              "2962  1.127463e+18  ...   hasoc_2020_hi_118\n",
              "\n",
              "[2963 rows x 5 columns]"
            ]
          },
          "metadata": {
            "tags": []
          },
          "execution_count": 4
        }
      ]
    },
    {
      "cell_type": "code",
      "metadata": {
        "id": "y9qb_rYyW9lL",
        "outputId": "d0e6707c-3463-4d8a-ac73-d07b43c55ca1",
        "colab": {
          "base_uri": "https://localhost:8080/",
          "height": 206
        }
      },
      "source": [
        "X=df[['text','task2']]\n",
        "X.head()"
      ],
      "execution_count": 5,
      "outputs": [
        {
          "output_type": "execute_result",
          "data": {
            "text/html": [
              "<div>\n",
              "<style scoped>\n",
              "    .dataframe tbody tr th:only-of-type {\n",
              "        vertical-align: middle;\n",
              "    }\n",
              "\n",
              "    .dataframe tbody tr th {\n",
              "        vertical-align: top;\n",
              "    }\n",
              "\n",
              "    .dataframe thead th {\n",
              "        text-align: right;\n",
              "    }\n",
              "</style>\n",
              "<table border=\"1\" class=\"dataframe\">\n",
              "  <thead>\n",
              "    <tr style=\"text-align: right;\">\n",
              "      <th></th>\n",
              "      <th>text</th>\n",
              "      <th>task2</th>\n",
              "    </tr>\n",
              "  </thead>\n",
              "  <tbody>\n",
              "    <tr>\n",
              "      <th>0</th>\n",
              "      <td>1 आदमीं को मारने पर गोडसे आतंकी हो सके है तो\\n...</td>\n",
              "      <td>HATE</td>\n",
              "    </tr>\n",
              "    <tr>\n",
              "      <th>1</th>\n",
              "      <td>RT @Vishesh4: @jawaharyadavbjp जवाहर यादव, अगर...</td>\n",
              "      <td>NONE</td>\n",
              "    </tr>\n",
              "    <tr>\n",
              "      <th>2</th>\n",
              "      <td>RT @FunKeyBaat: #भगवा वस्त्र पहन कर मतदान नही ...</td>\n",
              "      <td>HATE</td>\n",
              "    </tr>\n",
              "    <tr>\n",
              "      <th>3</th>\n",
              "      <td>Yey nina khothani labafazi benu phambili Finis...</td>\n",
              "      <td>PRFN</td>\n",
              "    </tr>\n",
              "    <tr>\n",
              "      <th>4</th>\n",
              "      <td>RT @Rajeshbhanjan2: जब भी कोई सिकुलर कोंग्रेसी...</td>\n",
              "      <td>HATE</td>\n",
              "    </tr>\n",
              "  </tbody>\n",
              "</table>\n",
              "</div>"
            ],
            "text/plain": [
              "                                                text task2\n",
              "0  1 आदमीं को मारने पर गोडसे आतंकी हो सके है तो\\n...  HATE\n",
              "1  RT @Vishesh4: @jawaharyadavbjp जवाहर यादव, अगर...  NONE\n",
              "2  RT @FunKeyBaat: #भगवा वस्त्र पहन कर मतदान नही ...  HATE\n",
              "3  Yey nina khothani labafazi benu phambili Finis...  PRFN\n",
              "4  RT @Rajeshbhanjan2: जब भी कोई सिकुलर कोंग्रेसी...  HATE"
            ]
          },
          "metadata": {
            "tags": []
          },
          "execution_count": 5
        }
      ]
    },
    {
      "cell_type": "code",
      "metadata": {
        "id": "d6un7JvzW-7b",
        "outputId": "26861e31-50ce-49bf-b711-8a82d473ddaa",
        "colab": {
          "base_uri": "https://localhost:8080/",
          "height": 424
        }
      },
      "source": [
        "df1=pd.read_csv('/content/hindi_test_1509.csv')\n",
        "df1"
      ],
      "execution_count": 6,
      "outputs": [
        {
          "output_type": "execute_result",
          "data": {
            "text/html": [
              "<div>\n",
              "<style scoped>\n",
              "    .dataframe tbody tr th:only-of-type {\n",
              "        vertical-align: middle;\n",
              "    }\n",
              "\n",
              "    .dataframe tbody tr th {\n",
              "        vertical-align: top;\n",
              "    }\n",
              "\n",
              "    .dataframe thead th {\n",
              "        text-align: right;\n",
              "    }\n",
              "</style>\n",
              "<table border=\"1\" class=\"dataframe\">\n",
              "  <thead>\n",
              "    <tr style=\"text-align: right;\">\n",
              "      <th></th>\n",
              "      <th>tweet_id</th>\n",
              "      <th>text</th>\n",
              "      <th>task1</th>\n",
              "      <th>task2</th>\n",
              "      <th>ID</th>\n",
              "    </tr>\n",
              "  </thead>\n",
              "  <tbody>\n",
              "    <tr>\n",
              "      <th>0</th>\n",
              "      <td>1127781647783301120</td>\n",
              "      <td>@Kinjal_Dubey_ इसके लिए तैयारी हो रखी है\\nआपको...</td>\n",
              "      <td>HOF</td>\n",
              "      <td>OFFN</td>\n",
              "      <td>hasoc_2020_hi_1938</td>\n",
              "    </tr>\n",
              "    <tr>\n",
              "      <th>1</th>\n",
              "      <td>1127492853171535872</td>\n",
              "      <td>RT @pratimamishra04: दिल्ली के मुख्यमंत्री @Ar...</td>\n",
              "      <td>NOT</td>\n",
              "      <td>NONE</td>\n",
              "      <td>hasoc_2020_hi_1201</td>\n",
              "    </tr>\n",
              "    <tr>\n",
              "      <th>2</th>\n",
              "      <td>1123638375896903681</td>\n",
              "      <td>RT @nishantdabre2: आज एक तरफ खुशी है, तो एक तर...</td>\n",
              "      <td>NOT</td>\n",
              "      <td>NONE</td>\n",
              "      <td>hasoc_2020_hi_1628</td>\n",
              "    </tr>\n",
              "    <tr>\n",
              "      <th>3</th>\n",
              "      <td>1127496460310683648</td>\n",
              "      <td>@BJP4India @HardeepSPuri जिस कुनबे के लोग :-\\n...</td>\n",
              "      <td>NOT</td>\n",
              "      <td>NONE</td>\n",
              "      <td>hasoc_2020_hi_3257</td>\n",
              "    </tr>\n",
              "    <tr>\n",
              "      <th>4</th>\n",
              "      <td>1127667277535399937</td>\n",
              "      <td>@manakgupta बादल....😂😂😂</td>\n",
              "      <td>NOT</td>\n",
              "      <td>NONE</td>\n",
              "      <td>hasoc_2020_hi_4133</td>\n",
              "    </tr>\n",
              "    <tr>\n",
              "      <th>...</th>\n",
              "      <td>...</td>\n",
              "      <td>...</td>\n",
              "      <td>...</td>\n",
              "      <td>...</td>\n",
              "      <td>...</td>\n",
              "    </tr>\n",
              "    <tr>\n",
              "      <th>658</th>\n",
              "      <td>1123814066907242503</td>\n",
              "      <td>RT @AishwaryVerma9: दिल्ली में शून्य थे और शून...</td>\n",
              "      <td>NOT</td>\n",
              "      <td>NONE</td>\n",
              "      <td>hasoc_2020_hi_466</td>\n",
              "    </tr>\n",
              "    <tr>\n",
              "      <th>659</th>\n",
              "      <td>1127616035689979904</td>\n",
              "      <td>RT @KARUNASHANKEROJ: @sagarikaghose एक आर्टिकल...</td>\n",
              "      <td>HOF</td>\n",
              "      <td>NONE</td>\n",
              "      <td>hasoc_2020_hi_1758</td>\n",
              "    </tr>\n",
              "    <tr>\n",
              "      <th>660</th>\n",
              "      <td>1127502823044702208</td>\n",
              "      <td>@CM_P17 @PShatrujeet रमजान शुरू लेकिन मजाल है ...</td>\n",
              "      <td>HOF</td>\n",
              "      <td>OFFN</td>\n",
              "      <td>hasoc_2020_hi_3521</td>\n",
              "    </tr>\n",
              "    <tr>\n",
              "      <th>661</th>\n",
              "      <td>1127780829914992640</td>\n",
              "      <td>RT @rukasa007: तो तुम्हारे सिर में एक गोली उता...</td>\n",
              "      <td>NOT</td>\n",
              "      <td>NONE</td>\n",
              "      <td>hasoc_2020_hi_1293</td>\n",
              "    </tr>\n",
              "    <tr>\n",
              "      <th>662</th>\n",
              "      <td>1127465619580788737</td>\n",
              "      <td>@athavale_abhi @kavita_tewari गांधी परिवार और ...</td>\n",
              "      <td>HOF</td>\n",
              "      <td>HATE</td>\n",
              "      <td>hasoc_2020_hi_3279</td>\n",
              "    </tr>\n",
              "  </tbody>\n",
              "</table>\n",
              "<p>663 rows × 5 columns</p>\n",
              "</div>"
            ],
            "text/plain": [
              "                tweet_id  ...                  ID\n",
              "0    1127781647783301120  ...  hasoc_2020_hi_1938\n",
              "1    1127492853171535872  ...  hasoc_2020_hi_1201\n",
              "2    1123638375896903681  ...  hasoc_2020_hi_1628\n",
              "3    1127496460310683648  ...  hasoc_2020_hi_3257\n",
              "4    1127667277535399937  ...  hasoc_2020_hi_4133\n",
              "..                   ...  ...                 ...\n",
              "658  1123814066907242503  ...   hasoc_2020_hi_466\n",
              "659  1127616035689979904  ...  hasoc_2020_hi_1758\n",
              "660  1127502823044702208  ...  hasoc_2020_hi_3521\n",
              "661  1127780829914992640  ...  hasoc_2020_hi_1293\n",
              "662  1127465619580788737  ...  hasoc_2020_hi_3279\n",
              "\n",
              "[663 rows x 5 columns]"
            ]
          },
          "metadata": {
            "tags": []
          },
          "execution_count": 6
        }
      ]
    },
    {
      "cell_type": "code",
      "metadata": {
        "id": "LfFGL1rvXGS6",
        "outputId": "0475f86e-9223-4284-f044-0a2a452641d9",
        "colab": {
          "base_uri": "https://localhost:8080/",
          "height": 677
        }
      },
      "source": [
        "Y=df1[['text','task2']]\n",
        "Y.head(20)"
      ],
      "execution_count": 7,
      "outputs": [
        {
          "output_type": "execute_result",
          "data": {
            "text/html": [
              "<div>\n",
              "<style scoped>\n",
              "    .dataframe tbody tr th:only-of-type {\n",
              "        vertical-align: middle;\n",
              "    }\n",
              "\n",
              "    .dataframe tbody tr th {\n",
              "        vertical-align: top;\n",
              "    }\n",
              "\n",
              "    .dataframe thead th {\n",
              "        text-align: right;\n",
              "    }\n",
              "</style>\n",
              "<table border=\"1\" class=\"dataframe\">\n",
              "  <thead>\n",
              "    <tr style=\"text-align: right;\">\n",
              "      <th></th>\n",
              "      <th>text</th>\n",
              "      <th>task2</th>\n",
              "    </tr>\n",
              "  </thead>\n",
              "  <tbody>\n",
              "    <tr>\n",
              "      <th>0</th>\n",
              "      <td>@Kinjal_Dubey_ इसके लिए तैयारी हो रखी है\\nआपको...</td>\n",
              "      <td>OFFN</td>\n",
              "    </tr>\n",
              "    <tr>\n",
              "      <th>1</th>\n",
              "      <td>RT @pratimamishra04: दिल्ली के मुख्यमंत्री @Ar...</td>\n",
              "      <td>NONE</td>\n",
              "    </tr>\n",
              "    <tr>\n",
              "      <th>2</th>\n",
              "      <td>RT @nishantdabre2: आज एक तरफ खुशी है, तो एक तर...</td>\n",
              "      <td>NONE</td>\n",
              "    </tr>\n",
              "    <tr>\n",
              "      <th>3</th>\n",
              "      <td>@BJP4India @HardeepSPuri जिस कुनबे के लोग :-\\n...</td>\n",
              "      <td>NONE</td>\n",
              "    </tr>\n",
              "    <tr>\n",
              "      <th>4</th>\n",
              "      <td>@manakgupta बादल....😂😂😂</td>\n",
              "      <td>NONE</td>\n",
              "    </tr>\n",
              "    <tr>\n",
              "      <th>5</th>\n",
              "      <td>@manakgupta देखो भक्त एंकरों की पोस्ट</td>\n",
              "      <td>NONE</td>\n",
              "    </tr>\n",
              "    <tr>\n",
              "      <th>6</th>\n",
              "      <td>RT @nehapatel342634: जब भी मेरे भाई के दोस्त क...</td>\n",
              "      <td>PRFN</td>\n",
              "    </tr>\n",
              "    <tr>\n",
              "      <th>7</th>\n",
              "      <td>RT @iVinayShukla_: ➡️IBM 1951 में भारत आयी थी,...</td>\n",
              "      <td>NONE</td>\n",
              "    </tr>\n",
              "    <tr>\n",
              "      <th>8</th>\n",
              "      <td>अब केवल दो चरण बचे हैं अपने दोनों चरणों को मतद...</td>\n",
              "      <td>NONE</td>\n",
              "    </tr>\n",
              "    <tr>\n",
              "      <th>9</th>\n",
              "      <td>@DrKumarVishwas @AmritanjaliAbh1 @ImranKhanPTI...</td>\n",
              "      <td>NONE</td>\n",
              "    </tr>\n",
              "    <tr>\n",
              "      <th>10</th>\n",
              "      <td>RT @Dikshapandey22: आतंकी मसूद अजहर के ग्लोबल ...</td>\n",
              "      <td>OFFN</td>\n",
              "    </tr>\n",
              "    <tr>\n",
              "      <th>11</th>\n",
              "      <td>RT @Sunita99996688: #Allah_Kabir\\nगंगा काठे घर...</td>\n",
              "      <td>NONE</td>\n",
              "    </tr>\n",
              "    <tr>\n",
              "      <th>12</th>\n",
              "      <td>ये टिकट कटने पर पता चला</td>\n",
              "      <td>NONE</td>\n",
              "    </tr>\n",
              "    <tr>\n",
              "      <th>13</th>\n",
              "      <td>RT @khalidmfp: जहाज स्टार्ट ही नहीं हो रहा थां...</td>\n",
              "      <td>NONE</td>\n",
              "    </tr>\n",
              "    <tr>\n",
              "      <th>14</th>\n",
              "      <td>@BJP4India माननीय , इन ओछे लोगों(सिद्धू) के वक...</td>\n",
              "      <td>NONE</td>\n",
              "    </tr>\n",
              "    <tr>\n",
              "      <th>15</th>\n",
              "      <td>@lvfortag Oyyy mene jan bujh k ni kiya sachiii...</td>\n",
              "      <td>NONE</td>\n",
              "    </tr>\n",
              "    <tr>\n",
              "      <th>16</th>\n",
              "      <td>@TV9Bharatvarsh अब क्या @TV9Bharatvarsh जैसे म...</td>\n",
              "      <td>NONE</td>\n",
              "    </tr>\n",
              "    <tr>\n",
              "      <th>17</th>\n",
              "      <td>RT @SabeenaTamang: ऐ कुदरत सुना है \\nतू ही कहर...</td>\n",
              "      <td>NONE</td>\n",
              "    </tr>\n",
              "    <tr>\n",
              "      <th>18</th>\n",
              "      <td>RT @MOHAMMED___SRH: हम तो उनकी हर ख्वाइश पूरी ...</td>\n",
              "      <td>NONE</td>\n",
              "    </tr>\n",
              "    <tr>\n",
              "      <th>19</th>\n",
              "      <td>@RajTiwa56444261 ये हराम खोर है @AamAadmiParty...</td>\n",
              "      <td>PRFN</td>\n",
              "    </tr>\n",
              "  </tbody>\n",
              "</table>\n",
              "</div>"
            ],
            "text/plain": [
              "                                                 text task2\n",
              "0   @Kinjal_Dubey_ इसके लिए तैयारी हो रखी है\\nआपको...  OFFN\n",
              "1   RT @pratimamishra04: दिल्ली के मुख्यमंत्री @Ar...  NONE\n",
              "2   RT @nishantdabre2: आज एक तरफ खुशी है, तो एक तर...  NONE\n",
              "3   @BJP4India @HardeepSPuri जिस कुनबे के लोग :-\\n...  NONE\n",
              "4                             @manakgupta बादल....😂😂😂  NONE\n",
              "5               @manakgupta देखो भक्त एंकरों की पोस्ट  NONE\n",
              "6   RT @nehapatel342634: जब भी मेरे भाई के दोस्त क...  PRFN\n",
              "7   RT @iVinayShukla_: ➡️IBM 1951 में भारत आयी थी,...  NONE\n",
              "8   अब केवल दो चरण बचे हैं अपने दोनों चरणों को मतद...  NONE\n",
              "9   @DrKumarVishwas @AmritanjaliAbh1 @ImranKhanPTI...  NONE\n",
              "10  RT @Dikshapandey22: आतंकी मसूद अजहर के ग्लोबल ...  OFFN\n",
              "11  RT @Sunita99996688: #Allah_Kabir\\nगंगा काठे घर...  NONE\n",
              "12                            ये टिकट कटने पर पता चला  NONE\n",
              "13  RT @khalidmfp: जहाज स्टार्ट ही नहीं हो रहा थां...  NONE\n",
              "14  @BJP4India माननीय , इन ओछे लोगों(सिद्धू) के वक...  NONE\n",
              "15  @lvfortag Oyyy mene jan bujh k ni kiya sachiii...  NONE\n",
              "16  @TV9Bharatvarsh अब क्या @TV9Bharatvarsh जैसे म...  NONE\n",
              "17  RT @SabeenaTamang: ऐ कुदरत सुना है \\nतू ही कहर...  NONE\n",
              "18  RT @MOHAMMED___SRH: हम तो उनकी हर ख्वाइश पूरी ...  NONE\n",
              "19  @RajTiwa56444261 ये हराम खोर है @AamAadmiParty...  PRFN"
            ]
          },
          "metadata": {
            "tags": []
          },
          "execution_count": 7
        }
      ]
    },
    {
      "cell_type": "code",
      "metadata": {
        "id": "R0s4cySwdKSl",
        "outputId": "5c5bdc45-ba73-4795-aba5-c79d2caf6394",
        "colab": {
          "base_uri": "https://localhost:8080/",
          "height": 146
        }
      },
      "source": [
        "cols=['task2']\n",
        "X[cols] = X[cols].apply(lambda x: pd.factorize(x)[0] + 0)\n",
        "Y[cols] = Y[cols].apply(lambda x: pd.factorize(x)[0] + 0)"
      ],
      "execution_count": 8,
      "outputs": [
        {
          "output_type": "stream",
          "text": [
            "/usr/local/lib/python3.6/dist-packages/pandas/core/frame.py:2963: SettingWithCopyWarning: \n",
            "A value is trying to be set on a copy of a slice from a DataFrame.\n",
            "Try using .loc[row_indexer,col_indexer] = value instead\n",
            "\n",
            "See the caveats in the documentation: https://pandas.pydata.org/pandas-docs/stable/user_guide/indexing.html#returning-a-view-versus-a-copy\n",
            "  self[k1] = value[k2]\n"
          ],
          "name": "stderr"
        }
      ]
    },
    {
      "cell_type": "code",
      "metadata": {
        "id": "Q5fBis2efcKz",
        "outputId": "c399c256-3fd1-48ff-b0d7-14e7dcf1f738",
        "colab": {
          "base_uri": "https://localhost:8080/",
          "height": 206
        }
      },
      "source": [
        "X.head()"
      ],
      "execution_count": 9,
      "outputs": [
        {
          "output_type": "execute_result",
          "data": {
            "text/html": [
              "<div>\n",
              "<style scoped>\n",
              "    .dataframe tbody tr th:only-of-type {\n",
              "        vertical-align: middle;\n",
              "    }\n",
              "\n",
              "    .dataframe tbody tr th {\n",
              "        vertical-align: top;\n",
              "    }\n",
              "\n",
              "    .dataframe thead th {\n",
              "        text-align: right;\n",
              "    }\n",
              "</style>\n",
              "<table border=\"1\" class=\"dataframe\">\n",
              "  <thead>\n",
              "    <tr style=\"text-align: right;\">\n",
              "      <th></th>\n",
              "      <th>text</th>\n",
              "      <th>task2</th>\n",
              "    </tr>\n",
              "  </thead>\n",
              "  <tbody>\n",
              "    <tr>\n",
              "      <th>0</th>\n",
              "      <td>1 आदमीं को मारने पर गोडसे आतंकी हो सके है तो\\n...</td>\n",
              "      <td>0</td>\n",
              "    </tr>\n",
              "    <tr>\n",
              "      <th>1</th>\n",
              "      <td>RT @Vishesh4: @jawaharyadavbjp जवाहर यादव, अगर...</td>\n",
              "      <td>1</td>\n",
              "    </tr>\n",
              "    <tr>\n",
              "      <th>2</th>\n",
              "      <td>RT @FunKeyBaat: #भगवा वस्त्र पहन कर मतदान नही ...</td>\n",
              "      <td>0</td>\n",
              "    </tr>\n",
              "    <tr>\n",
              "      <th>3</th>\n",
              "      <td>Yey nina khothani labafazi benu phambili Finis...</td>\n",
              "      <td>2</td>\n",
              "    </tr>\n",
              "    <tr>\n",
              "      <th>4</th>\n",
              "      <td>RT @Rajeshbhanjan2: जब भी कोई सिकुलर कोंग्रेसी...</td>\n",
              "      <td>0</td>\n",
              "    </tr>\n",
              "  </tbody>\n",
              "</table>\n",
              "</div>"
            ],
            "text/plain": [
              "                                                text  task2\n",
              "0  1 आदमीं को मारने पर गोडसे आतंकी हो सके है तो\\n...      0\n",
              "1  RT @Vishesh4: @jawaharyadavbjp जवाहर यादव, अगर...      1\n",
              "2  RT @FunKeyBaat: #भगवा वस्त्र पहन कर मतदान नही ...      0\n",
              "3  Yey nina khothani labafazi benu phambili Finis...      2\n",
              "4  RT @Rajeshbhanjan2: जब भी कोई सिकुलर कोंग्रेसी...      0"
            ]
          },
          "metadata": {
            "tags": []
          },
          "execution_count": 9
        }
      ]
    },
    {
      "cell_type": "code",
      "metadata": {
        "id": "hg24PO-JfebB",
        "outputId": "6e523649-316f-47f3-8667-e025c2c29194",
        "colab": {
          "base_uri": "https://localhost:8080/",
          "height": 206
        }
      },
      "source": [
        "Y.head()"
      ],
      "execution_count": 10,
      "outputs": [
        {
          "output_type": "execute_result",
          "data": {
            "text/html": [
              "<div>\n",
              "<style scoped>\n",
              "    .dataframe tbody tr th:only-of-type {\n",
              "        vertical-align: middle;\n",
              "    }\n",
              "\n",
              "    .dataframe tbody tr th {\n",
              "        vertical-align: top;\n",
              "    }\n",
              "\n",
              "    .dataframe thead th {\n",
              "        text-align: right;\n",
              "    }\n",
              "</style>\n",
              "<table border=\"1\" class=\"dataframe\">\n",
              "  <thead>\n",
              "    <tr style=\"text-align: right;\">\n",
              "      <th></th>\n",
              "      <th>text</th>\n",
              "      <th>task2</th>\n",
              "    </tr>\n",
              "  </thead>\n",
              "  <tbody>\n",
              "    <tr>\n",
              "      <th>0</th>\n",
              "      <td>@Kinjal_Dubey_ इसके लिए तैयारी हो रखी है\\nआपको...</td>\n",
              "      <td>0</td>\n",
              "    </tr>\n",
              "    <tr>\n",
              "      <th>1</th>\n",
              "      <td>RT @pratimamishra04: दिल्ली के मुख्यमंत्री @Ar...</td>\n",
              "      <td>1</td>\n",
              "    </tr>\n",
              "    <tr>\n",
              "      <th>2</th>\n",
              "      <td>RT @nishantdabre2: आज एक तरफ खुशी है, तो एक तर...</td>\n",
              "      <td>1</td>\n",
              "    </tr>\n",
              "    <tr>\n",
              "      <th>3</th>\n",
              "      <td>@BJP4India @HardeepSPuri जिस कुनबे के लोग :-\\n...</td>\n",
              "      <td>1</td>\n",
              "    </tr>\n",
              "    <tr>\n",
              "      <th>4</th>\n",
              "      <td>@manakgupta बादल....😂😂😂</td>\n",
              "      <td>1</td>\n",
              "    </tr>\n",
              "  </tbody>\n",
              "</table>\n",
              "</div>"
            ],
            "text/plain": [
              "                                                text  task2\n",
              "0  @Kinjal_Dubey_ इसके लिए तैयारी हो रखी है\\nआपको...      0\n",
              "1  RT @pratimamishra04: दिल्ली के मुख्यमंत्री @Ar...      1\n",
              "2  RT @nishantdabre2: आज एक तरफ खुशी है, तो एक तर...      1\n",
              "3  @BJP4India @HardeepSPuri जिस कुनबे के लोग :-\\n...      1\n",
              "4                            @manakgupta बादल....😂😂😂      1"
            ]
          },
          "metadata": {
            "tags": []
          },
          "execution_count": 10
        }
      ]
    },
    {
      "cell_type": "code",
      "metadata": {
        "id": "sRPMw8ARIAoL",
        "outputId": "0a7e3944-abe5-40d0-9d64-a2e47064374e",
        "colab": {
          "base_uri": "https://localhost:8080/",
          "height": 199
        }
      },
      "source": [
        "print(X['task2'].value_counts())\n",
        "print(Y['task2'].value_counts())\n",
        "\n"
      ],
      "execution_count": 11,
      "outputs": [
        {
          "output_type": "stream",
          "text": [
            "1    2116\n",
            "3     465\n",
            "0     234\n",
            "2     148\n",
            "Name: task2, dtype: int64\n",
            "1    493\n",
            "0     87\n",
            "3     56\n",
            "2     27\n",
            "Name: task2, dtype: int64\n"
          ],
          "name": "stdout"
        }
      ]
    },
    {
      "cell_type": "code",
      "metadata": {
        "id": "PlrYL06mfhbR",
        "outputId": "85022632-f0c1-4905-d3ff-449207314739",
        "colab": {
          "base_uri": "https://localhost:8080/",
          "height": 235
        }
      },
      "source": [
        "X_train=X['text']\n",
        "X_train"
      ],
      "execution_count": 12,
      "outputs": [
        {
          "output_type": "execute_result",
          "data": {
            "text/plain": [
              "0       1 आदमीं को मारने पर गोडसे आतंकी हो सके है तो\\n...\n",
              "1       RT @Vishesh4: @jawaharyadavbjp जवाहर यादव, अगर...\n",
              "2       RT @FunKeyBaat: #भगवा वस्त्र पहन कर मतदान नही ...\n",
              "3       Yey nina khothani labafazi benu phambili Finis...\n",
              "4       RT @Rajeshbhanjan2: जब भी कोई सिकुलर कोंग्रेसी...\n",
              "                              ...                        \n",
              "2958    @Varun_dvn जिसके नाम के साथ इंडिअनस लगा हो उसक...\n",
              "2959    मुझे सबसे ज्यादा राहुल और सोनियाके बारे बुरा ल...\n",
              "2960    RT @Gujju_Er: एक आतंकी जिसे कांग्रेस ने\\n'शांत...\n",
              "2961    RT @dayanand151: @jafahar1 @BBCHindi @Hariramk...\n",
              "2962    RT @manakgupta: “हमें 5 साल हो गए, हमने संविधा...\n",
              "Name: text, Length: 2963, dtype: object"
            ]
          },
          "metadata": {
            "tags": []
          },
          "execution_count": 12
        }
      ]
    },
    {
      "cell_type": "code",
      "metadata": {
        "id": "auEHAzkmfxwT",
        "outputId": "c3f1e01a-a253-4d2d-8925-2ff45f78b3d4",
        "colab": {
          "base_uri": "https://localhost:8080/",
          "height": 235
        }
      },
      "source": [
        "y_train=X['task2']\n",
        "y_train"
      ],
      "execution_count": 13,
      "outputs": [
        {
          "output_type": "execute_result",
          "data": {
            "text/plain": [
              "0       0\n",
              "1       1\n",
              "2       0\n",
              "3       2\n",
              "4       0\n",
              "       ..\n",
              "2958    1\n",
              "2959    1\n",
              "2960    0\n",
              "2961    3\n",
              "2962    1\n",
              "Name: task2, Length: 2963, dtype: int64"
            ]
          },
          "metadata": {
            "tags": []
          },
          "execution_count": 13
        }
      ]
    },
    {
      "cell_type": "code",
      "metadata": {
        "id": "3TwWITgof7Iy",
        "outputId": "e1f64b8c-3233-49e0-f5b4-d934a9973c9d",
        "colab": {
          "base_uri": "https://localhost:8080/",
          "height": 235
        }
      },
      "source": [
        "X_test=Y['text']\n",
        "X_test"
      ],
      "execution_count": 14,
      "outputs": [
        {
          "output_type": "execute_result",
          "data": {
            "text/plain": [
              "0      @Kinjal_Dubey_ इसके लिए तैयारी हो रखी है\\nआपको...\n",
              "1      RT @pratimamishra04: दिल्ली के मुख्यमंत्री @Ar...\n",
              "2      RT @nishantdabre2: आज एक तरफ खुशी है, तो एक तर...\n",
              "3      @BJP4India @HardeepSPuri जिस कुनबे के लोग :-\\n...\n",
              "4                                @manakgupta बादल....😂😂😂\n",
              "                             ...                        \n",
              "658    RT @AishwaryVerma9: दिल्ली में शून्य थे और शून...\n",
              "659    RT @KARUNASHANKEROJ: @sagarikaghose एक आर्टिकल...\n",
              "660    @CM_P17 @PShatrujeet रमजान शुरू लेकिन मजाल है ...\n",
              "661    RT @rukasa007: तो तुम्हारे सिर में एक गोली उता...\n",
              "662    @athavale_abhi @kavita_tewari गांधी परिवार और ...\n",
              "Name: text, Length: 663, dtype: object"
            ]
          },
          "metadata": {
            "tags": []
          },
          "execution_count": 14
        }
      ]
    },
    {
      "cell_type": "code",
      "metadata": {
        "id": "ZXzsq1A7gELh",
        "outputId": "75d2734d-56df-4941-8ea6-92c1631a20a8",
        "colab": {
          "base_uri": "https://localhost:8080/",
          "height": 235
        }
      },
      "source": [
        "y_test=Y['task2']\n",
        "y_test"
      ],
      "execution_count": 15,
      "outputs": [
        {
          "output_type": "execute_result",
          "data": {
            "text/plain": [
              "0      0\n",
              "1      1\n",
              "2      1\n",
              "3      1\n",
              "4      1\n",
              "      ..\n",
              "658    1\n",
              "659    1\n",
              "660    0\n",
              "661    1\n",
              "662    3\n",
              "Name: task2, Length: 663, dtype: int64"
            ]
          },
          "metadata": {
            "tags": []
          },
          "execution_count": 15
        }
      ]
    },
    {
      "cell_type": "code",
      "metadata": {
        "id": "JxxefBAc5Jn5",
        "outputId": "b2c5c8fa-c613-4451-df3c-59e4ff76aa4e",
        "colab": {
          "base_uri": "https://localhost:8080/",
          "height": 35
        }
      },
      "source": [
        "X_train.shape,X_test.shape,y_train.shape,y_test.shape"
      ],
      "execution_count": 16,
      "outputs": [
        {
          "output_type": "execute_result",
          "data": {
            "text/plain": [
              "((2963,), (663,), (2963,), (663,))"
            ]
          },
          "metadata": {
            "tags": []
          },
          "execution_count": 16
        }
      ]
    },
    {
      "cell_type": "code",
      "metadata": {
        "id": "zYdXZd_8B3f_"
      },
      "source": [
        "def create_tokens(lines):\n",
        "  #stop_words = set(nltk.corpus.stopwords.words('english'))\n",
        "  t_line=lines.apply(lambda x: nltk.word_tokenize(x))\n",
        "  #t_line=t_line.apply(lambda x: [w for w in x if not w in stop_words])\n",
        "  return t_line"
      ],
      "execution_count": 17,
      "outputs": []
    },
    {
      "cell_type": "code",
      "metadata": {
        "id": "ZA0GL7T8CDsb",
        "outputId": "807b7713-9f09-40aa-853f-ec47b9e589a4",
        "colab": {
          "base_uri": "https://localhost:8080/",
          "height": 253
        }
      },
      "source": [
        "X_train=create_tokens(X_train)\n",
        "print(X_train)\n",
        "tokenizer= Tokenizer()\n",
        "tokenizer.fit_on_texts(X_train)\n",
        "tokenizer\n"
      ],
      "execution_count": 18,
      "outputs": [
        {
          "output_type": "stream",
          "text": [
            "0       [1, आदमीं, को, मारने, पर, गोडसे, आतंकी, हो, सक...\n",
            "1       [RT, @, Vishesh4, :, @, jawaharyadavbjp, जवाहर...\n",
            "2       [RT, @, FunKeyBaat, :, #, भगवा, वस्त्र, पहन, क...\n",
            "3       [Yey, nina, khothani, labafazi, benu, phambili...\n",
            "4       [RT, @, Rajeshbhanjan2, :, जब, भी, कोई, सिकुलर...\n",
            "                              ...                        \n",
            "2958    [@, Varun_dvn, जिसके, नाम, के, साथ, इंडिअनस, ल...\n",
            "2959    [मुझे, सबसे, ज्यादा, राहुल, और, सोनियाके, बारे...\n",
            "2960    [RT, @, Gujju_Er, :, एक, आतंकी, जिसे, कांग्रेस...\n",
            "2961    [RT, @, dayanand151, :, @, jafahar1, @, BBCHin...\n",
            "2962    [RT, @, manakgupta, :, “, हमें, 5, साल, हो, गए...\n",
            "Name: text, Length: 2963, dtype: object\n"
          ],
          "name": "stdout"
        },
        {
          "output_type": "execute_result",
          "data": {
            "text/plain": [
              "<keras_preprocessing.text.Tokenizer at 0x7f5058b10fd0>"
            ]
          },
          "metadata": {
            "tags": []
          },
          "execution_count": 18
        }
      ]
    },
    {
      "cell_type": "code",
      "metadata": {
        "id": "WUN6YH99H6dj",
        "outputId": "66fdbc98-190f-4f62-f263-c8614f9e7974",
        "colab": {
          "base_uri": "https://localhost:8080/",
          "height": 35
        }
      },
      "source": [
        "length=np.average(X_train.apply(lambda x:len(x)*len(x)))\n",
        "length=np.sqrt(length)\n",
        "print(length)\n",
        "length=32"
      ],
      "execution_count": 19,
      "outputs": [
        {
          "output_type": "stream",
          "text": [
            "29.573449750382068\n"
          ],
          "name": "stdout"
        }
      ]
    },
    {
      "cell_type": "code",
      "metadata": {
        "id": "NDkC0RUwC3kz"
      },
      "source": [
        "def encode_text(tokenizer, lines, length):\n",
        "  encoded = tokenizer.texts_to_sequences(lines)\n",
        "  padded = pad_sequences(encoded, maxlen=length, padding='post')\n",
        "  return padded"
      ],
      "execution_count": 20,
      "outputs": []
    },
    {
      "cell_type": "code",
      "metadata": {
        "id": "9wVVLtvHC-Tb"
      },
      "source": [
        ""
      ],
      "execution_count": 20,
      "outputs": []
    },
    {
      "cell_type": "code",
      "metadata": {
        "id": "1KK2TGV0EAr_"
      },
      "source": [
        "word_index=tokenizer.word_index"
      ],
      "execution_count": 21,
      "outputs": []
    },
    {
      "cell_type": "code",
      "metadata": {
        "id": "5Msn7MOrDPDq",
        "outputId": "bb737bb4-305d-4d7d-84d5-0a83f0e8e972",
        "colab": {
          "base_uri": "https://localhost:8080/",
          "height": 235
        }
      },
      "source": [
        "X_test=create_tokens(X_test)\n",
        "print(X_test)"
      ],
      "execution_count": 22,
      "outputs": [
        {
          "output_type": "stream",
          "text": [
            "0      [@, Kinjal_Dubey_, इसके, लिए, तैयारी, हो, रखी,...\n",
            "1      [RT, @, pratimamishra04, :, दिल्ली, के, मुख्यम...\n",
            "2      [RT, @, nishantdabre2, :, आज, एक, तरफ, खुशी, ह...\n",
            "3      [@, BJP4India, @, HardeepSPuri, जिस, कुनबे, के...\n",
            "4                       [@, manakgupta, बादल, ..., .😂😂😂]\n",
            "                             ...                        \n",
            "658    [RT, @, AishwaryVerma9, :, दिल्ली, में, शून्य,...\n",
            "659    [RT, @, KARUNASHANKEROJ, :, @, sagarikaghose, ...\n",
            "660    [@, CM_P17, @, PShatrujeet, रमजान, शुरू, लेकिन...\n",
            "661    [RT, @, rukasa007, :, तो, तुम्हारे, सिर, में, ...\n",
            "662    [@, athavale_abhi, @, kavita_tewari, गांधी, पर...\n",
            "Name: text, Length: 663, dtype: object\n"
          ],
          "name": "stdout"
        }
      ]
    },
    {
      "cell_type": "code",
      "metadata": {
        "id": "AiLBR6RVGRIO"
      },
      "source": [
        ""
      ],
      "execution_count": 22,
      "outputs": []
    },
    {
      "cell_type": "code",
      "metadata": {
        "id": "C5Ya1ngEChqU",
        "outputId": "ea0a8bee-a4fb-4464-cc1d-a7b16ae84477",
        "colab": {
          "base_uri": "https://localhost:8080/",
          "height": 144
        }
      },
      "source": [
        "X_train=encode_text(tokenizer,X_train,length)\n",
        "X_train\n",
        "#pd.DataFrame(train_x).to_csv(\"train_file.csv\")"
      ],
      "execution_count": 23,
      "outputs": [
        {
          "output_type": "execute_result",
          "data": {
            "text/plain": [
              "array([[  258,  4967,     9, ...,    21,     0,     0],\n",
              "       [    4,     1,  4973, ...,     0,     0,     0],\n",
              "       [ 1497,     2,    13, ...,   164,    51,   180],\n",
              "       ...,\n",
              "       [    4,     1, 14733, ...,     0,     0,     0],\n",
              "       [    4,     1, 14736, ...,     0,     0,     0],\n",
              "       [  301,   313,   287, ...,    18,     2,  2325]], dtype=int32)"
            ]
          },
          "metadata": {
            "tags": []
          },
          "execution_count": 23
        }
      ]
    },
    {
      "cell_type": "code",
      "metadata": {
        "id": "Mue01Ee3EIR3",
        "outputId": "12d39976-d5ab-4d7a-ccda-ac00dff173b4",
        "colab": {
          "base_uri": "https://localhost:8080/",
          "height": 144
        }
      },
      "source": [
        "X_test=encode_text(tokenizer,X_test,length)\n",
        "X_test\n",
        "#pd.DataFrame(train_x).to_csv(\"train_file.csv\")"
      ],
      "execution_count": 24,
      "outputs": [
        {
          "output_type": "execute_result",
          "data": {
            "text/plain": [
              "array([[   1,  299,   40, ...,    0,    0,    0],\n",
              "       [   4,    1,    2, ...,    0,    0,    0],\n",
              "       [   2,   56,   29, ...,  420,   37,    6],\n",
              "       ...,\n",
              "       [   1,    1, 4755, ...,    0,    0,    0],\n",
              "       [   4,    1, 1219, ..., 4269,    0,    0],\n",
              "       [   1,    1,  144, ...,    0,    0,    0]], dtype=int32)"
            ]
          },
          "metadata": {
            "tags": []
          },
          "execution_count": 24
        }
      ]
    },
    {
      "cell_type": "code",
      "metadata": {
        "id": "BikwuUUm3Pnk",
        "outputId": "985d8dba-2faa-4911-cf0c-5740f6262583",
        "colab": {
          "base_uri": "https://localhost:8080/",
          "height": 271
        }
      },
      "source": [
        "from keras.utils.np_utils import to_categorical\n",
        "y_test = to_categorical(np.asarray(y_test))\n",
        "y_train = to_categorical(np.asarray(y_train))\n",
        "print(y_test)\n",
        "print(y_train)"
      ],
      "execution_count": 25,
      "outputs": [
        {
          "output_type": "stream",
          "text": [
            "[[1. 0. 0. 0.]\n",
            " [0. 1. 0. 0.]\n",
            " [0. 1. 0. 0.]\n",
            " ...\n",
            " [1. 0. 0. 0.]\n",
            " [0. 1. 0. 0.]\n",
            " [0. 0. 0. 1.]]\n",
            "[[1. 0. 0. 0.]\n",
            " [0. 1. 0. 0.]\n",
            " [1. 0. 0. 0.]\n",
            " ...\n",
            " [1. 0. 0. 0.]\n",
            " [0. 0. 0. 1.]\n",
            " [0. 1. 0. 0.]]\n"
          ],
          "name": "stdout"
        }
      ]
    },
    {
      "cell_type": "code",
      "metadata": {
        "id": "ur_sEpys425Y",
        "outputId": "563a83ca-1f60-4790-c8b0-260e2dc8ec66",
        "colab": {
          "base_uri": "https://localhost:8080/",
          "height": 35
        }
      },
      "source": [
        "# print(len(X_train))\n",
        "# print(len(X_test))\n",
        "# print(len(y_train))\n",
        "# print(len(y_test))\n",
        "X_train.shape,X_test.shape,y_train.shape,y_test.shape"
      ],
      "execution_count": 26,
      "outputs": [
        {
          "output_type": "execute_result",
          "data": {
            "text/plain": [
              "((2963, 32), (663, 32), (2963, 4), (663, 4))"
            ]
          },
          "metadata": {
            "tags": []
          },
          "execution_count": 26
        }
      ]
    },
    {
      "cell_type": "code",
      "metadata": {
        "id": "qz3E8-3ok0FQ"
      },
      "source": [
        "# Creating embedding matrix\n",
        "# Using \n",
        "import zipfile\n",
        "zip_ref = zipfile.ZipFile(\"/content/drive/My Drive/Copy of crawl-300d-2M.vec.zip\", 'r')\n",
        "zip_ref.extractall()\n",
        "zip_ref.close()"
      ],
      "execution_count": 28,
      "outputs": []
    },
    {
      "cell_type": "code",
      "metadata": {
        "id": "13YtCJLflHss",
        "outputId": "9dc70dd6-22aa-40c2-feac-f4a84f925bb3",
        "colab": {
          "base_uri": "https://localhost:8080/",
          "height": 35
        }
      },
      "source": [
        "#load pre-trained embedding:\n",
        "embeddings_index = {}\n",
        "f = open('/content/crawl-300d-2M.vec', encoding=\"utf8\")\n",
        "for line in f:\n",
        "    values = line.split()#This splits each values in a  line with spaces\n",
        "    word = values[0] # This store the first values which is the word in english\n",
        "    coefs = np.asarray(values[1:], dtype='float32') # This converts all splitted values from 1 to last(expect first word) into an array\n",
        "    embeddings_index[word] = coefs # english word = array of numerical values\n",
        "f.close()\n",
        "print('Total %s word vectors in crawl-300-2M.' % len(embeddings_index))"
      ],
      "execution_count": 29,
      "outputs": [
        {
          "output_type": "stream",
          "text": [
            "Total 1999996 word vectors in crawl-300-2M.\n"
          ],
          "name": "stdout"
        }
      ]
    },
    {
      "cell_type": "code",
      "metadata": {
        "id": "F8xL9LZ22XmI",
        "outputId": "ff893efe-68dc-4777-f7cc-c665c9dd546b",
        "colab": {
          "base_uri": "https://localhost:8080/",
          "height": 526
        }
      },
      "source": [
        "print((X_train))\n",
        "print((X_test))\n",
        "print((y_train))\n",
        "print((y_test))"
      ],
      "execution_count": 30,
      "outputs": [
        {
          "output_type": "stream",
          "text": [
            "[[  258  4967     9 ...    21     0     0]\n",
            " [    4     1  4973 ...     0     0     0]\n",
            " [ 1497     2    13 ...   164    51   180]\n",
            " ...\n",
            " [    4     1 14733 ...     0     0     0]\n",
            " [    4     1 14736 ...     0     0     0]\n",
            " [  301   313   287 ...    18     2  2325]]\n",
            "[[   1  299   40 ...    0    0    0]\n",
            " [   4    1    2 ...    0    0    0]\n",
            " [   2   56   29 ...  420   37    6]\n",
            " ...\n",
            " [   1    1 4755 ...    0    0    0]\n",
            " [   4    1 1219 ... 4269    0    0]\n",
            " [   1    1  144 ...    0    0    0]]\n",
            "[[1. 0. 0. 0.]\n",
            " [0. 1. 0. 0.]\n",
            " [1. 0. 0. 0.]\n",
            " ...\n",
            " [1. 0. 0. 0.]\n",
            " [0. 0. 0. 1.]\n",
            " [0. 1. 0. 0.]]\n",
            "[[1. 0. 0. 0.]\n",
            " [0. 1. 0. 0.]\n",
            " [0. 1. 0. 0.]\n",
            " ...\n",
            " [1. 0. 0. 0.]\n",
            " [0. 1. 0. 0.]\n",
            " [0. 0. 0. 1.]]\n"
          ],
          "name": "stdout"
        }
      ]
    },
    {
      "cell_type": "code",
      "metadata": {
        "id": "TniueyWxuAr2",
        "outputId": "c3be4758-6e9a-4430-e41b-57e3b82affa2",
        "colab": {
          "base_uri": "https://localhost:8080/",
          "height": 35
        }
      },
      "source": [
        "# Initialize the weight for each word for the embedding layer. Words not present\n",
        "# in the dictionary initialized by random value \n",
        "EMBEDDING_DIM = 300\n",
        "embedding_matrix = np.random.random((len(word_index) + 1, EMBEDDING_DIM))\n",
        "#embedding_matrix = (16433, 100) NOTE: It is from uniques words in our tweets\n",
        "for word, i in word_index.items(): # Selecting word from our tweet unique words list for changing with the values from glove\n",
        "    embedding_vector = embeddings_index.get(word) # Finding our tweet words in glove and taking its array of 100 values\n",
        "    if embedding_vector is not None: \n",
        "#words not found in embedding index will be all-zeros.\n",
        "        embedding_matrix[i] = embedding_vector\n",
        "embedding_matrix.shape"
      ],
      "execution_count": 31,
      "outputs": [
        {
          "output_type": "execute_result",
          "data": {
            "text/plain": [
              "(14743, 300)"
            ]
          },
          "metadata": {
            "tags": []
          },
          "execution_count": 31
        }
      ]
    },
    {
      "cell_type": "code",
      "metadata": {
        "id": "cTyhLpMqzh9E",
        "outputId": "7cae63d1-0b90-42ac-b488-5093c53e0c6e",
        "colab": {
          "base_uri": "https://localhost:8080/",
          "height": 310
        }
      },
      "source": [
        "from keras.utils.vis_utils import plot_model\n",
        "from keras.models import Sequential\n",
        "from keras.layers import Input,LSTM\n",
        "from keras.layers import Dense\n",
        "from keras.layers import Flatten\n",
        "from keras.layers import Dropout\n",
        "from keras.layers import Embedding\n",
        "from keras.layers.convolutional import Conv1D\n",
        "from keras.layers.convolutional import MaxPooling1D\n",
        "model=Sequential()\n",
        "model.add(Embedding(input_dim = 14743, output_dim = 300, weights=[embedding_matrix], input_length=length,trainable=False))\n",
        "model.add(LSTM(192, dropout=0.3, recurrent_dropout=0.2))\n",
        "model.add(Dense(4,activation='softmax'))\n",
        "model.compile(loss = 'categorical_crossentropy', optimizer='adam',metrics = ['accuracy'])\n",
        "model.summary()"
      ],
      "execution_count": 32,
      "outputs": [
        {
          "output_type": "stream",
          "text": [
            "WARNING:tensorflow:Layer lstm will not use cuDNN kernel since it doesn't meet the cuDNN kernel criteria. It will use generic GPU kernel as fallback when running on GPU\n",
            "Model: \"sequential\"\n",
            "_________________________________________________________________\n",
            "Layer (type)                 Output Shape              Param #   \n",
            "=================================================================\n",
            "embedding (Embedding)        (None, 32, 300)           4422900   \n",
            "_________________________________________________________________\n",
            "lstm (LSTM)                  (None, 192)               378624    \n",
            "_________________________________________________________________\n",
            "dense (Dense)                (None, 4)                 772       \n",
            "=================================================================\n",
            "Total params: 4,802,296\n",
            "Trainable params: 379,396\n",
            "Non-trainable params: 4,422,900\n",
            "_________________________________________________________________\n"
          ],
          "name": "stdout"
        }
      ]
    },
    {
      "cell_type": "code",
      "metadata": {
        "id": "Hz8NrD3nwcqF",
        "outputId": "7da8aa12-2ebd-4299-a164-947c6ca19705",
        "colab": {
          "base_uri": "https://localhost:8080/",
          "height": 1000
        }
      },
      "source": [
        "model.fit(X_train, y_train, validation_data = (X_test, y_test),epochs=200,batch_size=256, verbose=2)"
      ],
      "execution_count": 33,
      "outputs": [
        {
          "output_type": "stream",
          "text": [
            "Epoch 1/200\n",
            "12/12 - 2s - loss: 1.0134 - accuracy: 0.6615 - val_loss: 0.8771 - val_accuracy: 0.7436\n",
            "Epoch 2/200\n",
            "12/12 - 1s - loss: 0.8856 - accuracy: 0.7141 - val_loss: 0.8562 - val_accuracy: 0.7436\n",
            "Epoch 3/200\n",
            "12/12 - 1s - loss: 0.8767 - accuracy: 0.7141 - val_loss: 0.8765 - val_accuracy: 0.7436\n",
            "Epoch 4/200\n",
            "12/12 - 1s - loss: 0.8743 - accuracy: 0.7141 - val_loss: 0.8592 - val_accuracy: 0.7436\n",
            "Epoch 5/200\n",
            "12/12 - 1s - loss: 0.8778 - accuracy: 0.7141 - val_loss: 0.8688 - val_accuracy: 0.7436\n",
            "Epoch 6/200\n",
            "12/12 - 1s - loss: 0.8695 - accuracy: 0.7141 - val_loss: 0.8580 - val_accuracy: 0.7436\n",
            "Epoch 7/200\n",
            "12/12 - 1s - loss: 0.8670 - accuracy: 0.7141 - val_loss: 0.8642 - val_accuracy: 0.7436\n",
            "Epoch 8/200\n",
            "12/12 - 1s - loss: 0.8633 - accuracy: 0.7141 - val_loss: 0.8590 - val_accuracy: 0.7436\n",
            "Epoch 9/200\n",
            "12/12 - 1s - loss: 0.8596 - accuracy: 0.7141 - val_loss: 0.8545 - val_accuracy: 0.7436\n",
            "Epoch 10/200\n",
            "12/12 - 1s - loss: 0.8568 - accuracy: 0.7138 - val_loss: 0.8546 - val_accuracy: 0.7421\n",
            "Epoch 11/200\n",
            "12/12 - 1s - loss: 0.8542 - accuracy: 0.7145 - val_loss: 0.8821 - val_accuracy: 0.7421\n",
            "Epoch 12/200\n",
            "12/12 - 1s - loss: 0.8563 - accuracy: 0.7141 - val_loss: 0.8496 - val_accuracy: 0.7421\n",
            "Epoch 13/200\n",
            "12/12 - 1s - loss: 0.8543 - accuracy: 0.7148 - val_loss: 0.8830 - val_accuracy: 0.7421\n",
            "Epoch 14/200\n",
            "12/12 - 1s - loss: 0.8482 - accuracy: 0.7145 - val_loss: 0.8484 - val_accuracy: 0.7406\n",
            "Epoch 15/200\n",
            "12/12 - 1s - loss: 0.8404 - accuracy: 0.7141 - val_loss: 0.8738 - val_accuracy: 0.7406\n",
            "Epoch 16/200\n",
            "12/12 - 1s - loss: 0.8416 - accuracy: 0.7152 - val_loss: 0.8476 - val_accuracy: 0.7406\n",
            "Epoch 17/200\n",
            "12/12 - 1s - loss: 0.8408 - accuracy: 0.7165 - val_loss: 0.8803 - val_accuracy: 0.7406\n",
            "Epoch 18/200\n",
            "12/12 - 1s - loss: 0.8373 - accuracy: 0.7172 - val_loss: 0.8440 - val_accuracy: 0.7330\n",
            "Epoch 19/200\n",
            "12/12 - 1s - loss: 0.8344 - accuracy: 0.7165 - val_loss: 0.8772 - val_accuracy: 0.7421\n",
            "Epoch 20/200\n",
            "12/12 - 1s - loss: 0.8212 - accuracy: 0.7158 - val_loss: 0.8470 - val_accuracy: 0.7406\n",
            "Epoch 21/200\n",
            "12/12 - 1s - loss: 0.8193 - accuracy: 0.7168 - val_loss: 0.8778 - val_accuracy: 0.7406\n",
            "Epoch 22/200\n",
            "12/12 - 1s - loss: 0.8148 - accuracy: 0.7202 - val_loss: 0.8697 - val_accuracy: 0.7421\n",
            "Epoch 23/200\n",
            "12/12 - 1s - loss: 0.8124 - accuracy: 0.7165 - val_loss: 0.8698 - val_accuracy: 0.7406\n",
            "Epoch 24/200\n",
            "12/12 - 1s - loss: 0.7994 - accuracy: 0.7216 - val_loss: 0.8816 - val_accuracy: 0.7406\n",
            "Epoch 25/200\n",
            "12/12 - 1s - loss: 0.7934 - accuracy: 0.7263 - val_loss: 0.8865 - val_accuracy: 0.7406\n",
            "Epoch 26/200\n",
            "12/12 - 1s - loss: 0.7984 - accuracy: 0.7249 - val_loss: 0.9072 - val_accuracy: 0.7391\n",
            "Epoch 27/200\n",
            "12/12 - 1s - loss: 0.7886 - accuracy: 0.7219 - val_loss: 0.9021 - val_accuracy: 0.7436\n",
            "Epoch 28/200\n",
            "12/12 - 1s - loss: 0.7765 - accuracy: 0.7297 - val_loss: 0.8794 - val_accuracy: 0.7436\n",
            "Epoch 29/200\n",
            "12/12 - 1s - loss: 0.7637 - accuracy: 0.7341 - val_loss: 0.9150 - val_accuracy: 0.7421\n",
            "Epoch 30/200\n",
            "12/12 - 1s - loss: 0.7597 - accuracy: 0.7324 - val_loss: 0.8692 - val_accuracy: 0.7376\n",
            "Epoch 31/200\n",
            "12/12 - 1s - loss: 0.7582 - accuracy: 0.7310 - val_loss: 0.9157 - val_accuracy: 0.7345\n",
            "Epoch 32/200\n",
            "12/12 - 1s - loss: 0.7404 - accuracy: 0.7381 - val_loss: 0.8723 - val_accuracy: 0.7360\n",
            "Epoch 33/200\n",
            "12/12 - 1s - loss: 0.7202 - accuracy: 0.7452 - val_loss: 0.9182 - val_accuracy: 0.7406\n",
            "Epoch 34/200\n",
            "12/12 - 1s - loss: 0.7154 - accuracy: 0.7462 - val_loss: 0.8892 - val_accuracy: 0.7360\n",
            "Epoch 35/200\n",
            "12/12 - 1s - loss: 0.6951 - accuracy: 0.7533 - val_loss: 0.9025 - val_accuracy: 0.7330\n",
            "Epoch 36/200\n",
            "12/12 - 1s - loss: 0.6913 - accuracy: 0.7509 - val_loss: 0.8970 - val_accuracy: 0.7436\n",
            "Epoch 37/200\n",
            "12/12 - 1s - loss: 0.6755 - accuracy: 0.7584 - val_loss: 0.9326 - val_accuracy: 0.7376\n",
            "Epoch 38/200\n",
            "12/12 - 1s - loss: 0.6632 - accuracy: 0.7567 - val_loss: 0.9250 - val_accuracy: 0.7330\n",
            "Epoch 39/200\n",
            "12/12 - 1s - loss: 0.6479 - accuracy: 0.7621 - val_loss: 0.8900 - val_accuracy: 0.7255\n",
            "Epoch 40/200\n",
            "12/12 - 1s - loss: 0.6365 - accuracy: 0.7752 - val_loss: 0.9467 - val_accuracy: 0.7345\n",
            "Epoch 41/200\n",
            "12/12 - 1s - loss: 0.6202 - accuracy: 0.7681 - val_loss: 0.9511 - val_accuracy: 0.7391\n",
            "Epoch 42/200\n",
            "12/12 - 1s - loss: 0.6032 - accuracy: 0.7779 - val_loss: 0.9225 - val_accuracy: 0.7345\n",
            "Epoch 43/200\n",
            "12/12 - 1s - loss: 0.6022 - accuracy: 0.7810 - val_loss: 0.9254 - val_accuracy: 0.7300\n",
            "Epoch 44/200\n",
            "12/12 - 1s - loss: 0.5749 - accuracy: 0.7874 - val_loss: 1.0455 - val_accuracy: 0.7014\n",
            "Epoch 45/200\n",
            "12/12 - 1s - loss: 0.5738 - accuracy: 0.7840 - val_loss: 0.9755 - val_accuracy: 0.7255\n",
            "Epoch 46/200\n",
            "12/12 - 1s - loss: 0.5466 - accuracy: 0.8029 - val_loss: 1.0538 - val_accuracy: 0.7014\n",
            "Epoch 47/200\n",
            "12/12 - 1s - loss: 0.5301 - accuracy: 0.8032 - val_loss: 1.0173 - val_accuracy: 0.7240\n",
            "Epoch 48/200\n",
            "12/12 - 1s - loss: 0.5196 - accuracy: 0.8093 - val_loss: 1.0707 - val_accuracy: 0.7300\n",
            "Epoch 49/200\n",
            "12/12 - 1s - loss: 0.5200 - accuracy: 0.8049 - val_loss: 1.0054 - val_accuracy: 0.7255\n",
            "Epoch 50/200\n",
            "12/12 - 1s - loss: 0.5372 - accuracy: 0.8053 - val_loss: 0.9878 - val_accuracy: 0.7014\n",
            "Epoch 51/200\n",
            "12/12 - 1s - loss: 0.4899 - accuracy: 0.8232 - val_loss: 1.1158 - val_accuracy: 0.6305\n",
            "Epoch 52/200\n",
            "12/12 - 1s - loss: 0.4660 - accuracy: 0.8296 - val_loss: 1.1225 - val_accuracy: 0.7225\n",
            "Epoch 53/200\n",
            "12/12 - 1s - loss: 0.4506 - accuracy: 0.8363 - val_loss: 1.1140 - val_accuracy: 0.6259\n",
            "Epoch 54/200\n",
            "12/12 - 1s - loss: 0.4383 - accuracy: 0.8441 - val_loss: 1.2016 - val_accuracy: 0.6124\n",
            "Epoch 55/200\n",
            "12/12 - 1s - loss: 0.4452 - accuracy: 0.8377 - val_loss: 1.1542 - val_accuracy: 0.6259\n",
            "Epoch 56/200\n",
            "12/12 - 1s - loss: 0.4250 - accuracy: 0.8481 - val_loss: 1.2123 - val_accuracy: 0.6893\n",
            "Epoch 57/200\n",
            "12/12 - 1s - loss: 0.3969 - accuracy: 0.8593 - val_loss: 1.1489 - val_accuracy: 0.6863\n",
            "Epoch 58/200\n",
            "12/12 - 1s - loss: 0.3976 - accuracy: 0.8471 - val_loss: 1.2437 - val_accuracy: 0.6878\n",
            "Epoch 59/200\n",
            "12/12 - 1s - loss: 0.3946 - accuracy: 0.8566 - val_loss: 1.1818 - val_accuracy: 0.6501\n",
            "Epoch 60/200\n",
            "12/12 - 1s - loss: 0.3481 - accuracy: 0.8751 - val_loss: 1.2586 - val_accuracy: 0.6606\n",
            "Epoch 61/200\n",
            "12/12 - 1s - loss: 0.3475 - accuracy: 0.8772 - val_loss: 1.2821 - val_accuracy: 0.7059\n",
            "Epoch 62/200\n",
            "12/12 - 1s - loss: 0.3354 - accuracy: 0.8758 - val_loss: 1.2703 - val_accuracy: 0.6501\n",
            "Epoch 63/200\n",
            "12/12 - 1s - loss: 0.3294 - accuracy: 0.8815 - val_loss: 1.2841 - val_accuracy: 0.6938\n",
            "Epoch 64/200\n",
            "12/12 - 1s - loss: 0.3361 - accuracy: 0.8758 - val_loss: 1.4206 - val_accuracy: 0.7134\n",
            "Epoch 65/200\n",
            "12/12 - 1s - loss: 0.3765 - accuracy: 0.8616 - val_loss: 1.2592 - val_accuracy: 0.7074\n",
            "Epoch 66/200\n",
            "12/12 - 1s - loss: 0.3070 - accuracy: 0.8907 - val_loss: 1.3689 - val_accuracy: 0.6787\n",
            "Epoch 67/200\n",
            "12/12 - 1s - loss: 0.2633 - accuracy: 0.9102 - val_loss: 1.4384 - val_accuracy: 0.6817\n",
            "Epoch 68/200\n",
            "12/12 - 1s - loss: 0.2810 - accuracy: 0.9025 - val_loss: 1.4190 - val_accuracy: 0.6863\n",
            "Epoch 69/200\n",
            "12/12 - 1s - loss: 0.2733 - accuracy: 0.9021 - val_loss: 1.5028 - val_accuracy: 0.6863\n",
            "Epoch 70/200\n",
            "12/12 - 1s - loss: 0.2737 - accuracy: 0.9021 - val_loss: 1.3403 - val_accuracy: 0.6516\n",
            "Epoch 71/200\n",
            "12/12 - 1s - loss: 0.2689 - accuracy: 0.9058 - val_loss: 1.5671 - val_accuracy: 0.6998\n",
            "Epoch 72/200\n",
            "12/12 - 1s - loss: 0.2610 - accuracy: 0.9058 - val_loss: 1.5776 - val_accuracy: 0.6953\n",
            "Epoch 73/200\n",
            "12/12 - 1s - loss: 0.2487 - accuracy: 0.9062 - val_loss: 1.5414 - val_accuracy: 0.6712\n",
            "Epoch 74/200\n",
            "12/12 - 1s - loss: 0.2166 - accuracy: 0.9241 - val_loss: 1.5595 - val_accuracy: 0.6229\n",
            "Epoch 75/200\n",
            "12/12 - 1s - loss: 0.2069 - accuracy: 0.9274 - val_loss: 1.5066 - val_accuracy: 0.6848\n",
            "Epoch 76/200\n",
            "12/12 - 1s - loss: 0.2137 - accuracy: 0.9251 - val_loss: 1.6966 - val_accuracy: 0.7029\n",
            "Epoch 77/200\n",
            "12/12 - 1s - loss: 0.2252 - accuracy: 0.9258 - val_loss: 1.5601 - val_accuracy: 0.6395\n",
            "Epoch 78/200\n",
            "12/12 - 1s - loss: 0.1919 - accuracy: 0.9362 - val_loss: 1.5166 - val_accuracy: 0.6501\n",
            "Epoch 79/200\n",
            "12/12 - 1s - loss: 0.1717 - accuracy: 0.9447 - val_loss: 1.6132 - val_accuracy: 0.6697\n",
            "Epoch 80/200\n",
            "12/12 - 1s - loss: 0.1807 - accuracy: 0.9382 - val_loss: 1.7154 - val_accuracy: 0.6802\n",
            "Epoch 81/200\n",
            "12/12 - 1s - loss: 0.1828 - accuracy: 0.9379 - val_loss: 1.7158 - val_accuracy: 0.6878\n",
            "Epoch 82/200\n",
            "12/12 - 1s - loss: 0.1754 - accuracy: 0.9440 - val_loss: 1.5798 - val_accuracy: 0.6727\n",
            "Epoch 83/200\n",
            "12/12 - 1s - loss: 0.1790 - accuracy: 0.9386 - val_loss: 1.7258 - val_accuracy: 0.6863\n",
            "Epoch 84/200\n",
            "12/12 - 1s - loss: 0.1948 - accuracy: 0.9305 - val_loss: 1.7146 - val_accuracy: 0.6621\n",
            "Epoch 85/200\n",
            "12/12 - 1s - loss: 0.1722 - accuracy: 0.9423 - val_loss: 1.6068 - val_accuracy: 0.6727\n",
            "Epoch 86/200\n",
            "12/12 - 1s - loss: 0.1477 - accuracy: 0.9494 - val_loss: 1.7738 - val_accuracy: 0.6697\n",
            "Epoch 87/200\n",
            "12/12 - 1s - loss: 0.1356 - accuracy: 0.9548 - val_loss: 1.9100 - val_accuracy: 0.6727\n",
            "Epoch 88/200\n",
            "12/12 - 1s - loss: 0.1266 - accuracy: 0.9598 - val_loss: 1.8625 - val_accuracy: 0.6923\n",
            "Epoch 89/200\n",
            "12/12 - 1s - loss: 0.1100 - accuracy: 0.9632 - val_loss: 1.9297 - val_accuracy: 0.6531\n",
            "Epoch 90/200\n",
            "12/12 - 1s - loss: 0.1440 - accuracy: 0.9494 - val_loss: 1.7423 - val_accuracy: 0.6923\n",
            "Epoch 91/200\n",
            "12/12 - 1s - loss: 0.1343 - accuracy: 0.9585 - val_loss: 1.8386 - val_accuracy: 0.6335\n",
            "Epoch 92/200\n",
            "12/12 - 1s - loss: 0.1369 - accuracy: 0.9544 - val_loss: 1.8492 - val_accuracy: 0.6863\n",
            "Epoch 93/200\n",
            "12/12 - 1s - loss: 0.1227 - accuracy: 0.9598 - val_loss: 1.8704 - val_accuracy: 0.6486\n",
            "Epoch 94/200\n",
            "12/12 - 1s - loss: 0.1079 - accuracy: 0.9679 - val_loss: 1.8700 - val_accuracy: 0.6169\n",
            "Epoch 95/200\n",
            "12/12 - 1s - loss: 0.1115 - accuracy: 0.9649 - val_loss: 1.8353 - val_accuracy: 0.6908\n",
            "Epoch 96/200\n",
            "12/12 - 1s - loss: 0.1138 - accuracy: 0.9632 - val_loss: 1.8255 - val_accuracy: 0.6712\n",
            "Epoch 97/200\n",
            "12/12 - 1s - loss: 0.1186 - accuracy: 0.9602 - val_loss: 2.0347 - val_accuracy: 0.6727\n",
            "Epoch 98/200\n",
            "12/12 - 1s - loss: 0.1196 - accuracy: 0.9582 - val_loss: 1.9405 - val_accuracy: 0.6772\n",
            "Epoch 99/200\n",
            "12/12 - 1s - loss: 0.1034 - accuracy: 0.9646 - val_loss: 1.9753 - val_accuracy: 0.6863\n",
            "Epoch 100/200\n",
            "12/12 - 1s - loss: 0.1214 - accuracy: 0.9598 - val_loss: 2.0443 - val_accuracy: 0.6576\n",
            "Epoch 101/200\n",
            "12/12 - 1s - loss: 0.1039 - accuracy: 0.9663 - val_loss: 1.9602 - val_accuracy: 0.6938\n",
            "Epoch 102/200\n",
            "12/12 - 1s - loss: 0.1167 - accuracy: 0.9598 - val_loss: 1.7731 - val_accuracy: 0.6380\n",
            "Epoch 103/200\n",
            "12/12 - 1s - loss: 0.0926 - accuracy: 0.9690 - val_loss: 1.9454 - val_accuracy: 0.6697\n",
            "Epoch 104/200\n",
            "12/12 - 1s - loss: 0.0776 - accuracy: 0.9740 - val_loss: 1.9538 - val_accuracy: 0.6501\n",
            "Epoch 105/200\n",
            "12/12 - 1s - loss: 0.0827 - accuracy: 0.9723 - val_loss: 2.1011 - val_accuracy: 0.6576\n",
            "Epoch 106/200\n",
            "12/12 - 1s - loss: 0.0998 - accuracy: 0.9652 - val_loss: 1.9852 - val_accuracy: 0.6787\n",
            "Epoch 107/200\n",
            "12/12 - 1s - loss: 0.0864 - accuracy: 0.9690 - val_loss: 1.9243 - val_accuracy: 0.6546\n",
            "Epoch 108/200\n",
            "12/12 - 1s - loss: 0.0880 - accuracy: 0.9723 - val_loss: 1.9043 - val_accuracy: 0.6425\n",
            "Epoch 109/200\n",
            "12/12 - 1s - loss: 0.0842 - accuracy: 0.9754 - val_loss: 1.9857 - val_accuracy: 0.6923\n",
            "Epoch 110/200\n",
            "12/12 - 1s - loss: 0.0845 - accuracy: 0.9760 - val_loss: 2.1465 - val_accuracy: 0.6471\n",
            "Epoch 111/200\n",
            "12/12 - 1s - loss: 0.0801 - accuracy: 0.9757 - val_loss: 2.0573 - val_accuracy: 0.6516\n",
            "Epoch 112/200\n",
            "12/12 - 1s - loss: 0.0833 - accuracy: 0.9757 - val_loss: 2.0374 - val_accuracy: 0.6863\n",
            "Epoch 113/200\n",
            "12/12 - 1s - loss: 0.0710 - accuracy: 0.9771 - val_loss: 2.0221 - val_accuracy: 0.6893\n",
            "Epoch 114/200\n",
            "12/12 - 1s - loss: 0.0796 - accuracy: 0.9744 - val_loss: 2.0945 - val_accuracy: 0.6637\n",
            "Epoch 115/200\n",
            "12/12 - 1s - loss: 0.0661 - accuracy: 0.9801 - val_loss: 2.1438 - val_accuracy: 0.6923\n",
            "Epoch 116/200\n",
            "12/12 - 1s - loss: 0.0806 - accuracy: 0.9757 - val_loss: 2.0041 - val_accuracy: 0.6893\n",
            "Epoch 117/200\n",
            "12/12 - 1s - loss: 0.0828 - accuracy: 0.9723 - val_loss: 2.1704 - val_accuracy: 0.6787\n",
            "Epoch 118/200\n",
            "12/12 - 1s - loss: 0.0761 - accuracy: 0.9760 - val_loss: 1.9990 - val_accuracy: 0.6817\n",
            "Epoch 119/200\n",
            "12/12 - 1s - loss: 0.0766 - accuracy: 0.9744 - val_loss: 2.0558 - val_accuracy: 0.6757\n",
            "Epoch 120/200\n",
            "12/12 - 1s - loss: 0.0673 - accuracy: 0.9771 - val_loss: 2.1997 - val_accuracy: 0.6621\n",
            "Epoch 121/200\n",
            "12/12 - 1s - loss: 0.0704 - accuracy: 0.9784 - val_loss: 2.1101 - val_accuracy: 0.6848\n",
            "Epoch 122/200\n",
            "12/12 - 1s - loss: 0.0656 - accuracy: 0.9801 - val_loss: 2.1143 - val_accuracy: 0.6682\n",
            "Epoch 123/200\n",
            "12/12 - 1s - loss: 0.0519 - accuracy: 0.9825 - val_loss: 2.2898 - val_accuracy: 0.6968\n",
            "Epoch 124/200\n",
            "12/12 - 1s - loss: 0.0507 - accuracy: 0.9848 - val_loss: 2.2934 - val_accuracy: 0.6621\n",
            "Epoch 125/200\n",
            "12/12 - 1s - loss: 0.0532 - accuracy: 0.9821 - val_loss: 2.3379 - val_accuracy: 0.6531\n",
            "Epoch 126/200\n",
            "12/12 - 1s - loss: 0.0631 - accuracy: 0.9787 - val_loss: 2.3878 - val_accuracy: 0.6531\n",
            "Epoch 127/200\n",
            "12/12 - 1s - loss: 0.0695 - accuracy: 0.9787 - val_loss: 2.2234 - val_accuracy: 0.6501\n",
            "Epoch 128/200\n",
            "12/12 - 1s - loss: 0.0625 - accuracy: 0.9794 - val_loss: 2.1620 - val_accuracy: 0.6606\n",
            "Epoch 129/200\n",
            "12/12 - 1s - loss: 0.0461 - accuracy: 0.9848 - val_loss: 2.3493 - val_accuracy: 0.6682\n",
            "Epoch 130/200\n",
            "12/12 - 1s - loss: 0.0563 - accuracy: 0.9825 - val_loss: 2.4431 - val_accuracy: 0.6727\n",
            "Epoch 131/200\n",
            "12/12 - 1s - loss: 0.0584 - accuracy: 0.9804 - val_loss: 2.2706 - val_accuracy: 0.6817\n",
            "Epoch 132/200\n",
            "12/12 - 1s - loss: 0.0610 - accuracy: 0.9787 - val_loss: 2.4271 - val_accuracy: 0.6878\n",
            "Epoch 133/200\n",
            "12/12 - 1s - loss: 0.0640 - accuracy: 0.9804 - val_loss: 2.3140 - val_accuracy: 0.6878\n",
            "Epoch 134/200\n",
            "12/12 - 1s - loss: 0.0605 - accuracy: 0.9798 - val_loss: 2.3399 - val_accuracy: 0.6637\n",
            "Epoch 135/200\n",
            "12/12 - 1s - loss: 0.0615 - accuracy: 0.9828 - val_loss: 2.2284 - val_accuracy: 0.6440\n",
            "Epoch 136/200\n",
            "12/12 - 1s - loss: 0.0594 - accuracy: 0.9818 - val_loss: 2.2426 - val_accuracy: 0.6682\n",
            "Epoch 137/200\n",
            "12/12 - 1s - loss: 0.0504 - accuracy: 0.9828 - val_loss: 2.1666 - val_accuracy: 0.6968\n",
            "Epoch 138/200\n",
            "12/12 - 1s - loss: 0.0384 - accuracy: 0.9885 - val_loss: 2.4614 - val_accuracy: 0.6878\n",
            "Epoch 139/200\n",
            "12/12 - 1s - loss: 0.0504 - accuracy: 0.9838 - val_loss: 2.4416 - val_accuracy: 0.6727\n",
            "Epoch 140/200\n",
            "12/12 - 1s - loss: 0.0477 - accuracy: 0.9858 - val_loss: 2.3170 - val_accuracy: 0.6682\n",
            "Epoch 141/200\n",
            "12/12 - 1s - loss: 0.0443 - accuracy: 0.9858 - val_loss: 2.4548 - val_accuracy: 0.6637\n",
            "Epoch 142/200\n",
            "12/12 - 1s - loss: 0.0452 - accuracy: 0.9865 - val_loss: 2.3406 - val_accuracy: 0.6652\n",
            "Epoch 143/200\n",
            "12/12 - 1s - loss: 0.0401 - accuracy: 0.9868 - val_loss: 2.3442 - val_accuracy: 0.6440\n",
            "Epoch 144/200\n",
            "12/12 - 1s - loss: 0.0439 - accuracy: 0.9848 - val_loss: 2.3710 - val_accuracy: 0.6908\n",
            "Epoch 145/200\n",
            "12/12 - 1s - loss: 0.0394 - accuracy: 0.9882 - val_loss: 2.4426 - val_accuracy: 0.6456\n",
            "Epoch 146/200\n",
            "12/12 - 1s - loss: 0.0652 - accuracy: 0.9757 - val_loss: 2.1184 - val_accuracy: 0.6682\n",
            "Epoch 147/200\n",
            "12/12 - 1s - loss: 0.0722 - accuracy: 0.9744 - val_loss: 2.3138 - val_accuracy: 0.7014\n",
            "Epoch 148/200\n",
            "12/12 - 1s - loss: 0.0608 - accuracy: 0.9787 - val_loss: 2.1833 - val_accuracy: 0.6591\n",
            "Epoch 149/200\n",
            "12/12 - 1s - loss: 0.0630 - accuracy: 0.9794 - val_loss: 2.1834 - val_accuracy: 0.6938\n",
            "Epoch 150/200\n",
            "12/12 - 1s - loss: 0.0418 - accuracy: 0.9865 - val_loss: 2.3523 - val_accuracy: 0.6712\n",
            "Epoch 151/200\n",
            "12/12 - 1s - loss: 0.0428 - accuracy: 0.9848 - val_loss: 2.5577 - val_accuracy: 0.6380\n",
            "Epoch 152/200\n",
            "12/12 - 1s - loss: 0.0592 - accuracy: 0.9814 - val_loss: 2.2165 - val_accuracy: 0.6486\n",
            "Epoch 153/200\n",
            "12/12 - 1s - loss: 0.0516 - accuracy: 0.9868 - val_loss: 2.4537 - val_accuracy: 0.6606\n",
            "Epoch 154/200\n",
            "12/12 - 1s - loss: 0.0408 - accuracy: 0.9875 - val_loss: 2.4533 - val_accuracy: 0.6501\n",
            "Epoch 155/200\n",
            "12/12 - 1s - loss: 0.0442 - accuracy: 0.9868 - val_loss: 2.4866 - val_accuracy: 0.6576\n",
            "Epoch 156/200\n",
            "12/12 - 1s - loss: 0.0430 - accuracy: 0.9862 - val_loss: 2.5124 - val_accuracy: 0.6893\n",
            "Epoch 157/200\n",
            "12/12 - 1s - loss: 0.0482 - accuracy: 0.9838 - val_loss: 2.3926 - val_accuracy: 0.6667\n",
            "Epoch 158/200\n",
            "12/12 - 1s - loss: 0.0419 - accuracy: 0.9848 - val_loss: 2.3886 - val_accuracy: 0.6486\n",
            "Epoch 159/200\n",
            "12/12 - 1s - loss: 0.0369 - accuracy: 0.9885 - val_loss: 2.3678 - val_accuracy: 0.6606\n",
            "Epoch 160/200\n",
            "12/12 - 1s - loss: 0.0340 - accuracy: 0.9895 - val_loss: 2.3899 - val_accuracy: 0.6516\n",
            "Epoch 161/200\n",
            "12/12 - 1s - loss: 0.0321 - accuracy: 0.9895 - val_loss: 2.4730 - val_accuracy: 0.6591\n",
            "Epoch 162/200\n",
            "12/12 - 1s - loss: 0.0292 - accuracy: 0.9922 - val_loss: 2.5540 - val_accuracy: 0.6682\n",
            "Epoch 163/200\n",
            "12/12 - 1s - loss: 0.0397 - accuracy: 0.9862 - val_loss: 2.5259 - val_accuracy: 0.6637\n",
            "Epoch 164/200\n",
            "12/12 - 1s - loss: 0.0565 - accuracy: 0.9825 - val_loss: 2.5215 - val_accuracy: 0.6878\n",
            "Epoch 165/200\n",
            "12/12 - 1s - loss: 0.0550 - accuracy: 0.9804 - val_loss: 2.3648 - val_accuracy: 0.6953\n",
            "Epoch 166/200\n",
            "12/12 - 1s - loss: 0.0317 - accuracy: 0.9902 - val_loss: 2.5342 - val_accuracy: 0.6938\n",
            "Epoch 167/200\n",
            "12/12 - 1s - loss: 0.0300 - accuracy: 0.9895 - val_loss: 2.4681 - val_accuracy: 0.6591\n",
            "Epoch 168/200\n",
            "12/12 - 1s - loss: 0.0248 - accuracy: 0.9936 - val_loss: 2.5651 - val_accuracy: 0.6772\n",
            "Epoch 169/200\n",
            "12/12 - 1s - loss: 0.0438 - accuracy: 0.9858 - val_loss: 2.4852 - val_accuracy: 0.6757\n",
            "Epoch 170/200\n",
            "12/12 - 1s - loss: 0.0404 - accuracy: 0.9855 - val_loss: 2.4176 - val_accuracy: 0.6923\n",
            "Epoch 171/200\n",
            "12/12 - 1s - loss: 0.0379 - accuracy: 0.9875 - val_loss: 2.4665 - val_accuracy: 0.6848\n",
            "Epoch 172/200\n",
            "12/12 - 1s - loss: 0.0365 - accuracy: 0.9885 - val_loss: 2.4668 - val_accuracy: 0.6863\n",
            "Epoch 173/200\n",
            "12/12 - 1s - loss: 0.0263 - accuracy: 0.9922 - val_loss: 2.5068 - val_accuracy: 0.6817\n",
            "Epoch 174/200\n",
            "12/12 - 1s - loss: 0.0270 - accuracy: 0.9916 - val_loss: 2.5475 - val_accuracy: 0.6802\n",
            "Epoch 175/200\n",
            "12/12 - 1s - loss: 0.0274 - accuracy: 0.9912 - val_loss: 2.5365 - val_accuracy: 0.6953\n",
            "Epoch 176/200\n",
            "12/12 - 1s - loss: 0.0343 - accuracy: 0.9902 - val_loss: 2.4644 - val_accuracy: 0.7014\n",
            "Epoch 177/200\n",
            "12/12 - 1s - loss: 0.0416 - accuracy: 0.9885 - val_loss: 2.6996 - val_accuracy: 0.7059\n",
            "Epoch 178/200\n",
            "12/12 - 1s - loss: 0.0409 - accuracy: 0.9868 - val_loss: 2.3566 - val_accuracy: 0.6802\n",
            "Epoch 179/200\n",
            "12/12 - 1s - loss: 0.0373 - accuracy: 0.9895 - val_loss: 2.5491 - val_accuracy: 0.6652\n",
            "Epoch 180/200\n",
            "12/12 - 1s - loss: 0.0304 - accuracy: 0.9899 - val_loss: 2.4809 - val_accuracy: 0.6802\n",
            "Epoch 181/200\n",
            "12/12 - 1s - loss: 0.0296 - accuracy: 0.9902 - val_loss: 2.6291 - val_accuracy: 0.6621\n",
            "Epoch 182/200\n",
            "12/12 - 1s - loss: 0.0336 - accuracy: 0.9885 - val_loss: 2.6398 - val_accuracy: 0.6833\n",
            "Epoch 183/200\n",
            "12/12 - 1s - loss: 0.0331 - accuracy: 0.9902 - val_loss: 2.6001 - val_accuracy: 0.6667\n",
            "Epoch 184/200\n",
            "12/12 - 1s - loss: 0.0356 - accuracy: 0.9889 - val_loss: 2.5084 - val_accuracy: 0.6848\n",
            "Epoch 185/200\n",
            "12/12 - 1s - loss: 0.0258 - accuracy: 0.9912 - val_loss: 2.5210 - val_accuracy: 0.6561\n",
            "Epoch 186/200\n",
            "12/12 - 1s - loss: 0.0260 - accuracy: 0.9906 - val_loss: 2.5452 - val_accuracy: 0.6848\n",
            "Epoch 187/200\n",
            "12/12 - 1s - loss: 0.0407 - accuracy: 0.9875 - val_loss: 2.7596 - val_accuracy: 0.6817\n",
            "Epoch 188/200\n",
            "12/12 - 1s - loss: 0.0447 - accuracy: 0.9855 - val_loss: 2.6367 - val_accuracy: 0.6998\n",
            "Epoch 189/200\n",
            "12/12 - 1s - loss: 0.0365 - accuracy: 0.9895 - val_loss: 2.4878 - val_accuracy: 0.6923\n",
            "Epoch 190/200\n",
            "12/12 - 1s - loss: 0.0318 - accuracy: 0.9909 - val_loss: 2.4166 - val_accuracy: 0.6757\n",
            "Epoch 191/200\n",
            "12/12 - 1s - loss: 0.0315 - accuracy: 0.9909 - val_loss: 2.5845 - val_accuracy: 0.6652\n",
            "Epoch 192/200\n",
            "12/12 - 1s - loss: 0.0302 - accuracy: 0.9906 - val_loss: 2.6674 - val_accuracy: 0.6893\n",
            "Epoch 193/200\n",
            "12/12 - 1s - loss: 0.0365 - accuracy: 0.9868 - val_loss: 2.5803 - val_accuracy: 0.6742\n",
            "Epoch 194/200\n",
            "12/12 - 1s - loss: 0.0340 - accuracy: 0.9899 - val_loss: 2.4817 - val_accuracy: 0.6712\n",
            "Epoch 195/200\n",
            "12/12 - 1s - loss: 0.0420 - accuracy: 0.9889 - val_loss: 2.5369 - val_accuracy: 0.6787\n",
            "Epoch 196/200\n",
            "12/12 - 1s - loss: 0.0369 - accuracy: 0.9875 - val_loss: 2.5583 - val_accuracy: 0.6606\n",
            "Epoch 197/200\n",
            "12/12 - 1s - loss: 0.0347 - accuracy: 0.9868 - val_loss: 2.3768 - val_accuracy: 0.6742\n",
            "Epoch 198/200\n",
            "12/12 - 1s - loss: 0.0285 - accuracy: 0.9919 - val_loss: 2.6327 - val_accuracy: 0.6606\n",
            "Epoch 199/200\n",
            "12/12 - 1s - loss: 0.0264 - accuracy: 0.9929 - val_loss: 2.6830 - val_accuracy: 0.6606\n",
            "Epoch 200/200\n",
            "12/12 - 1s - loss: 0.0229 - accuracy: 0.9943 - val_loss: 2.6375 - val_accuracy: 0.6652\n"
          ],
          "name": "stdout"
        },
        {
          "output_type": "execute_result",
          "data": {
            "text/plain": [
              "<tensorflow.python.keras.callbacks.History at 0x7f5030158e10>"
            ]
          },
          "metadata": {
            "tags": []
          },
          "execution_count": 33
        }
      ]
    },
    {
      "cell_type": "code",
      "metadata": {
        "id": "vBrmzcbUzoVk",
        "outputId": "71e4813a-7384-4da2-cb72-76d005fb504c",
        "colab": {
          "base_uri": "https://localhost:8080/",
          "height": 162
        }
      },
      "source": [
        "predictions_test = model.predict(X_test)\n",
        "\n",
        "predictions_test"
      ],
      "execution_count": 34,
      "outputs": [
        {
          "output_type": "execute_result",
          "data": {
            "text/plain": [
              "array([[9.07296169e-07, 9.98574376e-01, 1.34397515e-05, 1.41122902e-03],\n",
              "       [1.25101160e-05, 3.57794692e-04, 4.46728154e-06, 9.99625206e-01],\n",
              "       [7.89492130e-01, 1.56375691e-01, 3.37158745e-05, 5.40984944e-02],\n",
              "       ...,\n",
              "       [7.81415962e-03, 9.91676569e-01, 7.95993947e-06, 5.01352013e-04],\n",
              "       [1.57924558e-04, 9.77584302e-01, 2.20342260e-02, 2.23538751e-04],\n",
              "       [3.78388104e-05, 9.99937415e-01, 2.10166290e-05, 3.72095815e-06]],\n",
              "      dtype=float32)"
            ]
          },
          "metadata": {
            "tags": []
          },
          "execution_count": 34
        }
      ]
    },
    {
      "cell_type": "code",
      "metadata": {
        "id": "UX-ZHCKEJhUo"
      },
      "source": [
        "pred_test=np.zeros_like(predictions_test)\n",
        "pred_test[np.arange(len(predictions_test)),predictions_test.argmax(1)]=1\n",
        "output_DataFrame=pd.DataFrame(pred_test.argmax(axis=1),index=df1.index)\n",
        "# output_DataFrame[0]=output_DataFrame[0].map({0:'NGEN',1:'GEN'})\n",
        "# output_DataFrame.to_csv(\"German Task2 output.csv\")"
      ],
      "execution_count": 35,
      "outputs": []
    },
    {
      "cell_type": "code",
      "metadata": {
        "id": "cUER0UFFJBwL",
        "outputId": "d459a95f-8d18-4047-c0b3-58710ea35fc5",
        "colab": {
          "base_uri": "https://localhost:8080/",
          "height": 235
        }
      },
      "source": [
        "from sklearn.metrics import classification_report\n",
        "print(classification_report(y_test,pred_test))"
      ],
      "execution_count": 36,
      "outputs": [
        {
          "output_type": "stream",
          "text": [
            "              precision    recall  f1-score   support\n",
            "\n",
            "           0       0.25      0.13      0.17        87\n",
            "           1       0.77      0.86      0.81       493\n",
            "           2       0.14      0.11      0.12        27\n",
            "           3       0.06      0.05      0.06        56\n",
            "\n",
            "   micro avg       0.67      0.67      0.67       663\n",
            "   macro avg       0.31      0.29      0.29       663\n",
            "weighted avg       0.62      0.67      0.64       663\n",
            " samples avg       0.67      0.67      0.67       663\n",
            "\n"
          ],
          "name": "stdout"
        }
      ]
    },
    {
      "cell_type": "code",
      "metadata": {
        "id": "TpHjSsbhJBqB"
      },
      "source": [
        ""
      ],
      "execution_count": null,
      "outputs": []
    },
    {
      "cell_type": "code",
      "metadata": {
        "id": "yegAtJpNQkH7"
      },
      "source": [
        ""
      ],
      "execution_count": null,
      "outputs": []
    },
    {
      "cell_type": "code",
      "metadata": {
        "id": "hS19jpAgR2C7"
      },
      "source": [
        ""
      ],
      "execution_count": null,
      "outputs": []
    },
    {
      "cell_type": "code",
      "metadata": {
        "id": "LoSU3QdYsDm8"
      },
      "source": [
        ""
      ],
      "execution_count": null,
      "outputs": []
    },
    {
      "cell_type": "code",
      "metadata": {
        "id": "B0nhXigFsSn7"
      },
      "source": [
        ""
      ],
      "execution_count": null,
      "outputs": []
    },
    {
      "cell_type": "code",
      "metadata": {
        "id": "d5f_dS5pvked"
      },
      "source": [
        ""
      ],
      "execution_count": null,
      "outputs": []
    },
    {
      "cell_type": "code",
      "metadata": {
        "id": "NJFoNNuGvkel"
      },
      "source": [
        ""
      ],
      "execution_count": null,
      "outputs": []
    },
    {
      "cell_type": "code",
      "metadata": {
        "id": "Z1EcYx1bvken"
      },
      "source": [
        ""
      ],
      "execution_count": null,
      "outputs": []
    },
    {
      "cell_type": "code",
      "metadata": {
        "id": "3FTSGF3mvkeq"
      },
      "source": [
        ""
      ],
      "execution_count": null,
      "outputs": []
    },
    {
      "cell_type": "code",
      "metadata": {
        "id": "LPxqq_peyMit",
        "outputId": "49b115d8-fafc-41ab-c82a-202160b2b904",
        "colab": {
          "base_uri": "https://localhost:8080/",
          "height": 424
        }
      },
      "source": [
        "  df3=df1[['tweet_id','ID']]\n",
        "  df3"
      ],
      "execution_count": 37,
      "outputs": [
        {
          "output_type": "execute_result",
          "data": {
            "text/html": [
              "<div>\n",
              "<style scoped>\n",
              "    .dataframe tbody tr th:only-of-type {\n",
              "        vertical-align: middle;\n",
              "    }\n",
              "\n",
              "    .dataframe tbody tr th {\n",
              "        vertical-align: top;\n",
              "    }\n",
              "\n",
              "    .dataframe thead th {\n",
              "        text-align: right;\n",
              "    }\n",
              "</style>\n",
              "<table border=\"1\" class=\"dataframe\">\n",
              "  <thead>\n",
              "    <tr style=\"text-align: right;\">\n",
              "      <th></th>\n",
              "      <th>tweet_id</th>\n",
              "      <th>ID</th>\n",
              "    </tr>\n",
              "  </thead>\n",
              "  <tbody>\n",
              "    <tr>\n",
              "      <th>0</th>\n",
              "      <td>1127781647783301120</td>\n",
              "      <td>hasoc_2020_hi_1938</td>\n",
              "    </tr>\n",
              "    <tr>\n",
              "      <th>1</th>\n",
              "      <td>1127492853171535872</td>\n",
              "      <td>hasoc_2020_hi_1201</td>\n",
              "    </tr>\n",
              "    <tr>\n",
              "      <th>2</th>\n",
              "      <td>1123638375896903681</td>\n",
              "      <td>hasoc_2020_hi_1628</td>\n",
              "    </tr>\n",
              "    <tr>\n",
              "      <th>3</th>\n",
              "      <td>1127496460310683648</td>\n",
              "      <td>hasoc_2020_hi_3257</td>\n",
              "    </tr>\n",
              "    <tr>\n",
              "      <th>4</th>\n",
              "      <td>1127667277535399937</td>\n",
              "      <td>hasoc_2020_hi_4133</td>\n",
              "    </tr>\n",
              "    <tr>\n",
              "      <th>...</th>\n",
              "      <td>...</td>\n",
              "      <td>...</td>\n",
              "    </tr>\n",
              "    <tr>\n",
              "      <th>658</th>\n",
              "      <td>1123814066907242503</td>\n",
              "      <td>hasoc_2020_hi_466</td>\n",
              "    </tr>\n",
              "    <tr>\n",
              "      <th>659</th>\n",
              "      <td>1127616035689979904</td>\n",
              "      <td>hasoc_2020_hi_1758</td>\n",
              "    </tr>\n",
              "    <tr>\n",
              "      <th>660</th>\n",
              "      <td>1127502823044702208</td>\n",
              "      <td>hasoc_2020_hi_3521</td>\n",
              "    </tr>\n",
              "    <tr>\n",
              "      <th>661</th>\n",
              "      <td>1127780829914992640</td>\n",
              "      <td>hasoc_2020_hi_1293</td>\n",
              "    </tr>\n",
              "    <tr>\n",
              "      <th>662</th>\n",
              "      <td>1127465619580788737</td>\n",
              "      <td>hasoc_2020_hi_3279</td>\n",
              "    </tr>\n",
              "  </tbody>\n",
              "</table>\n",
              "<p>663 rows × 2 columns</p>\n",
              "</div>"
            ],
            "text/plain": [
              "                tweet_id                  ID\n",
              "0    1127781647783301120  hasoc_2020_hi_1938\n",
              "1    1127492853171535872  hasoc_2020_hi_1201\n",
              "2    1123638375896903681  hasoc_2020_hi_1628\n",
              "3    1127496460310683648  hasoc_2020_hi_3257\n",
              "4    1127667277535399937  hasoc_2020_hi_4133\n",
              "..                   ...                 ...\n",
              "658  1123814066907242503   hasoc_2020_hi_466\n",
              "659  1127616035689979904  hasoc_2020_hi_1758\n",
              "660  1127502823044702208  hasoc_2020_hi_3521\n",
              "661  1127780829914992640  hasoc_2020_hi_1293\n",
              "662  1127465619580788737  hasoc_2020_hi_3279\n",
              "\n",
              "[663 rows x 2 columns]"
            ]
          },
          "metadata": {
            "tags": []
          },
          "execution_count": 37
        }
      ]
    },
    {
      "cell_type": "code",
      "metadata": {
        "id": "cElsBncyxGdj",
        "outputId": "fb1c8b0b-2986-4ce2-b10e-a5e735e4ad1d",
        "colab": {
          "base_uri": "https://localhost:8080/",
          "height": 235
        }
      },
      "source": [
        "predictions_test1=predictions_test.argmax(1)\n",
        "pred_test1=pd.Series(predictions_test1)\n",
        "pred_test1"
      ],
      "execution_count": 38,
      "outputs": [
        {
          "output_type": "execute_result",
          "data": {
            "text/plain": [
              "0      1\n",
              "1      3\n",
              "2      0\n",
              "3      1\n",
              "4      1\n",
              "      ..\n",
              "658    1\n",
              "659    1\n",
              "660    1\n",
              "661    1\n",
              "662    1\n",
              "Length: 663, dtype: int64"
            ]
          },
          "metadata": {
            "tags": []
          },
          "execution_count": 38
        }
      ]
    },
    {
      "cell_type": "code",
      "metadata": {
        "id": "0DUdwHRdxJdH",
        "outputId": "51b8dfb7-ea71-4c78-fd29-bdebca666133",
        "colab": {
          "base_uri": "https://localhost:8080/",
          "height": 146
        }
      },
      "source": [
        "df3['label']=pred_test1"
      ],
      "execution_count": 39,
      "outputs": [
        {
          "output_type": "stream",
          "text": [
            "/usr/local/lib/python3.6/dist-packages/ipykernel_launcher.py:1: SettingWithCopyWarning: \n",
            "A value is trying to be set on a copy of a slice from a DataFrame.\n",
            "Try using .loc[row_indexer,col_indexer] = value instead\n",
            "\n",
            "See the caveats in the documentation: https://pandas.pydata.org/pandas-docs/stable/user_guide/indexing.html#returning-a-view-versus-a-copy\n",
            "  \"\"\"Entry point for launching an IPython kernel.\n"
          ],
          "name": "stderr"
        }
      ]
    },
    {
      "cell_type": "code",
      "metadata": {
        "id": "cxhA8mRlxMQj",
        "outputId": "335b5075-c150-4d49-afb3-96f919e65377",
        "colab": {
          "base_uri": "https://localhost:8080/",
          "height": 424
        }
      },
      "source": [
        "df3"
      ],
      "execution_count": 40,
      "outputs": [
        {
          "output_type": "execute_result",
          "data": {
            "text/html": [
              "<div>\n",
              "<style scoped>\n",
              "    .dataframe tbody tr th:only-of-type {\n",
              "        vertical-align: middle;\n",
              "    }\n",
              "\n",
              "    .dataframe tbody tr th {\n",
              "        vertical-align: top;\n",
              "    }\n",
              "\n",
              "    .dataframe thead th {\n",
              "        text-align: right;\n",
              "    }\n",
              "</style>\n",
              "<table border=\"1\" class=\"dataframe\">\n",
              "  <thead>\n",
              "    <tr style=\"text-align: right;\">\n",
              "      <th></th>\n",
              "      <th>tweet_id</th>\n",
              "      <th>ID</th>\n",
              "      <th>label</th>\n",
              "    </tr>\n",
              "  </thead>\n",
              "  <tbody>\n",
              "    <tr>\n",
              "      <th>0</th>\n",
              "      <td>1127781647783301120</td>\n",
              "      <td>hasoc_2020_hi_1938</td>\n",
              "      <td>1</td>\n",
              "    </tr>\n",
              "    <tr>\n",
              "      <th>1</th>\n",
              "      <td>1127492853171535872</td>\n",
              "      <td>hasoc_2020_hi_1201</td>\n",
              "      <td>3</td>\n",
              "    </tr>\n",
              "    <tr>\n",
              "      <th>2</th>\n",
              "      <td>1123638375896903681</td>\n",
              "      <td>hasoc_2020_hi_1628</td>\n",
              "      <td>0</td>\n",
              "    </tr>\n",
              "    <tr>\n",
              "      <th>3</th>\n",
              "      <td>1127496460310683648</td>\n",
              "      <td>hasoc_2020_hi_3257</td>\n",
              "      <td>1</td>\n",
              "    </tr>\n",
              "    <tr>\n",
              "      <th>4</th>\n",
              "      <td>1127667277535399937</td>\n",
              "      <td>hasoc_2020_hi_4133</td>\n",
              "      <td>1</td>\n",
              "    </tr>\n",
              "    <tr>\n",
              "      <th>...</th>\n",
              "      <td>...</td>\n",
              "      <td>...</td>\n",
              "      <td>...</td>\n",
              "    </tr>\n",
              "    <tr>\n",
              "      <th>658</th>\n",
              "      <td>1123814066907242503</td>\n",
              "      <td>hasoc_2020_hi_466</td>\n",
              "      <td>1</td>\n",
              "    </tr>\n",
              "    <tr>\n",
              "      <th>659</th>\n",
              "      <td>1127616035689979904</td>\n",
              "      <td>hasoc_2020_hi_1758</td>\n",
              "      <td>1</td>\n",
              "    </tr>\n",
              "    <tr>\n",
              "      <th>660</th>\n",
              "      <td>1127502823044702208</td>\n",
              "      <td>hasoc_2020_hi_3521</td>\n",
              "      <td>1</td>\n",
              "    </tr>\n",
              "    <tr>\n",
              "      <th>661</th>\n",
              "      <td>1127780829914992640</td>\n",
              "      <td>hasoc_2020_hi_1293</td>\n",
              "      <td>1</td>\n",
              "    </tr>\n",
              "    <tr>\n",
              "      <th>662</th>\n",
              "      <td>1127465619580788737</td>\n",
              "      <td>hasoc_2020_hi_3279</td>\n",
              "      <td>1</td>\n",
              "    </tr>\n",
              "  </tbody>\n",
              "</table>\n",
              "<p>663 rows × 3 columns</p>\n",
              "</div>"
            ],
            "text/plain": [
              "                tweet_id                  ID  label\n",
              "0    1127781647783301120  hasoc_2020_hi_1938      1\n",
              "1    1127492853171535872  hasoc_2020_hi_1201      3\n",
              "2    1123638375896903681  hasoc_2020_hi_1628      0\n",
              "3    1127496460310683648  hasoc_2020_hi_3257      1\n",
              "4    1127667277535399937  hasoc_2020_hi_4133      1\n",
              "..                   ...                 ...    ...\n",
              "658  1123814066907242503   hasoc_2020_hi_466      1\n",
              "659  1127616035689979904  hasoc_2020_hi_1758      1\n",
              "660  1127502823044702208  hasoc_2020_hi_3521      1\n",
              "661  1127780829914992640  hasoc_2020_hi_1293      1\n",
              "662  1127465619580788737  hasoc_2020_hi_3279      1\n",
              "\n",
              "[663 rows x 3 columns]"
            ]
          },
          "metadata": {
            "tags": []
          },
          "execution_count": 40
        }
      ]
    },
    {
      "cell_type": "code",
      "metadata": {
        "id": "WYrVvFOrxO63",
        "outputId": "e08aa517-80fb-4b6b-a0e8-c09422c9449b",
        "colab": {
          "base_uri": "https://localhost:8080/",
          "height": 553
        }
      },
      "source": [
        "df3['label'] = df3['label'].map({0: \"NONE\",1:\"OFFN\",2:\"PRFN\",3:\"HATE\"})\n",
        "df3"
      ],
      "execution_count": 41,
      "outputs": [
        {
          "output_type": "stream",
          "text": [
            "/usr/local/lib/python3.6/dist-packages/ipykernel_launcher.py:1: SettingWithCopyWarning: \n",
            "A value is trying to be set on a copy of a slice from a DataFrame.\n",
            "Try using .loc[row_indexer,col_indexer] = value instead\n",
            "\n",
            "See the caveats in the documentation: https://pandas.pydata.org/pandas-docs/stable/user_guide/indexing.html#returning-a-view-versus-a-copy\n",
            "  \"\"\"Entry point for launching an IPython kernel.\n"
          ],
          "name": "stderr"
        },
        {
          "output_type": "execute_result",
          "data": {
            "text/html": [
              "<div>\n",
              "<style scoped>\n",
              "    .dataframe tbody tr th:only-of-type {\n",
              "        vertical-align: middle;\n",
              "    }\n",
              "\n",
              "    .dataframe tbody tr th {\n",
              "        vertical-align: top;\n",
              "    }\n",
              "\n",
              "    .dataframe thead th {\n",
              "        text-align: right;\n",
              "    }\n",
              "</style>\n",
              "<table border=\"1\" class=\"dataframe\">\n",
              "  <thead>\n",
              "    <tr style=\"text-align: right;\">\n",
              "      <th></th>\n",
              "      <th>tweet_id</th>\n",
              "      <th>ID</th>\n",
              "      <th>label</th>\n",
              "    </tr>\n",
              "  </thead>\n",
              "  <tbody>\n",
              "    <tr>\n",
              "      <th>0</th>\n",
              "      <td>1127781647783301120</td>\n",
              "      <td>hasoc_2020_hi_1938</td>\n",
              "      <td>OFFN</td>\n",
              "    </tr>\n",
              "    <tr>\n",
              "      <th>1</th>\n",
              "      <td>1127492853171535872</td>\n",
              "      <td>hasoc_2020_hi_1201</td>\n",
              "      <td>HATE</td>\n",
              "    </tr>\n",
              "    <tr>\n",
              "      <th>2</th>\n",
              "      <td>1123638375896903681</td>\n",
              "      <td>hasoc_2020_hi_1628</td>\n",
              "      <td>NONE</td>\n",
              "    </tr>\n",
              "    <tr>\n",
              "      <th>3</th>\n",
              "      <td>1127496460310683648</td>\n",
              "      <td>hasoc_2020_hi_3257</td>\n",
              "      <td>OFFN</td>\n",
              "    </tr>\n",
              "    <tr>\n",
              "      <th>4</th>\n",
              "      <td>1127667277535399937</td>\n",
              "      <td>hasoc_2020_hi_4133</td>\n",
              "      <td>OFFN</td>\n",
              "    </tr>\n",
              "    <tr>\n",
              "      <th>...</th>\n",
              "      <td>...</td>\n",
              "      <td>...</td>\n",
              "      <td>...</td>\n",
              "    </tr>\n",
              "    <tr>\n",
              "      <th>658</th>\n",
              "      <td>1123814066907242503</td>\n",
              "      <td>hasoc_2020_hi_466</td>\n",
              "      <td>OFFN</td>\n",
              "    </tr>\n",
              "    <tr>\n",
              "      <th>659</th>\n",
              "      <td>1127616035689979904</td>\n",
              "      <td>hasoc_2020_hi_1758</td>\n",
              "      <td>OFFN</td>\n",
              "    </tr>\n",
              "    <tr>\n",
              "      <th>660</th>\n",
              "      <td>1127502823044702208</td>\n",
              "      <td>hasoc_2020_hi_3521</td>\n",
              "      <td>OFFN</td>\n",
              "    </tr>\n",
              "    <tr>\n",
              "      <th>661</th>\n",
              "      <td>1127780829914992640</td>\n",
              "      <td>hasoc_2020_hi_1293</td>\n",
              "      <td>OFFN</td>\n",
              "    </tr>\n",
              "    <tr>\n",
              "      <th>662</th>\n",
              "      <td>1127465619580788737</td>\n",
              "      <td>hasoc_2020_hi_3279</td>\n",
              "      <td>OFFN</td>\n",
              "    </tr>\n",
              "  </tbody>\n",
              "</table>\n",
              "<p>663 rows × 3 columns</p>\n",
              "</div>"
            ],
            "text/plain": [
              "                tweet_id                  ID label\n",
              "0    1127781647783301120  hasoc_2020_hi_1938  OFFN\n",
              "1    1127492853171535872  hasoc_2020_hi_1201  HATE\n",
              "2    1123638375896903681  hasoc_2020_hi_1628  NONE\n",
              "3    1127496460310683648  hasoc_2020_hi_3257  OFFN\n",
              "4    1127667277535399937  hasoc_2020_hi_4133  OFFN\n",
              "..                   ...                 ...   ...\n",
              "658  1123814066907242503   hasoc_2020_hi_466  OFFN\n",
              "659  1127616035689979904  hasoc_2020_hi_1758  OFFN\n",
              "660  1127502823044702208  hasoc_2020_hi_3521  OFFN\n",
              "661  1127780829914992640  hasoc_2020_hi_1293  OFFN\n",
              "662  1127465619580788737  hasoc_2020_hi_3279  OFFN\n",
              "\n",
              "[663 rows x 3 columns]"
            ]
          },
          "metadata": {
            "tags": []
          },
          "execution_count": 41
        }
      ]
    },
    {
      "cell_type": "code",
      "metadata": {
        "id": "dhKLCO9ixRyu"
      },
      "source": [
        "df3.to_csv('submission_HI_B.csv')"
      ],
      "execution_count": 42,
      "outputs": []
    },
    {
      "cell_type": "code",
      "metadata": {
        "id": "wDAi-ZE5xU3v"
      },
      "source": [
        "model.save(\"HindiDatasetSubTask2_withLSTM_Fasttext.h5\")"
      ],
      "execution_count": 43,
      "outputs": []
    },
    {
      "cell_type": "code",
      "metadata": {
        "id": "ueK6k1-e-wGM"
      },
      "source": [
        ""
      ],
      "execution_count": null,
      "outputs": []
    }
  ]
}