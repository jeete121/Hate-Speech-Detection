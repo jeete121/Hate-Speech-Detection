{
 "cells": [
  {
   "cell_type": "code",
   "execution_count": 1,
   "metadata": {
    "colab": {
     "base_uri": "https://localhost:8080/",
     "height": 655
    },
    "colab_type": "code",
    "id": "z4M9w5yQTOpU",
    "outputId": "874edf85-b1f7-4a0b-a64b-59399a111e76"
   },
   "outputs": [
    {
     "name": "stdout",
     "output_type": "stream",
     "text": [
      "Collecting transformers\n",
      "\u001b[?25l  Downloading https://files.pythonhosted.org/packages/ae/05/c8c55b600308dc04e95100dc8ad8a244dd800fe75dfafcf1d6348c6f6209/transformers-3.1.0-py3-none-any.whl (884kB)\n",
      "\r",
      "\u001b[K     |▍                               | 10kB 21.7MB/s eta 0:00:01\r",
      "\u001b[K     |▊                               | 20kB 5.7MB/s eta 0:00:01\r",
      "\u001b[K     |█▏                              | 30kB 6.9MB/s eta 0:00:01\r",
      "\u001b[K     |█▌                              | 40kB 7.7MB/s eta 0:00:01\r",
      "\u001b[K     |█▉                              | 51kB 6.8MB/s eta 0:00:01\r",
      "\u001b[K     |██▎                             | 61kB 7.7MB/s eta 0:00:01\r",
      "\u001b[K     |██▋                             | 71kB 7.9MB/s eta 0:00:01\r",
      "\u001b[K     |███                             | 81kB 8.3MB/s eta 0:00:01\r",
      "\u001b[K     |███▍                            | 92kB 7.8MB/s eta 0:00:01\r",
      "\u001b[K     |███▊                            | 102kB 8.1MB/s eta 0:00:01\r",
      "\u001b[K     |████                            | 112kB 8.1MB/s eta 0:00:01\r",
      "\u001b[K     |████▌                           | 122kB 8.1MB/s eta 0:00:01\r",
      "\u001b[K     |████▉                           | 133kB 8.1MB/s eta 0:00:01\r",
      "\u001b[K     |█████▏                          | 143kB 8.1MB/s eta 0:00:01\r",
      "\u001b[K     |█████▋                          | 153kB 8.1MB/s eta 0:00:01\r",
      "\u001b[K     |██████                          | 163kB 8.1MB/s eta 0:00:01\r",
      "\u001b[K     |██████▎                         | 174kB 8.1MB/s eta 0:00:01\r",
      "\u001b[K     |██████▊                         | 184kB 8.1MB/s eta 0:00:01\r",
      "\u001b[K     |███████                         | 194kB 8.1MB/s eta 0:00:01\r",
      "\u001b[K     |███████▍                        | 204kB 8.1MB/s eta 0:00:01\r",
      "\u001b[K     |███████▉                        | 215kB 8.1MB/s eta 0:00:01\r",
      "\u001b[K     |████████▏                       | 225kB 8.1MB/s eta 0:00:01\r",
      "\u001b[K     |████████▌                       | 235kB 8.1MB/s eta 0:00:01\r",
      "\u001b[K     |█████████                       | 245kB 8.1MB/s eta 0:00:01\r",
      "\u001b[K     |█████████▎                      | 256kB 8.1MB/s eta 0:00:01\r",
      "\u001b[K     |█████████▋                      | 266kB 8.1MB/s eta 0:00:01\r",
      "\u001b[K     |██████████                      | 276kB 8.1MB/s eta 0:00:01\r",
      "\u001b[K     |██████████▍                     | 286kB 8.1MB/s eta 0:00:01\r",
      "\u001b[K     |██████████▊                     | 296kB 8.1MB/s eta 0:00:01\r",
      "\u001b[K     |███████████▏                    | 307kB 8.1MB/s eta 0:00:01\r",
      "\u001b[K     |███████████▌                    | 317kB 8.1MB/s eta 0:00:01\r",
      "\u001b[K     |███████████▉                    | 327kB 8.1MB/s eta 0:00:01\r",
      "\u001b[K     |████████████▎                   | 337kB 8.1MB/s eta 0:00:01\r",
      "\u001b[K     |████████████▋                   | 348kB 8.1MB/s eta 0:00:01\r",
      "\u001b[K     |█████████████                   | 358kB 8.1MB/s eta 0:00:01\r",
      "\u001b[K     |█████████████▍                  | 368kB 8.1MB/s eta 0:00:01\r",
      "\u001b[K     |█████████████▊                  | 378kB 8.1MB/s eta 0:00:01\r",
      "\u001b[K     |██████████████                  | 389kB 8.1MB/s eta 0:00:01\r",
      "\u001b[K     |██████████████▌                 | 399kB 8.1MB/s eta 0:00:01\r",
      "\u001b[K     |██████████████▉                 | 409kB 8.1MB/s eta 0:00:01\r",
      "\u001b[K     |███████████████▏                | 419kB 8.1MB/s eta 0:00:01\r",
      "\u001b[K     |███████████████▋                | 430kB 8.1MB/s eta 0:00:01\r",
      "\u001b[K     |████████████████                | 440kB 8.1MB/s eta 0:00:01\r",
      "\u001b[K     |████████████████▎               | 450kB 8.1MB/s eta 0:00:01\r",
      "\u001b[K     |████████████████▊               | 460kB 8.1MB/s eta 0:00:01\r",
      "\u001b[K     |█████████████████               | 471kB 8.1MB/s eta 0:00:01\r",
      "\u001b[K     |█████████████████▍              | 481kB 8.1MB/s eta 0:00:01\r",
      "\u001b[K     |█████████████████▉              | 491kB 8.1MB/s eta 0:00:01\r",
      "\u001b[K     |██████████████████▏             | 501kB 8.1MB/s eta 0:00:01\r",
      "\u001b[K     |██████████████████▌             | 512kB 8.1MB/s eta 0:00:01\r",
      "\u001b[K     |███████████████████             | 522kB 8.1MB/s eta 0:00:01\r",
      "\u001b[K     |███████████████████▎            | 532kB 8.1MB/s eta 0:00:01\r",
      "\u001b[K     |███████████████████▋            | 542kB 8.1MB/s eta 0:00:01\r",
      "\u001b[K     |████████████████████            | 552kB 8.1MB/s eta 0:00:01\r",
      "\u001b[K     |████████████████████▍           | 563kB 8.1MB/s eta 0:00:01\r",
      "\u001b[K     |████████████████████▊           | 573kB 8.1MB/s eta 0:00:01\r",
      "\u001b[K     |█████████████████████▏          | 583kB 8.1MB/s eta 0:00:01\r",
      "\u001b[K     |█████████████████████▌          | 593kB 8.1MB/s eta 0:00:01\r",
      "\u001b[K     |█████████████████████▉          | 604kB 8.1MB/s eta 0:00:01\r",
      "\u001b[K     |██████████████████████▎         | 614kB 8.1MB/s eta 0:00:01\r",
      "\u001b[K     |██████████████████████▋         | 624kB 8.1MB/s eta 0:00:01\r",
      "\u001b[K     |███████████████████████         | 634kB 8.1MB/s eta 0:00:01\r",
      "\u001b[K     |███████████████████████▍        | 645kB 8.1MB/s eta 0:00:01\r",
      "\u001b[K     |███████████████████████▊        | 655kB 8.1MB/s eta 0:00:01\r",
      "\u001b[K     |████████████████████████        | 665kB 8.1MB/s eta 0:00:01\r",
      "\u001b[K     |████████████████████████▌       | 675kB 8.1MB/s eta 0:00:01\r",
      "\u001b[K     |████████████████████████▉       | 686kB 8.1MB/s eta 0:00:01\r",
      "\u001b[K     |█████████████████████████▏      | 696kB 8.1MB/s eta 0:00:01\r",
      "\u001b[K     |█████████████████████████▋      | 706kB 8.1MB/s eta 0:00:01\r",
      "\u001b[K     |██████████████████████████      | 716kB 8.1MB/s eta 0:00:01\r",
      "\u001b[K     |██████████████████████████▎     | 727kB 8.1MB/s eta 0:00:01\r",
      "\u001b[K     |██████████████████████████▊     | 737kB 8.1MB/s eta 0:00:01\r",
      "\u001b[K     |███████████████████████████     | 747kB 8.1MB/s eta 0:00:01\r",
      "\u001b[K     |███████████████████████████▍    | 757kB 8.1MB/s eta 0:00:01\r",
      "\u001b[K     |███████████████████████████▉    | 768kB 8.1MB/s eta 0:00:01\r",
      "\u001b[K     |████████████████████████████▏   | 778kB 8.1MB/s eta 0:00:01\r",
      "\u001b[K     |████████████████████████████▌   | 788kB 8.1MB/s eta 0:00:01\r",
      "\u001b[K     |█████████████████████████████   | 798kB 8.1MB/s eta 0:00:01\r",
      "\u001b[K     |█████████████████████████████▎  | 808kB 8.1MB/s eta 0:00:01\r",
      "\u001b[K     |█████████████████████████████▋  | 819kB 8.1MB/s eta 0:00:01\r",
      "\u001b[K     |██████████████████████████████  | 829kB 8.1MB/s eta 0:00:01\r",
      "\u001b[K     |██████████████████████████████▍ | 839kB 8.1MB/s eta 0:00:01\r",
      "\u001b[K     |██████████████████████████████▊ | 849kB 8.1MB/s eta 0:00:01\r",
      "\u001b[K     |███████████████████████████████▏| 860kB 8.1MB/s eta 0:00:01\r",
      "\u001b[K     |███████████████████████████████▌| 870kB 8.1MB/s eta 0:00:01\r",
      "\u001b[K     |███████████████████████████████▉| 880kB 8.1MB/s eta 0:00:01\r",
      "\u001b[K     |████████████████████████████████| 890kB 8.1MB/s \n",
      "\u001b[?25hRequirement already satisfied: dataclasses; python_version < \"3.7\" in /usr/local/lib/python3.6/dist-packages (from transformers) (0.7)\n",
      "Collecting tokenizers==0.8.1.rc2\n",
      "\u001b[?25l  Downloading https://files.pythonhosted.org/packages/80/83/8b9fccb9e48eeb575ee19179e2bdde0ee9a1904f97de5f02d19016b8804f/tokenizers-0.8.1rc2-cp36-cp36m-manylinux1_x86_64.whl (3.0MB)\n",
      "\u001b[K     |████████████████████████████████| 3.0MB 26.9MB/s \n",
      "\u001b[?25hRequirement already satisfied: requests in /usr/local/lib/python3.6/dist-packages (from transformers) (2.23.0)\n",
      "Requirement already satisfied: filelock in /usr/local/lib/python3.6/dist-packages (from transformers) (3.0.12)\n",
      "Requirement already satisfied: packaging in /usr/local/lib/python3.6/dist-packages (from transformers) (20.4)\n",
      "Requirement already satisfied: regex!=2019.12.17 in /usr/local/lib/python3.6/dist-packages (from transformers) (2019.12.20)\n",
      "Collecting sentencepiece!=0.1.92\n",
      "\u001b[?25l  Downloading https://files.pythonhosted.org/packages/d4/a4/d0a884c4300004a78cca907a6ff9a5e9fe4f090f5d95ab341c53d28cbc58/sentencepiece-0.1.91-cp36-cp36m-manylinux1_x86_64.whl (1.1MB)\n",
      "\u001b[K     |████████████████████████████████| 1.1MB 51.9MB/s \n",
      "\u001b[?25hCollecting sacremoses\n",
      "\u001b[?25l  Downloading https://files.pythonhosted.org/packages/7d/34/09d19aff26edcc8eb2a01bed8e98f13a1537005d31e95233fd48216eed10/sacremoses-0.0.43.tar.gz (883kB)\n",
      "\u001b[K     |████████████████████████████████| 890kB 56.7MB/s \n",
      "\u001b[?25hRequirement already satisfied: tqdm>=4.27 in /usr/local/lib/python3.6/dist-packages (from transformers) (4.41.1)\n",
      "Requirement already satisfied: numpy in /usr/local/lib/python3.6/dist-packages (from transformers) (1.18.5)\n",
      "Requirement already satisfied: certifi>=2017.4.17 in /usr/local/lib/python3.6/dist-packages (from requests->transformers) (2020.6.20)\n",
      "Requirement already satisfied: urllib3!=1.25.0,!=1.25.1,<1.26,>=1.21.1 in /usr/local/lib/python3.6/dist-packages (from requests->transformers) (1.24.3)\n",
      "Requirement already satisfied: chardet<4,>=3.0.2 in /usr/local/lib/python3.6/dist-packages (from requests->transformers) (3.0.4)\n",
      "Requirement already satisfied: idna<3,>=2.5 in /usr/local/lib/python3.6/dist-packages (from requests->transformers) (2.10)\n",
      "Requirement already satisfied: six in /usr/local/lib/python3.6/dist-packages (from packaging->transformers) (1.15.0)\n",
      "Requirement already satisfied: pyparsing>=2.0.2 in /usr/local/lib/python3.6/dist-packages (from packaging->transformers) (2.4.7)\n",
      "Requirement already satisfied: click in /usr/local/lib/python3.6/dist-packages (from sacremoses->transformers) (7.1.2)\n",
      "Requirement already satisfied: joblib in /usr/local/lib/python3.6/dist-packages (from sacremoses->transformers) (0.16.0)\n",
      "Building wheels for collected packages: sacremoses\n",
      "  Building wheel for sacremoses (setup.py) ... \u001b[?25l\u001b[?25hdone\n",
      "  Created wheel for sacremoses: filename=sacremoses-0.0.43-cp36-none-any.whl size=893257 sha256=7811d1abccba4768306ec9919c4b758d271fec4d39735642443f695373739442\n",
      "  Stored in directory: /root/.cache/pip/wheels/29/3c/fd/7ce5c3f0666dab31a50123635e6fb5e19ceb42ce38d4e58f45\n",
      "Successfully built sacremoses\n",
      "Installing collected packages: tokenizers, sentencepiece, sacremoses, transformers\n",
      "Successfully installed sacremoses-0.0.43 sentencepiece-0.1.91 tokenizers-0.8.1rc2 transformers-3.1.0\n"
     ]
    }
   ],
   "source": [
    "pip install transformers"
   ]
  },
  {
   "cell_type": "code",
   "execution_count": 2,
   "metadata": {
    "colab": {},
    "colab_type": "code",
    "id": "XZEBANBzTFIM"
   },
   "outputs": [],
   "source": [
    "from transformers import TFBertModel,  BertConfig, BertTokenizerFast\n",
    "from tensorflow.keras.layers import Input, Dropout, Dense\n",
    "from tensorflow.keras.models import Model\n",
    "from tensorflow.keras.optimizers import Adam\n",
    "from tensorflow.keras.callbacks import EarlyStopping\n",
    "from tensorflow.keras.initializers import TruncatedNormal\n",
    "from tensorflow.keras.losses import CategoricalCrossentropy\n",
    "from tensorflow.keras.metrics import CategoricalAccuracy\n",
    "from tensorflow.keras.utils import to_categorical\n",
    "import pandas as pd\n",
    "from sklearn.model_selection import train_test_split"
   ]
  },
  {
   "cell_type": "code",
   "execution_count": 26,
   "metadata": {
    "colab": {
     "base_uri": "https://localhost:8080/",
     "height": 206
    },
    "colab_type": "code",
    "id": "d1mEV4KWTXJz",
    "outputId": "077b2759-c195-4a2d-ea85-0d4360135082"
   },
   "outputs": [
    {
     "data": {
      "text/html": [
       "<div>\n",
       "<style scoped>\n",
       "    .dataframe tbody tr th:only-of-type {\n",
       "        vertical-align: middle;\n",
       "    }\n",
       "\n",
       "    .dataframe tbody tr th {\n",
       "        vertical-align: top;\n",
       "    }\n",
       "\n",
       "    .dataframe thead th {\n",
       "        text-align: right;\n",
       "    }\n",
       "</style>\n",
       "<table border=\"1\" class=\"dataframe\">\n",
       "  <thead>\n",
       "    <tr style=\"text-align: right;\">\n",
       "      <th></th>\n",
       "      <th>text</th>\n",
       "      <th>task2</th>\n",
       "    </tr>\n",
       "  </thead>\n",
       "  <tbody>\n",
       "    <tr>\n",
       "      <th>0</th>\n",
       "      <td>1 आदमीं को मारने पर गोडसे आतंकी हो सके है तो\\n...</td>\n",
       "      <td>HATE</td>\n",
       "    </tr>\n",
       "    <tr>\n",
       "      <th>1</th>\n",
       "      <td>RT @Vishesh4: @jawaharyadavbjp जवाहर यादव, अगर...</td>\n",
       "      <td>NONE</td>\n",
       "    </tr>\n",
       "    <tr>\n",
       "      <th>2</th>\n",
       "      <td>RT @FunKeyBaat: #भगवा वस्त्र पहन कर मतदान नही ...</td>\n",
       "      <td>HATE</td>\n",
       "    </tr>\n",
       "    <tr>\n",
       "      <th>3</th>\n",
       "      <td>Yey nina khothani labafazi benu phambili Finis...</td>\n",
       "      <td>PRFN</td>\n",
       "    </tr>\n",
       "    <tr>\n",
       "      <th>4</th>\n",
       "      <td>RT @Rajeshbhanjan2: जब भी कोई सिकुलर कोंग्रेसी...</td>\n",
       "      <td>HATE</td>\n",
       "    </tr>\n",
       "  </tbody>\n",
       "</table>\n",
       "</div>"
      ],
      "text/plain": [
       "                                                text task2\n",
       "0  1 आदमीं को मारने पर गोडसे आतंकी हो सके है तो\\n...  HATE\n",
       "1  RT @Vishesh4: @jawaharyadavbjp जवाहर यादव, अगर...  NONE\n",
       "2  RT @FunKeyBaat: #भगवा वस्त्र पहन कर मतदान नही ...  HATE\n",
       "3  Yey nina khothani labafazi benu phambili Finis...  PRFN\n",
       "4  RT @Rajeshbhanjan2: जब भी कोई सिकुलर कोंग्रेसी...  HATE"
      ]
     },
     "execution_count": 26,
     "metadata": {
      "tags": []
     },
     "output_type": "execute_result"
    }
   ],
   "source": [
    "data = pd.read_csv('/content/hindi_tr.csv')\n",
    "data2 = pd.read_csv('/content/final.csv')\n",
    "\n",
    "data = data[['text', 'task2']]\n",
    "data2 = data2[['text', 'task_2']]\n",
    "data2 = data2.rename(columns={'task_2': 'task2'})\n",
    "df_row = pd.concat([data, data2])\n",
    "\n",
    "data=df_row\n",
    "\n",
    "data.head()"
   ]
  },
  {
   "cell_type": "code",
   "execution_count": 27,
   "metadata": {
    "colab": {
     "base_uri": "https://localhost:8080/",
     "height": 206
    },
    "colab_type": "code",
    "id": "Goc-k9EzTukA",
    "outputId": "5b5d6083-415e-4620-e2bd-27c1db02d75b"
   },
   "outputs": [
    {
     "data": {
      "text/html": [
       "<div>\n",
       "<style scoped>\n",
       "    .dataframe tbody tr th:only-of-type {\n",
       "        vertical-align: middle;\n",
       "    }\n",
       "\n",
       "    .dataframe tbody tr th {\n",
       "        vertical-align: top;\n",
       "    }\n",
       "\n",
       "    .dataframe thead th {\n",
       "        text-align: right;\n",
       "    }\n",
       "</style>\n",
       "<table border=\"1\" class=\"dataframe\">\n",
       "  <thead>\n",
       "    <tr style=\"text-align: right;\">\n",
       "      <th></th>\n",
       "      <th>text</th>\n",
       "      <th>task2</th>\n",
       "    </tr>\n",
       "  </thead>\n",
       "  <tbody>\n",
       "    <tr>\n",
       "      <th>0</th>\n",
       "      <td>1 आदमीं को मारने पर गोडसे आतंकी हो सके है तो\\n...</td>\n",
       "      <td>0</td>\n",
       "    </tr>\n",
       "    <tr>\n",
       "      <th>1</th>\n",
       "      <td>RT @Vishesh4: @jawaharyadavbjp जवाहर यादव, अगर...</td>\n",
       "      <td>2</td>\n",
       "    </tr>\n",
       "    <tr>\n",
       "      <th>2</th>\n",
       "      <td>RT @FunKeyBaat: #भगवा वस्त्र पहन कर मतदान नही ...</td>\n",
       "      <td>0</td>\n",
       "    </tr>\n",
       "    <tr>\n",
       "      <th>3</th>\n",
       "      <td>Yey nina khothani labafazi benu phambili Finis...</td>\n",
       "      <td>5</td>\n",
       "    </tr>\n",
       "    <tr>\n",
       "      <th>4</th>\n",
       "      <td>RT @Rajeshbhanjan2: जब भी कोई सिकुलर कोंग्रेसी...</td>\n",
       "      <td>0</td>\n",
       "    </tr>\n",
       "  </tbody>\n",
       "</table>\n",
       "</div>"
      ],
      "text/plain": [
       "                                                text  task2\n",
       "0  1 आदमीं को मारने पर गोडसे आतंकी हो सके है तो\\n...      0\n",
       "1  RT @Vishesh4: @jawaharyadavbjp जवाहर यादव, अगर...      2\n",
       "2  RT @FunKeyBaat: #भगवा वस्त्र पहन कर मतदान नही ...      0\n",
       "3  Yey nina khothani labafazi benu phambili Finis...      5\n",
       "4  RT @Rajeshbhanjan2: जब भी कोई सिकुलर कोंग्रेसी...      0"
      ]
     },
     "execution_count": 27,
     "metadata": {
      "tags": []
     },
     "output_type": "execute_result"
    }
   ],
   "source": [
    "data['task2'] = pd.Categorical(data['task2'])\n",
    "data['task2'] = data['task2'].cat.codes\n",
    "data.head()"
   ]
  },
  {
   "cell_type": "code",
   "execution_count": 28,
   "metadata": {
    "colab": {
     "base_uri": "https://localhost:8080/",
     "height": 35
    },
    "colab_type": "code",
    "id": "CqC22tIyUD7v",
    "outputId": "2a9ba2a7-0b3c-4c5f-fd29-dfcc9b064b20"
   },
   "outputs": [
    {
     "data": {
      "text/plain": [
       "((6102, 2), (1526, 2))"
      ]
     },
     "execution_count": 28,
     "metadata": {
      "tags": []
     },
     "output_type": "execute_result"
    }
   ],
   "source": [
    "data, data_test = train_test_split(data, test_size = 0.2)\n",
    "data.shape,data_test.shape"
   ]
  },
  {
   "cell_type": "code",
   "execution_count": 29,
   "metadata": {
    "colab": {
     "base_uri": "https://localhost:8080/",
     "height": 278,
     "referenced_widgets": [
      "73b10cade3104dd0a1e9ed5b9fe51ac1",
      "ca4d9cd76908470e81f85a6ada4cdf79",
      "0fef0928dfde4aaab4c998c7325b900e",
      "8e94ddf9704d4d5495e300c8d33e726d",
      "2f7a699d9d814bd0a4d6db35308cdee4",
      "1ee78f72f3304b4b86aadd629788218e",
      "9b769cb9040143a2b66b1d2a929c852d",
      "2ad054272b224758bb3a6688a4567b5c",
      "4ca9c88be6224d3e83a68b0dc551085b",
      "ca5d75345a6749698121f2bff27be60c",
      "7c482ad8f8724aaea24c535b4d1a4e0e",
      "5f7a4912e8514aed9b6db9b51168d819",
      "0122c1b960b14ec88c8070395b030ac7",
      "b5a826efddb147e2b88630dcfdadefce",
      "54ed537690c542439e6b41ce0cbd4b45",
      "99cbe7bb7ac048c4807554fe0268c5de",
      "97e3eeb065da449b8512568ab14b7f25",
      "2d955dd679594be4b620143f3c28a459",
      "1ad1fc6926c440b69aea5f234d100d1b",
      "46d450e11a204bf59cd558e0f3587db9",
      "66733d20e7894f2c96465c7d08dce2ab",
      "cc157cfb3ddd4462a7c2f8722424e7d2",
      "7aab2bf6bbf94371a8f14c05b6888f32",
      "95c90e445d1542bb8e58fa1f8263e0f1"
     ]
    },
    "colab_type": "code",
    "id": "VGB09huuUZVI",
    "outputId": "e0329106-cf21-4550-9da7-9d24b290f508"
   },
   "outputs": [
    {
     "data": {
      "application/vnd.jupyter.widget-view+json": {
       "model_id": "73b10cade3104dd0a1e9ed5b9fe51ac1",
       "version_major": 2,
       "version_minor": 0
      },
      "text/plain": [
       "HBox(children=(FloatProgress(value=0.0, description='Downloading', max=433.0, style=ProgressStyle(description_…"
      ]
     },
     "metadata": {
      "tags": []
     },
     "output_type": "display_data"
    },
    {
     "name": "stdout",
     "output_type": "stream",
     "text": [
      "\n"
     ]
    },
    {
     "data": {
      "application/vnd.jupyter.widget-view+json": {
       "model_id": "4ca9c88be6224d3e83a68b0dc551085b",
       "version_major": 2,
       "version_minor": 0
      },
      "text/plain": [
       "HBox(children=(FloatProgress(value=0.0, description='Downloading', max=231508.0, style=ProgressStyle(descripti…"
      ]
     },
     "metadata": {
      "tags": []
     },
     "output_type": "display_data"
    },
    {
     "name": "stdout",
     "output_type": "stream",
     "text": [
      "\n"
     ]
    },
    {
     "data": {
      "application/vnd.jupyter.widget-view+json": {
       "model_id": "97e3eeb065da449b8512568ab14b7f25",
       "version_major": 2,
       "version_minor": 0
      },
      "text/plain": [
       "HBox(children=(FloatProgress(value=0.0, description='Downloading', max=536063208.0, style=ProgressStyle(descri…"
      ]
     },
     "metadata": {
      "tags": []
     },
     "output_type": "display_data"
    },
    {
     "name": "stdout",
     "output_type": "stream",
     "text": [
      "\n"
     ]
    },
    {
     "name": "stderr",
     "output_type": "stream",
     "text": [
      "Some weights of the model checkpoint at bert-base-uncased were not used when initializing TFBertModel: ['mlm___cls', 'nsp___cls']\n",
      "- This IS expected if you are initializing TFBertModel from the checkpoint of a model trained on another task or with another architecture (e.g. initializing a BertForSequenceClassification model from a BertForPretraining model).\n",
      "- This IS NOT expected if you are initializing TFBertModel from the checkpoint of a model that you expect to be exactly identical (initializing a BertForSequenceClassification model from a BertForSequenceClassification model).\n",
      "All the weights of TFBertModel were initialized from the model checkpoint at bert-base-uncased.\n",
      "If your task is similar to the task the model of the checkpoint was trained on, you can already use TFBertModel for predictions without further training.\n"
     ]
    }
   ],
   "source": [
    "model_name = 'bert-base-uncased'\n",
    "max_length = 64\n",
    "config = BertConfig.from_pretrained(model_name)\n",
    "config.output_hidden_states = False\n",
    "tokenizer = BertTokenizerFast.from_pretrained(pretrained_model_name_or_path = model_name, config = config)\n",
    "transformer_model = TFBertModel.from_pretrained(model_name, config = config)"
   ]
  },
  {
   "cell_type": "code",
   "execution_count": 30,
   "metadata": {
    "colab": {
     "base_uri": "https://localhost:8080/",
     "height": 308
    },
    "colab_type": "code",
    "id": "kcP2lKNVUgCK",
    "outputId": "65e95c25-e5df-45e5-d196-8eef319e336a"
   },
   "outputs": [
    {
     "name": "stdout",
     "output_type": "stream",
     "text": [
      "Model: \"BERT_MultiLabel_MultiClass\"\n",
      "_________________________________________________________________\n",
      "Layer (type)                 Output Shape              Param #   \n",
      "=================================================================\n",
      "input_ids (InputLayer)       [(None, 64)]              0         \n",
      "_________________________________________________________________\n",
      "bert (TFBertMainLayer)       ((None, 64, 768), (None,  109482240 \n",
      "_________________________________________________________________\n",
      "pooled_output (Dropout)      (None, 768)               0         \n",
      "_________________________________________________________________\n",
      "task2 (Dense)                (None, 6)                 4614      \n",
      "=================================================================\n",
      "Total params: 109,486,854\n",
      "Trainable params: 109,486,854\n",
      "Non-trainable params: 0\n",
      "_________________________________________________________________\n"
     ]
    }
   ],
   "source": [
    "bert = transformer_model.layers[0]\n",
    "input_ids = Input(shape=(max_length,), name='input_ids', dtype='int32')\n",
    "inputs = {'input_ids': input_ids}\n",
    "bert_model = bert(inputs)[1]\n",
    "dropout = Dropout(config.hidden_dropout_prob, name='pooled_output')\n",
    "pooled_output = dropout(bert_model, training=False)\n",
    "task2 = Dense(units=len(data.task2.value_counts()), kernel_initializer=TruncatedNormal(stddev=config.initializer_range), name='task2')(pooled_output)\n",
    "outputs = {'task2': task2}\n",
    "model = Model(inputs=inputs, outputs=outputs, name='BERT_MultiLabel_MultiClass')\n",
    "model.summary()\n"
   ]
  },
  {
   "cell_type": "code",
   "execution_count": 31,
   "metadata": {
    "colab": {},
    "colab_type": "code",
    "id": "S2mWPcGsU1Mx"
   },
   "outputs": [],
   "source": [
    "optimizer = Adam(\n",
    "    learning_rate=5e-05,\n",
    "    epsilon=1e-08,\n",
    "    decay=0.01,\n",
    "    clipnorm=1.0)\n",
    "loss = {'task2': CategoricalCrossentropy(from_logits = True)}\n",
    "metric = {'task2': CategoricalAccuracy('accuracy')}"
   ]
  },
  {
   "cell_type": "code",
   "execution_count": 32,
   "metadata": {
    "colab": {},
    "colab_type": "code",
    "id": "MlYNSqNUVEzJ"
   },
   "outputs": [],
   "source": [
    "model.compile(\n",
    "    optimizer = optimizer,\n",
    "    loss = loss, \n",
    "    metrics = metric)\n",
    "y_issue = to_categorical(data['task2'])"
   ]
  },
  {
   "cell_type": "code",
   "execution_count": 33,
   "metadata": {
    "colab": {
     "base_uri": "https://localhost:8080/",
     "height": 380
    },
    "colab_type": "code",
    "id": "yBekbfEqVR9u",
    "outputId": "e4dd6bd5-c6f5-4f8d-d8b0-0a410df81a81"
   },
   "outputs": [
    {
     "name": "stdout",
     "output_type": "stream",
     "text": [
      "Epoch 1/10\n",
      "77/77 [==============================] - 65s 848ms/step - loss: 1.1527 - accuracy: 0.5757 - val_loss: 1.1144 - val_accuracy: 0.5815\n",
      "Epoch 2/10\n",
      "77/77 [==============================] - 66s 857ms/step - loss: 1.0437 - accuracy: 0.6140 - val_loss: 1.0230 - val_accuracy: 0.6265\n",
      "Epoch 3/10\n",
      "77/77 [==============================] - 66s 857ms/step - loss: 0.9384 - accuracy: 0.6646 - val_loss: 0.9327 - val_accuracy: 0.6634\n",
      "Epoch 4/10\n",
      "77/77 [==============================] - 66s 858ms/step - loss: 0.8417 - accuracy: 0.6949 - val_loss: 0.9232 - val_accuracy: 0.6658\n",
      "Epoch 5/10\n",
      "77/77 [==============================] - 66s 860ms/step - loss: 0.7701 - accuracy: 0.7119 - val_loss: 0.9226 - val_accuracy: 0.6880\n",
      "Epoch 6/10\n",
      "77/77 [==============================] - 66s 860ms/step - loss: 0.6984 - accuracy: 0.7376 - val_loss: 0.9352 - val_accuracy: 0.6855\n",
      "Epoch 7/10\n",
      "77/77 [==============================] - 66s 860ms/step - loss: 0.6367 - accuracy: 0.7617 - val_loss: 1.0075 - val_accuracy: 0.6888\n",
      "Epoch 8/10\n",
      "77/77 [==============================] - 66s 860ms/step - loss: 0.5924 - accuracy: 0.7777 - val_loss: 1.0261 - val_accuracy: 0.6691\n",
      "Epoch 9/10\n",
      "77/77 [==============================] - 66s 860ms/step - loss: 0.5511 - accuracy: 0.7978 - val_loss: 1.0668 - val_accuracy: 0.6626\n",
      "Epoch 10/10\n",
      "77/77 [==============================] - 66s 860ms/step - loss: 0.4979 - accuracy: 0.8226 - val_loss: 1.0894 - val_accuracy: 0.6544\n"
     ]
    }
   ],
   "source": [
    "x = tokenizer(\n",
    "    text=data['text'].to_list(),\n",
    "    add_special_tokens=True,\n",
    "    max_length=max_length,\n",
    "    truncation=True,\n",
    "    padding=True, \n",
    "    return_tensors='tf',\n",
    "    return_token_type_ids = False,\n",
    "    return_attention_mask = True,\n",
    "    verbose = True)\n",
    "history = model.fit(\n",
    "    x={'input_ids': x['input_ids']},\n",
    "    y={'task2': y_issue},\n",
    "    validation_split=0.2,\n",
    "    batch_size=64,\n",
    "    epochs=10)"
   ]
  },
  {
   "cell_type": "code",
   "execution_count": 34,
   "metadata": {
    "colab": {
     "base_uri": "https://localhost:8080/",
     "height": 35
    },
    "colab_type": "code",
    "id": "d1qM_cb3Vlvi",
    "outputId": "2ce5cece-4825-4a3f-f016-7c389acaa9d0"
   },
   "outputs": [
    {
     "name": "stdout",
     "output_type": "stream",
     "text": [
      "48/48 [==============================] - 7s 139ms/step - loss: 1.1340 - accuracy: 0.6409\n"
     ]
    }
   ],
   "source": [
    "test_y_issue = to_categorical(data_test['task2'])\n",
    "test_x = tokenizer(\n",
    "    text=data_test['text'].to_list(),\n",
    "    add_special_tokens=True,\n",
    "    max_length=max_length,\n",
    "    truncation=True,\n",
    "    padding=True, \n",
    "    return_tensors='tf',\n",
    "    return_token_type_ids = False,\n",
    "    return_attention_mask = False,\n",
    "    verbose = True)\n",
    "model_eval = model.evaluate(\n",
    "    x={'input_ids': test_x['input_ids']},\n",
    "    y={'task2': test_y_issue}\n",
    ")"
   ]
  },
  {
   "cell_type": "code",
   "execution_count": 35,
   "metadata": {
    "colab": {
     "base_uri": "https://localhost:8080/",
     "height": 162
    },
    "colab_type": "code",
    "id": "XomrCuJTZ-I7",
    "outputId": "ac065b25-e8ad-4308-a728-93924eaa8887"
   },
   "outputs": [
    {
     "data": {
      "text/plain": [
       "{'input_ids': <tf.Tensor: shape=(1526, 64), dtype=int32, numpy=\n",
       "array([[  101, 19387,  1030, ..., 29879,  1331,   102],\n",
       "       [  101,  1325, 29877, ...,  9333,  1012,   102],\n",
       "       [  101,  1001,  4911, ...,   102,     0,     0],\n",
       "       ...,\n",
       "       [  101,  1335, 29879, ...,   999,  1030,   102],\n",
       "       [  101,  1338, 29874, ..., 29859, 29868,   102],\n",
       "       [  101, 19387,  1030, ..., 29863,  1330,   102]], dtype=int32)>}"
      ]
     },
     "execution_count": 35,
     "metadata": {
      "tags": []
     },
     "output_type": "execute_result"
    }
   ],
   "source": [
    "test_x"
   ]
  },
  {
   "cell_type": "code",
   "execution_count": 36,
   "metadata": {
    "colab": {},
    "colab_type": "code",
    "id": "7xyRzqNcW_RG"
   },
   "outputs": [],
   "source": [
    "preds = model.predict(test_x['input_ids'])"
   ]
  },
  {
   "cell_type": "code",
   "execution_count": 37,
   "metadata": {
    "colab": {},
    "colab_type": "code",
    "id": "NmNPkFwucErf"
   },
   "outputs": [],
   "source": [
    "preds=preds['task2'].argmax(axis=-1)"
   ]
  },
  {
   "cell_type": "code",
   "execution_count": 38,
   "metadata": {
    "colab": {
     "base_uri": "https://localhost:8080/",
     "height": 35
    },
    "colab_type": "code",
    "id": "CxwTCTC-cp71",
    "outputId": "028d704f-e62e-4f48-bfa6-5ee8ded3d8a0"
   },
   "outputs": [
    {
     "data": {
      "text/plain": [
       "array([2, 2, 2, ..., 2, 2, 2])"
      ]
     },
     "execution_count": 38,
     "metadata": {
      "tags": []
     },
     "output_type": "execute_result"
    }
   ],
   "source": [
    "preds"
   ]
  },
  {
   "cell_type": "code",
   "execution_count": 39,
   "metadata": {
    "colab": {},
    "colab_type": "code",
    "id": "SwW9m9SPctiR"
   },
   "outputs": [],
   "source": [
    "test_y_issue=test_y_issue.argmax(axis=-1)"
   ]
  },
  {
   "cell_type": "code",
   "execution_count": 40,
   "metadata": {
    "colab": {
     "base_uri": "https://localhost:8080/",
     "height": 35
    },
    "colab_type": "code",
    "id": "6vjAFiabdA--",
    "outputId": "1c8bf0e0-227e-4c0c-bedd-fe123f7793d3"
   },
   "outputs": [
    {
     "data": {
      "text/plain": [
       "array([2, 2, 2, ..., 2, 2, 0])"
      ]
     },
     "execution_count": 40,
     "metadata": {
      "tags": []
     },
     "output_type": "execute_result"
    }
   ],
   "source": [
    "test_y_issue"
   ]
  },
  {
   "cell_type": "code",
   "execution_count": 41,
   "metadata": {
    "colab": {
     "base_uri": "https://localhost:8080/",
     "height": 217
    },
    "colab_type": "code",
    "id": "Xsym9tWWZMAW",
    "outputId": "b952a893-52d1-4b2d-abce-802d57413096"
   },
   "outputs": [
    {
     "name": "stdout",
     "output_type": "stream",
     "text": [
      "              precision    recall  f1-score   support\n",
      "\n",
      "           0       0.15      0.11      0.12       148\n",
      "           2       0.75      0.83      0.79       880\n",
      "           4       0.28      0.24      0.26       217\n",
      "           5       0.70      0.65      0.67       281\n",
      "\n",
      "    accuracy                           0.64      1526\n",
      "   macro avg       0.47      0.45      0.46      1526\n",
      "weighted avg       0.61      0.64      0.63      1526\n",
      "\n"
     ]
    }
   ],
   "source": [
    "from sklearn.metrics import classification_report\n",
    "print(classification_report(test_y_issue,preds))"
   ]
  },
  {
   "cell_type": "code",
   "execution_count": null,
   "metadata": {
    "colab": {},
    "colab_type": "code",
    "id": "A9eWr53jTQd9"
   },
   "outputs": [],
   "source": []
  }
 ],
 "metadata": {
  "accelerator": "GPU",
  "colab": {
   "collapsed_sections": [],
   "name": "Hindi_Minor_2_task_2_Bert_Model.ipynb",
   "provenance": []
  },
  "kernelspec": {
   "display_name": "Python 3",
   "language": "python",
   "name": "python3"
  },
  "language_info": {
   "codemirror_mode": {
    "name": "ipython",
    "version": 3
   },
   "file_extension": ".py",
   "mimetype": "text/x-python",
   "name": "python",
   "nbconvert_exporter": "python",
   "pygments_lexer": "ipython3",
   "version": "3.6.4"
  },
  "widgets": {
   "application/vnd.jupyter.widget-state+json": {
    "0122c1b960b14ec88c8070395b030ac7": {
     "model_module": "@jupyter-widgets/controls",
     "model_name": "ProgressStyleModel",
     "state": {
      "_model_module": "@jupyter-widgets/controls",
      "_model_module_version": "1.5.0",
      "_model_name": "ProgressStyleModel",
      "_view_count": null,
      "_view_module": "@jupyter-widgets/base",
      "_view_module_version": "1.2.0",
      "_view_name": "StyleView",
      "bar_color": null,
      "description_width": "initial"
     }
    },
    "0fef0928dfde4aaab4c998c7325b900e": {
     "model_module": "@jupyter-widgets/controls",
     "model_name": "FloatProgressModel",
     "state": {
      "_dom_classes": [],
      "_model_module": "@jupyter-widgets/controls",
      "_model_module_version": "1.5.0",
      "_model_name": "FloatProgressModel",
      "_view_count": null,
      "_view_module": "@jupyter-widgets/controls",
      "_view_module_version": "1.5.0",
      "_view_name": "ProgressView",
      "bar_style": "success",
      "description": "Downloading: 100%",
      "description_tooltip": null,
      "layout": "IPY_MODEL_1ee78f72f3304b4b86aadd629788218e",
      "max": 433,
      "min": 0,
      "orientation": "horizontal",
      "style": "IPY_MODEL_2f7a699d9d814bd0a4d6db35308cdee4",
      "value": 433
     }
    },
    "1ad1fc6926c440b69aea5f234d100d1b": {
     "model_module": "@jupyter-widgets/controls",
     "model_name": "FloatProgressModel",
     "state": {
      "_dom_classes": [],
      "_model_module": "@jupyter-widgets/controls",
      "_model_module_version": "1.5.0",
      "_model_name": "FloatProgressModel",
      "_view_count": null,
      "_view_module": "@jupyter-widgets/controls",
      "_view_module_version": "1.5.0",
      "_view_name": "ProgressView",
      "bar_style": "success",
      "description": "Downloading: 100%",
      "description_tooltip": null,
      "layout": "IPY_MODEL_cc157cfb3ddd4462a7c2f8722424e7d2",
      "max": 536063208,
      "min": 0,
      "orientation": "horizontal",
      "style": "IPY_MODEL_66733d20e7894f2c96465c7d08dce2ab",
      "value": 536063208
     }
    },
    "1ee78f72f3304b4b86aadd629788218e": {
     "model_module": "@jupyter-widgets/base",
     "model_name": "LayoutModel",
     "state": {
      "_model_module": "@jupyter-widgets/base",
      "_model_module_version": "1.2.0",
      "_model_name": "LayoutModel",
      "_view_count": null,
      "_view_module": "@jupyter-widgets/base",
      "_view_module_version": "1.2.0",
      "_view_name": "LayoutView",
      "align_content": null,
      "align_items": null,
      "align_self": null,
      "border": null,
      "bottom": null,
      "display": null,
      "flex": null,
      "flex_flow": null,
      "grid_area": null,
      "grid_auto_columns": null,
      "grid_auto_flow": null,
      "grid_auto_rows": null,
      "grid_column": null,
      "grid_gap": null,
      "grid_row": null,
      "grid_template_areas": null,
      "grid_template_columns": null,
      "grid_template_rows": null,
      "height": null,
      "justify_content": null,
      "justify_items": null,
      "left": null,
      "margin": null,
      "max_height": null,
      "max_width": null,
      "min_height": null,
      "min_width": null,
      "object_fit": null,
      "object_position": null,
      "order": null,
      "overflow": null,
      "overflow_x": null,
      "overflow_y": null,
      "padding": null,
      "right": null,
      "top": null,
      "visibility": null,
      "width": null
     }
    },
    "2ad054272b224758bb3a6688a4567b5c": {
     "model_module": "@jupyter-widgets/base",
     "model_name": "LayoutModel",
     "state": {
      "_model_module": "@jupyter-widgets/base",
      "_model_module_version": "1.2.0",
      "_model_name": "LayoutModel",
      "_view_count": null,
      "_view_module": "@jupyter-widgets/base",
      "_view_module_version": "1.2.0",
      "_view_name": "LayoutView",
      "align_content": null,
      "align_items": null,
      "align_self": null,
      "border": null,
      "bottom": null,
      "display": null,
      "flex": null,
      "flex_flow": null,
      "grid_area": null,
      "grid_auto_columns": null,
      "grid_auto_flow": null,
      "grid_auto_rows": null,
      "grid_column": null,
      "grid_gap": null,
      "grid_row": null,
      "grid_template_areas": null,
      "grid_template_columns": null,
      "grid_template_rows": null,
      "height": null,
      "justify_content": null,
      "justify_items": null,
      "left": null,
      "margin": null,
      "max_height": null,
      "max_width": null,
      "min_height": null,
      "min_width": null,
      "object_fit": null,
      "object_position": null,
      "order": null,
      "overflow": null,
      "overflow_x": null,
      "overflow_y": null,
      "padding": null,
      "right": null,
      "top": null,
      "visibility": null,
      "width": null
     }
    },
    "2d955dd679594be4b620143f3c28a459": {
     "model_module": "@jupyter-widgets/base",
     "model_name": "LayoutModel",
     "state": {
      "_model_module": "@jupyter-widgets/base",
      "_model_module_version": "1.2.0",
      "_model_name": "LayoutModel",
      "_view_count": null,
      "_view_module": "@jupyter-widgets/base",
      "_view_module_version": "1.2.0",
      "_view_name": "LayoutView",
      "align_content": null,
      "align_items": null,
      "align_self": null,
      "border": null,
      "bottom": null,
      "display": null,
      "flex": null,
      "flex_flow": null,
      "grid_area": null,
      "grid_auto_columns": null,
      "grid_auto_flow": null,
      "grid_auto_rows": null,
      "grid_column": null,
      "grid_gap": null,
      "grid_row": null,
      "grid_template_areas": null,
      "grid_template_columns": null,
      "grid_template_rows": null,
      "height": null,
      "justify_content": null,
      "justify_items": null,
      "left": null,
      "margin": null,
      "max_height": null,
      "max_width": null,
      "min_height": null,
      "min_width": null,
      "object_fit": null,
      "object_position": null,
      "order": null,
      "overflow": null,
      "overflow_x": null,
      "overflow_y": null,
      "padding": null,
      "right": null,
      "top": null,
      "visibility": null,
      "width": null
     }
    },
    "2f7a699d9d814bd0a4d6db35308cdee4": {
     "model_module": "@jupyter-widgets/controls",
     "model_name": "ProgressStyleModel",
     "state": {
      "_model_module": "@jupyter-widgets/controls",
      "_model_module_version": "1.5.0",
      "_model_name": "ProgressStyleModel",
      "_view_count": null,
      "_view_module": "@jupyter-widgets/base",
      "_view_module_version": "1.2.0",
      "_view_name": "StyleView",
      "bar_color": null,
      "description_width": "initial"
     }
    },
    "46d450e11a204bf59cd558e0f3587db9": {
     "model_module": "@jupyter-widgets/controls",
     "model_name": "HTMLModel",
     "state": {
      "_dom_classes": [],
      "_model_module": "@jupyter-widgets/controls",
      "_model_module_version": "1.5.0",
      "_model_name": "HTMLModel",
      "_view_count": null,
      "_view_module": "@jupyter-widgets/controls",
      "_view_module_version": "1.5.0",
      "_view_name": "HTMLView",
      "description": "",
      "description_tooltip": null,
      "layout": "IPY_MODEL_95c90e445d1542bb8e58fa1f8263e0f1",
      "placeholder": "​",
      "style": "IPY_MODEL_7aab2bf6bbf94371a8f14c05b6888f32",
      "value": " 536M/536M [00:22&lt;00:00, 23.6MB/s]"
     }
    },
    "4ca9c88be6224d3e83a68b0dc551085b": {
     "model_module": "@jupyter-widgets/controls",
     "model_name": "HBoxModel",
     "state": {
      "_dom_classes": [],
      "_model_module": "@jupyter-widgets/controls",
      "_model_module_version": "1.5.0",
      "_model_name": "HBoxModel",
      "_view_count": null,
      "_view_module": "@jupyter-widgets/controls",
      "_view_module_version": "1.5.0",
      "_view_name": "HBoxView",
      "box_style": "",
      "children": [
       "IPY_MODEL_7c482ad8f8724aaea24c535b4d1a4e0e",
       "IPY_MODEL_5f7a4912e8514aed9b6db9b51168d819"
      ],
      "layout": "IPY_MODEL_ca5d75345a6749698121f2bff27be60c"
     }
    },
    "54ed537690c542439e6b41ce0cbd4b45": {
     "model_module": "@jupyter-widgets/controls",
     "model_name": "DescriptionStyleModel",
     "state": {
      "_model_module": "@jupyter-widgets/controls",
      "_model_module_version": "1.5.0",
      "_model_name": "DescriptionStyleModel",
      "_view_count": null,
      "_view_module": "@jupyter-widgets/base",
      "_view_module_version": "1.2.0",
      "_view_name": "StyleView",
      "description_width": ""
     }
    },
    "5f7a4912e8514aed9b6db9b51168d819": {
     "model_module": "@jupyter-widgets/controls",
     "model_name": "HTMLModel",
     "state": {
      "_dom_classes": [],
      "_model_module": "@jupyter-widgets/controls",
      "_model_module_version": "1.5.0",
      "_model_name": "HTMLModel",
      "_view_count": null,
      "_view_module": "@jupyter-widgets/controls",
      "_view_module_version": "1.5.0",
      "_view_name": "HTMLView",
      "description": "",
      "description_tooltip": null,
      "layout": "IPY_MODEL_99cbe7bb7ac048c4807554fe0268c5de",
      "placeholder": "​",
      "style": "IPY_MODEL_54ed537690c542439e6b41ce0cbd4b45",
      "value": " 232k/232k [00:23&lt;00:00, 9.99kB/s]"
     }
    },
    "66733d20e7894f2c96465c7d08dce2ab": {
     "model_module": "@jupyter-widgets/controls",
     "model_name": "ProgressStyleModel",
     "state": {
      "_model_module": "@jupyter-widgets/controls",
      "_model_module_version": "1.5.0",
      "_model_name": "ProgressStyleModel",
      "_view_count": null,
      "_view_module": "@jupyter-widgets/base",
      "_view_module_version": "1.2.0",
      "_view_name": "StyleView",
      "bar_color": null,
      "description_width": "initial"
     }
    },
    "73b10cade3104dd0a1e9ed5b9fe51ac1": {
     "model_module": "@jupyter-widgets/controls",
     "model_name": "HBoxModel",
     "state": {
      "_dom_classes": [],
      "_model_module": "@jupyter-widgets/controls",
      "_model_module_version": "1.5.0",
      "_model_name": "HBoxModel",
      "_view_count": null,
      "_view_module": "@jupyter-widgets/controls",
      "_view_module_version": "1.5.0",
      "_view_name": "HBoxView",
      "box_style": "",
      "children": [
       "IPY_MODEL_0fef0928dfde4aaab4c998c7325b900e",
       "IPY_MODEL_8e94ddf9704d4d5495e300c8d33e726d"
      ],
      "layout": "IPY_MODEL_ca4d9cd76908470e81f85a6ada4cdf79"
     }
    },
    "7aab2bf6bbf94371a8f14c05b6888f32": {
     "model_module": "@jupyter-widgets/controls",
     "model_name": "DescriptionStyleModel",
     "state": {
      "_model_module": "@jupyter-widgets/controls",
      "_model_module_version": "1.5.0",
      "_model_name": "DescriptionStyleModel",
      "_view_count": null,
      "_view_module": "@jupyter-widgets/base",
      "_view_module_version": "1.2.0",
      "_view_name": "StyleView",
      "description_width": ""
     }
    },
    "7c482ad8f8724aaea24c535b4d1a4e0e": {
     "model_module": "@jupyter-widgets/controls",
     "model_name": "FloatProgressModel",
     "state": {
      "_dom_classes": [],
      "_model_module": "@jupyter-widgets/controls",
      "_model_module_version": "1.5.0",
      "_model_name": "FloatProgressModel",
      "_view_count": null,
      "_view_module": "@jupyter-widgets/controls",
      "_view_module_version": "1.5.0",
      "_view_name": "ProgressView",
      "bar_style": "success",
      "description": "Downloading: 100%",
      "description_tooltip": null,
      "layout": "IPY_MODEL_b5a826efddb147e2b88630dcfdadefce",
      "max": 231508,
      "min": 0,
      "orientation": "horizontal",
      "style": "IPY_MODEL_0122c1b960b14ec88c8070395b030ac7",
      "value": 231508
     }
    },
    "8e94ddf9704d4d5495e300c8d33e726d": {
     "model_module": "@jupyter-widgets/controls",
     "model_name": "HTMLModel",
     "state": {
      "_dom_classes": [],
      "_model_module": "@jupyter-widgets/controls",
      "_model_module_version": "1.5.0",
      "_model_name": "HTMLModel",
      "_view_count": null,
      "_view_module": "@jupyter-widgets/controls",
      "_view_module_version": "1.5.0",
      "_view_name": "HTMLView",
      "description": "",
      "description_tooltip": null,
      "layout": "IPY_MODEL_2ad054272b224758bb3a6688a4567b5c",
      "placeholder": "​",
      "style": "IPY_MODEL_9b769cb9040143a2b66b1d2a929c852d",
      "value": " 433/433 [00:00&lt;00:00, 531B/s]"
     }
    },
    "95c90e445d1542bb8e58fa1f8263e0f1": {
     "model_module": "@jupyter-widgets/base",
     "model_name": "LayoutModel",
     "state": {
      "_model_module": "@jupyter-widgets/base",
      "_model_module_version": "1.2.0",
      "_model_name": "LayoutModel",
      "_view_count": null,
      "_view_module": "@jupyter-widgets/base",
      "_view_module_version": "1.2.0",
      "_view_name": "LayoutView",
      "align_content": null,
      "align_items": null,
      "align_self": null,
      "border": null,
      "bottom": null,
      "display": null,
      "flex": null,
      "flex_flow": null,
      "grid_area": null,
      "grid_auto_columns": null,
      "grid_auto_flow": null,
      "grid_auto_rows": null,
      "grid_column": null,
      "grid_gap": null,
      "grid_row": null,
      "grid_template_areas": null,
      "grid_template_columns": null,
      "grid_template_rows": null,
      "height": null,
      "justify_content": null,
      "justify_items": null,
      "left": null,
      "margin": null,
      "max_height": null,
      "max_width": null,
      "min_height": null,
      "min_width": null,
      "object_fit": null,
      "object_position": null,
      "order": null,
      "overflow": null,
      "overflow_x": null,
      "overflow_y": null,
      "padding": null,
      "right": null,
      "top": null,
      "visibility": null,
      "width": null
     }
    },
    "97e3eeb065da449b8512568ab14b7f25": {
     "model_module": "@jupyter-widgets/controls",
     "model_name": "HBoxModel",
     "state": {
      "_dom_classes": [],
      "_model_module": "@jupyter-widgets/controls",
      "_model_module_version": "1.5.0",
      "_model_name": "HBoxModel",
      "_view_count": null,
      "_view_module": "@jupyter-widgets/controls",
      "_view_module_version": "1.5.0",
      "_view_name": "HBoxView",
      "box_style": "",
      "children": [
       "IPY_MODEL_1ad1fc6926c440b69aea5f234d100d1b",
       "IPY_MODEL_46d450e11a204bf59cd558e0f3587db9"
      ],
      "layout": "IPY_MODEL_2d955dd679594be4b620143f3c28a459"
     }
    },
    "99cbe7bb7ac048c4807554fe0268c5de": {
     "model_module": "@jupyter-widgets/base",
     "model_name": "LayoutModel",
     "state": {
      "_model_module": "@jupyter-widgets/base",
      "_model_module_version": "1.2.0",
      "_model_name": "LayoutModel",
      "_view_count": null,
      "_view_module": "@jupyter-widgets/base",
      "_view_module_version": "1.2.0",
      "_view_name": "LayoutView",
      "align_content": null,
      "align_items": null,
      "align_self": null,
      "border": null,
      "bottom": null,
      "display": null,
      "flex": null,
      "flex_flow": null,
      "grid_area": null,
      "grid_auto_columns": null,
      "grid_auto_flow": null,
      "grid_auto_rows": null,
      "grid_column": null,
      "grid_gap": null,
      "grid_row": null,
      "grid_template_areas": null,
      "grid_template_columns": null,
      "grid_template_rows": null,
      "height": null,
      "justify_content": null,
      "justify_items": null,
      "left": null,
      "margin": null,
      "max_height": null,
      "max_width": null,
      "min_height": null,
      "min_width": null,
      "object_fit": null,
      "object_position": null,
      "order": null,
      "overflow": null,
      "overflow_x": null,
      "overflow_y": null,
      "padding": null,
      "right": null,
      "top": null,
      "visibility": null,
      "width": null
     }
    },
    "9b769cb9040143a2b66b1d2a929c852d": {
     "model_module": "@jupyter-widgets/controls",
     "model_name": "DescriptionStyleModel",
     "state": {
      "_model_module": "@jupyter-widgets/controls",
      "_model_module_version": "1.5.0",
      "_model_name": "DescriptionStyleModel",
      "_view_count": null,
      "_view_module": "@jupyter-widgets/base",
      "_view_module_version": "1.2.0",
      "_view_name": "StyleView",
      "description_width": ""
     }
    },
    "b5a826efddb147e2b88630dcfdadefce": {
     "model_module": "@jupyter-widgets/base",
     "model_name": "LayoutModel",
     "state": {
      "_model_module": "@jupyter-widgets/base",
      "_model_module_version": "1.2.0",
      "_model_name": "LayoutModel",
      "_view_count": null,
      "_view_module": "@jupyter-widgets/base",
      "_view_module_version": "1.2.0",
      "_view_name": "LayoutView",
      "align_content": null,
      "align_items": null,
      "align_self": null,
      "border": null,
      "bottom": null,
      "display": null,
      "flex": null,
      "flex_flow": null,
      "grid_area": null,
      "grid_auto_columns": null,
      "grid_auto_flow": null,
      "grid_auto_rows": null,
      "grid_column": null,
      "grid_gap": null,
      "grid_row": null,
      "grid_template_areas": null,
      "grid_template_columns": null,
      "grid_template_rows": null,
      "height": null,
      "justify_content": null,
      "justify_items": null,
      "left": null,
      "margin": null,
      "max_height": null,
      "max_width": null,
      "min_height": null,
      "min_width": null,
      "object_fit": null,
      "object_position": null,
      "order": null,
      "overflow": null,
      "overflow_x": null,
      "overflow_y": null,
      "padding": null,
      "right": null,
      "top": null,
      "visibility": null,
      "width": null
     }
    },
    "ca4d9cd76908470e81f85a6ada4cdf79": {
     "model_module": "@jupyter-widgets/base",
     "model_name": "LayoutModel",
     "state": {
      "_model_module": "@jupyter-widgets/base",
      "_model_module_version": "1.2.0",
      "_model_name": "LayoutModel",
      "_view_count": null,
      "_view_module": "@jupyter-widgets/base",
      "_view_module_version": "1.2.0",
      "_view_name": "LayoutView",
      "align_content": null,
      "align_items": null,
      "align_self": null,
      "border": null,
      "bottom": null,
      "display": null,
      "flex": null,
      "flex_flow": null,
      "grid_area": null,
      "grid_auto_columns": null,
      "grid_auto_flow": null,
      "grid_auto_rows": null,
      "grid_column": null,
      "grid_gap": null,
      "grid_row": null,
      "grid_template_areas": null,
      "grid_template_columns": null,
      "grid_template_rows": null,
      "height": null,
      "justify_content": null,
      "justify_items": null,
      "left": null,
      "margin": null,
      "max_height": null,
      "max_width": null,
      "min_height": null,
      "min_width": null,
      "object_fit": null,
      "object_position": null,
      "order": null,
      "overflow": null,
      "overflow_x": null,
      "overflow_y": null,
      "padding": null,
      "right": null,
      "top": null,
      "visibility": null,
      "width": null
     }
    },
    "ca5d75345a6749698121f2bff27be60c": {
     "model_module": "@jupyter-widgets/base",
     "model_name": "LayoutModel",
     "state": {
      "_model_module": "@jupyter-widgets/base",
      "_model_module_version": "1.2.0",
      "_model_name": "LayoutModel",
      "_view_count": null,
      "_view_module": "@jupyter-widgets/base",
      "_view_module_version": "1.2.0",
      "_view_name": "LayoutView",
      "align_content": null,
      "align_items": null,
      "align_self": null,
      "border": null,
      "bottom": null,
      "display": null,
      "flex": null,
      "flex_flow": null,
      "grid_area": null,
      "grid_auto_columns": null,
      "grid_auto_flow": null,
      "grid_auto_rows": null,
      "grid_column": null,
      "grid_gap": null,
      "grid_row": null,
      "grid_template_areas": null,
      "grid_template_columns": null,
      "grid_template_rows": null,
      "height": null,
      "justify_content": null,
      "justify_items": null,
      "left": null,
      "margin": null,
      "max_height": null,
      "max_width": null,
      "min_height": null,
      "min_width": null,
      "object_fit": null,
      "object_position": null,
      "order": null,
      "overflow": null,
      "overflow_x": null,
      "overflow_y": null,
      "padding": null,
      "right": null,
      "top": null,
      "visibility": null,
      "width": null
     }
    },
    "cc157cfb3ddd4462a7c2f8722424e7d2": {
     "model_module": "@jupyter-widgets/base",
     "model_name": "LayoutModel",
     "state": {
      "_model_module": "@jupyter-widgets/base",
      "_model_module_version": "1.2.0",
      "_model_name": "LayoutModel",
      "_view_count": null,
      "_view_module": "@jupyter-widgets/base",
      "_view_module_version": "1.2.0",
      "_view_name": "LayoutView",
      "align_content": null,
      "align_items": null,
      "align_self": null,
      "border": null,
      "bottom": null,
      "display": null,
      "flex": null,
      "flex_flow": null,
      "grid_area": null,
      "grid_auto_columns": null,
      "grid_auto_flow": null,
      "grid_auto_rows": null,
      "grid_column": null,
      "grid_gap": null,
      "grid_row": null,
      "grid_template_areas": null,
      "grid_template_columns": null,
      "grid_template_rows": null,
      "height": null,
      "justify_content": null,
      "justify_items": null,
      "left": null,
      "margin": null,
      "max_height": null,
      "max_width": null,
      "min_height": null,
      "min_width": null,
      "object_fit": null,
      "object_position": null,
      "order": null,
      "overflow": null,
      "overflow_x": null,
      "overflow_y": null,
      "padding": null,
      "right": null,
      "top": null,
      "visibility": null,
      "width": null
     }
    }
   }
  }
 },
 "nbformat": 4,
 "nbformat_minor": 1
}
