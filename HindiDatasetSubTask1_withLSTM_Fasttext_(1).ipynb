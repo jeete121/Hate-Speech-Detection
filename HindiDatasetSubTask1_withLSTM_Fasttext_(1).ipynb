{
  "nbformat": 4,
  "nbformat_minor": 0,
  "metadata": {
    "accelerator": "GPU",
    "colab": {
      "name": "HindiDatasetSubTask1_withLSTM_Fasttext (1).ipynb",
      "provenance": [],
      "collapsed_sections": []
    },
    "kernelspec": {
      "display_name": "Python 3",
      "language": "python",
      "name": "python3"
    },
    "language_info": {
      "codemirror_mode": {
        "name": "ipython",
        "version": 3
      },
      "file_extension": ".py",
      "mimetype": "text/x-python",
      "name": "python",
      "nbconvert_exporter": "python",
      "pygments_lexer": "ipython3",
      "version": "3.7.6"
    }
  },
  "cells": [
    {
      "cell_type": "code",
      "metadata": {
        "id": "geczqqiH_HSF",
        "outputId": "43d73702-35bb-4ce8-9b3d-56905f7d34d4",
        "colab": {
          "base_uri": "https://localhost:8080/",
          "height": 35
        }
      },
      "source": [
        "from google.colab import drive\n",
        "drive.mount('/content/drive')"
      ],
      "execution_count": 2,
      "outputs": [
        {
          "output_type": "stream",
          "text": [
            "Mounted at /content/drive\n"
          ],
          "name": "stdout"
        }
      ]
    },
    {
      "cell_type": "code",
      "metadata": {
        "id": "zpMoZmNtV_6i",
        "outputId": "bbb0aa3d-cb78-468d-947c-a495820e22c7",
        "colab": {
          "base_uri": "https://localhost:8080/",
          "height": 90
        }
      },
      "source": [
        "import numpy as np\n",
        "import pandas as pd\n",
        "import sklearn\n",
        "import nltk\n",
        "nltk.download('stopwords')\n",
        "nltk.download('punkt')\n",
        "from sklearn import feature_extraction,model_selection\n",
        "from sklearn.metrics import confusion_matrix\n",
        "import glob\n",
        "import os\n",
        "import string\n",
        "import tensorflow as tf\n",
        "import keras as K\n",
        "import zipfile\n",
        "from itertools import chain\n",
        "from keras.preprocessing.text import Tokenizer\n",
        "from keras.preprocessing.sequence import pad_sequences\n",
        "import matplotlib.pyplot as plt\n",
        "from sklearn.metrics import plot_confusion_matrix, classification_report"
      ],
      "execution_count": 3,
      "outputs": [
        {
          "output_type": "stream",
          "text": [
            "[nltk_data] Downloading package stopwords to /root/nltk_data...\n",
            "[nltk_data]   Unzipping corpora/stopwords.zip.\n",
            "[nltk_data] Downloading package punkt to /root/nltk_data...\n",
            "[nltk_data]   Unzipping tokenizers/punkt.zip.\n"
          ],
          "name": "stdout"
        }
      ]
    },
    {
      "cell_type": "code",
      "metadata": {
        "id": "UC86IhnuZgWE"
      },
      "source": [
        "# importing Word2Vec\n",
        "from gensim.models import Word2Vec\n",
        "from gensim.models import FastText"
      ],
      "execution_count": 4,
      "outputs": []
    },
    {
      "cell_type": "code",
      "metadata": {
        "id": "yCULtW0LW2gg",
        "outputId": "346431ac-6434-452a-dfcc-7fed93389395",
        "colab": {
          "base_uri": "https://localhost:8080/",
          "height": 206
        }
      },
      "source": [
        "X=pd.read_csv('/content/hindi_tr.csv')\n",
        "X.head()"
      ],
      "execution_count": 5,
      "outputs": [
        {
          "output_type": "execute_result",
          "data": {
            "text/html": [
              "<div>\n",
              "<style scoped>\n",
              "    .dataframe tbody tr th:only-of-type {\n",
              "        vertical-align: middle;\n",
              "    }\n",
              "\n",
              "    .dataframe tbody tr th {\n",
              "        vertical-align: top;\n",
              "    }\n",
              "\n",
              "    .dataframe thead th {\n",
              "        text-align: right;\n",
              "    }\n",
              "</style>\n",
              "<table border=\"1\" class=\"dataframe\">\n",
              "  <thead>\n",
              "    <tr style=\"text-align: right;\">\n",
              "      <th></th>\n",
              "      <th>tweet_id</th>\n",
              "      <th>text</th>\n",
              "      <th>task1</th>\n",
              "      <th>task2</th>\n",
              "      <th>ID</th>\n",
              "    </tr>\n",
              "  </thead>\n",
              "  <tbody>\n",
              "    <tr>\n",
              "      <th>0</th>\n",
              "      <td>1.127755e+18</td>\n",
              "      <td>1 आदमीं को मारने पर गोडसे आतंकी हो सके है तो\\n...</td>\n",
              "      <td>HOF</td>\n",
              "      <td>HATE</td>\n",
              "      <td>hasoc_2020_hi_2250</td>\n",
              "    </tr>\n",
              "    <tr>\n",
              "      <th>1</th>\n",
              "      <td>1.123579e+18</td>\n",
              "      <td>RT @Vishesh4: @jawaharyadavbjp जवाहर यादव, अगर...</td>\n",
              "      <td>NOT</td>\n",
              "      <td>NONE</td>\n",
              "      <td>hasoc_2020_hi_381</td>\n",
              "    </tr>\n",
              "    <tr>\n",
              "      <th>2</th>\n",
              "      <td>1.127750e+18</td>\n",
              "      <td>RT @FunKeyBaat: #भगवा वस्त्र पहन कर मतदान नही ...</td>\n",
              "      <td>HOF</td>\n",
              "      <td>HATE</td>\n",
              "      <td>hasoc_2020_hi_1510</td>\n",
              "    </tr>\n",
              "    <tr>\n",
              "      <th>3</th>\n",
              "      <td>1.127661e+18</td>\n",
              "      <td>Yey nina khothani labafazi benu phambili Finis...</td>\n",
              "      <td>HOF</td>\n",
              "      <td>PRFN</td>\n",
              "      <td>hasoc_2020_hi_1010</td>\n",
              "    </tr>\n",
              "    <tr>\n",
              "      <th>4</th>\n",
              "      <td>1.123487e+18</td>\n",
              "      <td>RT @Rajeshbhanjan2: जब भी कोई सिकुलर कोंग्रेसी...</td>\n",
              "      <td>HOF</td>\n",
              "      <td>HATE</td>\n",
              "      <td>hasoc_2020_hi_331</td>\n",
              "    </tr>\n",
              "  </tbody>\n",
              "</table>\n",
              "</div>"
            ],
            "text/plain": [
              "       tweet_id  ...                  ID\n",
              "0  1.127755e+18  ...  hasoc_2020_hi_2250\n",
              "1  1.123579e+18  ...   hasoc_2020_hi_381\n",
              "2  1.127750e+18  ...  hasoc_2020_hi_1510\n",
              "3  1.127661e+18  ...  hasoc_2020_hi_1010\n",
              "4  1.123487e+18  ...   hasoc_2020_hi_331\n",
              "\n",
              "[5 rows x 5 columns]"
            ]
          },
          "metadata": {
            "tags": []
          },
          "execution_count": 5
        }
      ]
    },
    {
      "cell_type": "code",
      "metadata": {
        "id": "wvV7VW70lSGp",
        "outputId": "359ced4c-eeab-4c13-e864-b287fe5f56cd",
        "colab": {
          "base_uri": "https://localhost:8080/",
          "height": 424
        }
      },
      "source": [
        "X=X[['text','task1']]\n",
        "X"
      ],
      "execution_count": 6,
      "outputs": [
        {
          "output_type": "execute_result",
          "data": {
            "text/html": [
              "<div>\n",
              "<style scoped>\n",
              "    .dataframe tbody tr th:only-of-type {\n",
              "        vertical-align: middle;\n",
              "    }\n",
              "\n",
              "    .dataframe tbody tr th {\n",
              "        vertical-align: top;\n",
              "    }\n",
              "\n",
              "    .dataframe thead th {\n",
              "        text-align: right;\n",
              "    }\n",
              "</style>\n",
              "<table border=\"1\" class=\"dataframe\">\n",
              "  <thead>\n",
              "    <tr style=\"text-align: right;\">\n",
              "      <th></th>\n",
              "      <th>text</th>\n",
              "      <th>task1</th>\n",
              "    </tr>\n",
              "  </thead>\n",
              "  <tbody>\n",
              "    <tr>\n",
              "      <th>0</th>\n",
              "      <td>1 आदमीं को मारने पर गोडसे आतंकी हो सके है तो\\n...</td>\n",
              "      <td>HOF</td>\n",
              "    </tr>\n",
              "    <tr>\n",
              "      <th>1</th>\n",
              "      <td>RT @Vishesh4: @jawaharyadavbjp जवाहर यादव, अगर...</td>\n",
              "      <td>NOT</td>\n",
              "    </tr>\n",
              "    <tr>\n",
              "      <th>2</th>\n",
              "      <td>RT @FunKeyBaat: #भगवा वस्त्र पहन कर मतदान नही ...</td>\n",
              "      <td>HOF</td>\n",
              "    </tr>\n",
              "    <tr>\n",
              "      <th>3</th>\n",
              "      <td>Yey nina khothani labafazi benu phambili Finis...</td>\n",
              "      <td>HOF</td>\n",
              "    </tr>\n",
              "    <tr>\n",
              "      <th>4</th>\n",
              "      <td>RT @Rajeshbhanjan2: जब भी कोई सिकुलर कोंग्रेसी...</td>\n",
              "      <td>HOF</td>\n",
              "    </tr>\n",
              "    <tr>\n",
              "      <th>...</th>\n",
              "      <td>...</td>\n",
              "      <td>...</td>\n",
              "    </tr>\n",
              "    <tr>\n",
              "      <th>2958</th>\n",
              "      <td>@Varun_dvn जिसके नाम के साथ इंडिअनस लगा हो उसक...</td>\n",
              "      <td>NOT</td>\n",
              "    </tr>\n",
              "    <tr>\n",
              "      <th>2959</th>\n",
              "      <td>मुझे सबसे ज्यादा राहुल और सोनियाके बारे बुरा ल...</td>\n",
              "      <td>NOT</td>\n",
              "    </tr>\n",
              "    <tr>\n",
              "      <th>2960</th>\n",
              "      <td>RT @Gujju_Er: एक आतंकी जिसे कांग्रेस ने\\n'शांत...</td>\n",
              "      <td>HOF</td>\n",
              "    </tr>\n",
              "    <tr>\n",
              "      <th>2961</th>\n",
              "      <td>RT @dayanand151: @jafahar1 @BBCHindi @Hariramk...</td>\n",
              "      <td>HOF</td>\n",
              "    </tr>\n",
              "    <tr>\n",
              "      <th>2962</th>\n",
              "      <td>RT @manakgupta: “हमें 5 साल हो गए, हमने संविधा...</td>\n",
              "      <td>NOT</td>\n",
              "    </tr>\n",
              "  </tbody>\n",
              "</table>\n",
              "<p>2963 rows × 2 columns</p>\n",
              "</div>"
            ],
            "text/plain": [
              "                                                   text task1\n",
              "0     1 आदमीं को मारने पर गोडसे आतंकी हो सके है तो\\n...   HOF\n",
              "1     RT @Vishesh4: @jawaharyadavbjp जवाहर यादव, अगर...   NOT\n",
              "2     RT @FunKeyBaat: #भगवा वस्त्र पहन कर मतदान नही ...   HOF\n",
              "3     Yey nina khothani labafazi benu phambili Finis...   HOF\n",
              "4     RT @Rajeshbhanjan2: जब भी कोई सिकुलर कोंग्रेसी...   HOF\n",
              "...                                                 ...   ...\n",
              "2958  @Varun_dvn जिसके नाम के साथ इंडिअनस लगा हो उसक...   NOT\n",
              "2959  मुझे सबसे ज्यादा राहुल और सोनियाके बारे बुरा ल...   NOT\n",
              "2960  RT @Gujju_Er: एक आतंकी जिसे कांग्रेस ने\\n'शांत...   HOF\n",
              "2961  RT @dayanand151: @jafahar1 @BBCHindi @Hariramk...   HOF\n",
              "2962  RT @manakgupta: “हमें 5 साल हो गए, हमने संविधा...   NOT\n",
              "\n",
              "[2963 rows x 2 columns]"
            ]
          },
          "metadata": {
            "tags": []
          },
          "execution_count": 6
        }
      ]
    },
    {
      "cell_type": "code",
      "metadata": {
        "id": "d6un7JvzW-7b",
        "outputId": "4f4e18a3-65df-4222-9642-2c592c56f0cf",
        "colab": {
          "base_uri": "https://localhost:8080/",
          "height": 206
        }
      },
      "source": [
        "df1=pd.read_csv('/content/hindi_test_1509.csv')\n",
        "df1.head()"
      ],
      "execution_count": 7,
      "outputs": [
        {
          "output_type": "execute_result",
          "data": {
            "text/html": [
              "<div>\n",
              "<style scoped>\n",
              "    .dataframe tbody tr th:only-of-type {\n",
              "        vertical-align: middle;\n",
              "    }\n",
              "\n",
              "    .dataframe tbody tr th {\n",
              "        vertical-align: top;\n",
              "    }\n",
              "\n",
              "    .dataframe thead th {\n",
              "        text-align: right;\n",
              "    }\n",
              "</style>\n",
              "<table border=\"1\" class=\"dataframe\">\n",
              "  <thead>\n",
              "    <tr style=\"text-align: right;\">\n",
              "      <th></th>\n",
              "      <th>tweet_id</th>\n",
              "      <th>text</th>\n",
              "      <th>task1</th>\n",
              "      <th>task2</th>\n",
              "      <th>ID</th>\n",
              "    </tr>\n",
              "  </thead>\n",
              "  <tbody>\n",
              "    <tr>\n",
              "      <th>0</th>\n",
              "      <td>1127781647783301120</td>\n",
              "      <td>@Kinjal_Dubey_ इसके लिए तैयारी हो रखी है\\nआपको...</td>\n",
              "      <td>HOF</td>\n",
              "      <td>OFFN</td>\n",
              "      <td>hasoc_2020_hi_1938</td>\n",
              "    </tr>\n",
              "    <tr>\n",
              "      <th>1</th>\n",
              "      <td>1127492853171535872</td>\n",
              "      <td>RT @pratimamishra04: दिल्ली के मुख्यमंत्री @Ar...</td>\n",
              "      <td>NOT</td>\n",
              "      <td>NONE</td>\n",
              "      <td>hasoc_2020_hi_1201</td>\n",
              "    </tr>\n",
              "    <tr>\n",
              "      <th>2</th>\n",
              "      <td>1123638375896903681</td>\n",
              "      <td>RT @nishantdabre2: आज एक तरफ खुशी है, तो एक तर...</td>\n",
              "      <td>NOT</td>\n",
              "      <td>NONE</td>\n",
              "      <td>hasoc_2020_hi_1628</td>\n",
              "    </tr>\n",
              "    <tr>\n",
              "      <th>3</th>\n",
              "      <td>1127496460310683648</td>\n",
              "      <td>@BJP4India @HardeepSPuri जिस कुनबे के लोग :-\\n...</td>\n",
              "      <td>NOT</td>\n",
              "      <td>NONE</td>\n",
              "      <td>hasoc_2020_hi_3257</td>\n",
              "    </tr>\n",
              "    <tr>\n",
              "      <th>4</th>\n",
              "      <td>1127667277535399937</td>\n",
              "      <td>@manakgupta बादल....😂😂😂</td>\n",
              "      <td>NOT</td>\n",
              "      <td>NONE</td>\n",
              "      <td>hasoc_2020_hi_4133</td>\n",
              "    </tr>\n",
              "  </tbody>\n",
              "</table>\n",
              "</div>"
            ],
            "text/plain": [
              "              tweet_id  ...                  ID\n",
              "0  1127781647783301120  ...  hasoc_2020_hi_1938\n",
              "1  1127492853171535872  ...  hasoc_2020_hi_1201\n",
              "2  1123638375896903681  ...  hasoc_2020_hi_1628\n",
              "3  1127496460310683648  ...  hasoc_2020_hi_3257\n",
              "4  1127667277535399937  ...  hasoc_2020_hi_4133\n",
              "\n",
              "[5 rows x 5 columns]"
            ]
          },
          "metadata": {
            "tags": []
          },
          "execution_count": 7
        }
      ]
    },
    {
      "cell_type": "code",
      "metadata": {
        "id": "LfFGL1rvXGS6",
        "outputId": "a75b3178-ec53-4bdb-cf05-a6a1138509a7",
        "colab": {
          "base_uri": "https://localhost:8080/",
          "height": 424
        }
      },
      "source": [
        "Y=df1[['text','task1']]\n",
        "Y"
      ],
      "execution_count": 8,
      "outputs": [
        {
          "output_type": "execute_result",
          "data": {
            "text/html": [
              "<div>\n",
              "<style scoped>\n",
              "    .dataframe tbody tr th:only-of-type {\n",
              "        vertical-align: middle;\n",
              "    }\n",
              "\n",
              "    .dataframe tbody tr th {\n",
              "        vertical-align: top;\n",
              "    }\n",
              "\n",
              "    .dataframe thead th {\n",
              "        text-align: right;\n",
              "    }\n",
              "</style>\n",
              "<table border=\"1\" class=\"dataframe\">\n",
              "  <thead>\n",
              "    <tr style=\"text-align: right;\">\n",
              "      <th></th>\n",
              "      <th>text</th>\n",
              "      <th>task1</th>\n",
              "    </tr>\n",
              "  </thead>\n",
              "  <tbody>\n",
              "    <tr>\n",
              "      <th>0</th>\n",
              "      <td>@Kinjal_Dubey_ इसके लिए तैयारी हो रखी है\\nआपको...</td>\n",
              "      <td>HOF</td>\n",
              "    </tr>\n",
              "    <tr>\n",
              "      <th>1</th>\n",
              "      <td>RT @pratimamishra04: दिल्ली के मुख्यमंत्री @Ar...</td>\n",
              "      <td>NOT</td>\n",
              "    </tr>\n",
              "    <tr>\n",
              "      <th>2</th>\n",
              "      <td>RT @nishantdabre2: आज एक तरफ खुशी है, तो एक तर...</td>\n",
              "      <td>NOT</td>\n",
              "    </tr>\n",
              "    <tr>\n",
              "      <th>3</th>\n",
              "      <td>@BJP4India @HardeepSPuri जिस कुनबे के लोग :-\\n...</td>\n",
              "      <td>NOT</td>\n",
              "    </tr>\n",
              "    <tr>\n",
              "      <th>4</th>\n",
              "      <td>@manakgupta बादल....😂😂😂</td>\n",
              "      <td>NOT</td>\n",
              "    </tr>\n",
              "    <tr>\n",
              "      <th>...</th>\n",
              "      <td>...</td>\n",
              "      <td>...</td>\n",
              "    </tr>\n",
              "    <tr>\n",
              "      <th>658</th>\n",
              "      <td>RT @AishwaryVerma9: दिल्ली में शून्य थे और शून...</td>\n",
              "      <td>NOT</td>\n",
              "    </tr>\n",
              "    <tr>\n",
              "      <th>659</th>\n",
              "      <td>RT @KARUNASHANKEROJ: @sagarikaghose एक आर्टिकल...</td>\n",
              "      <td>HOF</td>\n",
              "    </tr>\n",
              "    <tr>\n",
              "      <th>660</th>\n",
              "      <td>@CM_P17 @PShatrujeet रमजान शुरू लेकिन मजाल है ...</td>\n",
              "      <td>HOF</td>\n",
              "    </tr>\n",
              "    <tr>\n",
              "      <th>661</th>\n",
              "      <td>RT @rukasa007: तो तुम्हारे सिर में एक गोली उता...</td>\n",
              "      <td>NOT</td>\n",
              "    </tr>\n",
              "    <tr>\n",
              "      <th>662</th>\n",
              "      <td>@athavale_abhi @kavita_tewari गांधी परिवार और ...</td>\n",
              "      <td>HOF</td>\n",
              "    </tr>\n",
              "  </tbody>\n",
              "</table>\n",
              "<p>663 rows × 2 columns</p>\n",
              "</div>"
            ],
            "text/plain": [
              "                                                  text task1\n",
              "0    @Kinjal_Dubey_ इसके लिए तैयारी हो रखी है\\nआपको...   HOF\n",
              "1    RT @pratimamishra04: दिल्ली के मुख्यमंत्री @Ar...   NOT\n",
              "2    RT @nishantdabre2: आज एक तरफ खुशी है, तो एक तर...   NOT\n",
              "3    @BJP4India @HardeepSPuri जिस कुनबे के लोग :-\\n...   NOT\n",
              "4                              @manakgupta बादल....😂😂😂   NOT\n",
              "..                                                 ...   ...\n",
              "658  RT @AishwaryVerma9: दिल्ली में शून्य थे और शून...   NOT\n",
              "659  RT @KARUNASHANKEROJ: @sagarikaghose एक आर्टिकल...   HOF\n",
              "660  @CM_P17 @PShatrujeet रमजान शुरू लेकिन मजाल है ...   HOF\n",
              "661  RT @rukasa007: तो तुम्हारे सिर में एक गोली उता...   NOT\n",
              "662  @athavale_abhi @kavita_tewari गांधी परिवार और ...   HOF\n",
              "\n",
              "[663 rows x 2 columns]"
            ]
          },
          "metadata": {
            "tags": []
          },
          "execution_count": 8
        }
      ]
    },
    {
      "cell_type": "code",
      "metadata": {
        "id": "Q5fBis2efcKz",
        "outputId": "5744afbb-9752-4594-c519-5764d729b73d",
        "colab": {
          "base_uri": "https://localhost:8080/",
          "height": 206
        }
      },
      "source": [
        "X.head()"
      ],
      "execution_count": 9,
      "outputs": [
        {
          "output_type": "execute_result",
          "data": {
            "text/html": [
              "<div>\n",
              "<style scoped>\n",
              "    .dataframe tbody tr th:only-of-type {\n",
              "        vertical-align: middle;\n",
              "    }\n",
              "\n",
              "    .dataframe tbody tr th {\n",
              "        vertical-align: top;\n",
              "    }\n",
              "\n",
              "    .dataframe thead th {\n",
              "        text-align: right;\n",
              "    }\n",
              "</style>\n",
              "<table border=\"1\" class=\"dataframe\">\n",
              "  <thead>\n",
              "    <tr style=\"text-align: right;\">\n",
              "      <th></th>\n",
              "      <th>text</th>\n",
              "      <th>task1</th>\n",
              "    </tr>\n",
              "  </thead>\n",
              "  <tbody>\n",
              "    <tr>\n",
              "      <th>0</th>\n",
              "      <td>1 आदमीं को मारने पर गोडसे आतंकी हो सके है तो\\n...</td>\n",
              "      <td>HOF</td>\n",
              "    </tr>\n",
              "    <tr>\n",
              "      <th>1</th>\n",
              "      <td>RT @Vishesh4: @jawaharyadavbjp जवाहर यादव, अगर...</td>\n",
              "      <td>NOT</td>\n",
              "    </tr>\n",
              "    <tr>\n",
              "      <th>2</th>\n",
              "      <td>RT @FunKeyBaat: #भगवा वस्त्र पहन कर मतदान नही ...</td>\n",
              "      <td>HOF</td>\n",
              "    </tr>\n",
              "    <tr>\n",
              "      <th>3</th>\n",
              "      <td>Yey nina khothani labafazi benu phambili Finis...</td>\n",
              "      <td>HOF</td>\n",
              "    </tr>\n",
              "    <tr>\n",
              "      <th>4</th>\n",
              "      <td>RT @Rajeshbhanjan2: जब भी कोई सिकुलर कोंग्रेसी...</td>\n",
              "      <td>HOF</td>\n",
              "    </tr>\n",
              "  </tbody>\n",
              "</table>\n",
              "</div>"
            ],
            "text/plain": [
              "                                                text task1\n",
              "0  1 आदमीं को मारने पर गोडसे आतंकी हो सके है तो\\n...   HOF\n",
              "1  RT @Vishesh4: @jawaharyadavbjp जवाहर यादव, अगर...   NOT\n",
              "2  RT @FunKeyBaat: #भगवा वस्त्र पहन कर मतदान नही ...   HOF\n",
              "3  Yey nina khothani labafazi benu phambili Finis...   HOF\n",
              "4  RT @Rajeshbhanjan2: जब भी कोई सिकुलर कोंग्रेसी...   HOF"
            ]
          },
          "metadata": {
            "tags": []
          },
          "execution_count": 9
        }
      ]
    },
    {
      "cell_type": "code",
      "metadata": {
        "id": "hg24PO-JfebB",
        "outputId": "8cccdcf9-2329-4a3d-9f4e-58b893e524b2",
        "colab": {
          "base_uri": "https://localhost:8080/",
          "height": 146
        }
      },
      "source": [
        "cols=['task1']\n",
        "X[cols] = X[cols].apply(lambda x: pd.factorize(x)[0] + 0)\n",
        "Y[cols] = Y[cols].apply(lambda x: pd.factorize(x)[0] + 0)"
      ],
      "execution_count": 10,
      "outputs": [
        {
          "output_type": "stream",
          "text": [
            "/usr/local/lib/python3.6/dist-packages/pandas/core/frame.py:2963: SettingWithCopyWarning: \n",
            "A value is trying to be set on a copy of a slice from a DataFrame.\n",
            "Try using .loc[row_indexer,col_indexer] = value instead\n",
            "\n",
            "See the caveats in the documentation: https://pandas.pydata.org/pandas-docs/stable/user_guide/indexing.html#returning-a-view-versus-a-copy\n",
            "  self[k1] = value[k2]\n"
          ],
          "name": "stderr"
        }
      ]
    },
    {
      "cell_type": "code",
      "metadata": {
        "id": "f56ghlj3l-PH",
        "outputId": "de723e3e-5a8b-4a26-c89a-3c07b5b7a5a5",
        "colab": {
          "base_uri": "https://localhost:8080/",
          "height": 206
        }
      },
      "source": [
        "X.head()"
      ],
      "execution_count": 11,
      "outputs": [
        {
          "output_type": "execute_result",
          "data": {
            "text/html": [
              "<div>\n",
              "<style scoped>\n",
              "    .dataframe tbody tr th:only-of-type {\n",
              "        vertical-align: middle;\n",
              "    }\n",
              "\n",
              "    .dataframe tbody tr th {\n",
              "        vertical-align: top;\n",
              "    }\n",
              "\n",
              "    .dataframe thead th {\n",
              "        text-align: right;\n",
              "    }\n",
              "</style>\n",
              "<table border=\"1\" class=\"dataframe\">\n",
              "  <thead>\n",
              "    <tr style=\"text-align: right;\">\n",
              "      <th></th>\n",
              "      <th>text</th>\n",
              "      <th>task1</th>\n",
              "    </tr>\n",
              "  </thead>\n",
              "  <tbody>\n",
              "    <tr>\n",
              "      <th>0</th>\n",
              "      <td>1 आदमीं को मारने पर गोडसे आतंकी हो सके है तो\\n...</td>\n",
              "      <td>0</td>\n",
              "    </tr>\n",
              "    <tr>\n",
              "      <th>1</th>\n",
              "      <td>RT @Vishesh4: @jawaharyadavbjp जवाहर यादव, अगर...</td>\n",
              "      <td>1</td>\n",
              "    </tr>\n",
              "    <tr>\n",
              "      <th>2</th>\n",
              "      <td>RT @FunKeyBaat: #भगवा वस्त्र पहन कर मतदान नही ...</td>\n",
              "      <td>0</td>\n",
              "    </tr>\n",
              "    <tr>\n",
              "      <th>3</th>\n",
              "      <td>Yey nina khothani labafazi benu phambili Finis...</td>\n",
              "      <td>0</td>\n",
              "    </tr>\n",
              "    <tr>\n",
              "      <th>4</th>\n",
              "      <td>RT @Rajeshbhanjan2: जब भी कोई सिकुलर कोंग्रेसी...</td>\n",
              "      <td>0</td>\n",
              "    </tr>\n",
              "  </tbody>\n",
              "</table>\n",
              "</div>"
            ],
            "text/plain": [
              "                                                text  task1\n",
              "0  1 आदमीं को मारने पर गोडसे आतंकी हो सके है तो\\n...      0\n",
              "1  RT @Vishesh4: @jawaharyadavbjp जवाहर यादव, अगर...      1\n",
              "2  RT @FunKeyBaat: #भगवा वस्त्र पहन कर मतदान नही ...      0\n",
              "3  Yey nina khothani labafazi benu phambili Finis...      0\n",
              "4  RT @Rajeshbhanjan2: जब भी कोई सिकुलर कोंग्रेसी...      0"
            ]
          },
          "metadata": {
            "tags": []
          },
          "execution_count": 11
        }
      ]
    },
    {
      "cell_type": "code",
      "metadata": {
        "id": "ITf1MbPpmCfG",
        "outputId": "7e7c6a31-417d-4ac0-e708-32a0ecee23aa",
        "colab": {
          "base_uri": "https://localhost:8080/",
          "height": 206
        }
      },
      "source": [
        "Y.head()"
      ],
      "execution_count": 12,
      "outputs": [
        {
          "output_type": "execute_result",
          "data": {
            "text/html": [
              "<div>\n",
              "<style scoped>\n",
              "    .dataframe tbody tr th:only-of-type {\n",
              "        vertical-align: middle;\n",
              "    }\n",
              "\n",
              "    .dataframe tbody tr th {\n",
              "        vertical-align: top;\n",
              "    }\n",
              "\n",
              "    .dataframe thead th {\n",
              "        text-align: right;\n",
              "    }\n",
              "</style>\n",
              "<table border=\"1\" class=\"dataframe\">\n",
              "  <thead>\n",
              "    <tr style=\"text-align: right;\">\n",
              "      <th></th>\n",
              "      <th>text</th>\n",
              "      <th>task1</th>\n",
              "    </tr>\n",
              "  </thead>\n",
              "  <tbody>\n",
              "    <tr>\n",
              "      <th>0</th>\n",
              "      <td>@Kinjal_Dubey_ इसके लिए तैयारी हो रखी है\\nआपको...</td>\n",
              "      <td>0</td>\n",
              "    </tr>\n",
              "    <tr>\n",
              "      <th>1</th>\n",
              "      <td>RT @pratimamishra04: दिल्ली के मुख्यमंत्री @Ar...</td>\n",
              "      <td>1</td>\n",
              "    </tr>\n",
              "    <tr>\n",
              "      <th>2</th>\n",
              "      <td>RT @nishantdabre2: आज एक तरफ खुशी है, तो एक तर...</td>\n",
              "      <td>1</td>\n",
              "    </tr>\n",
              "    <tr>\n",
              "      <th>3</th>\n",
              "      <td>@BJP4India @HardeepSPuri जिस कुनबे के लोग :-\\n...</td>\n",
              "      <td>1</td>\n",
              "    </tr>\n",
              "    <tr>\n",
              "      <th>4</th>\n",
              "      <td>@manakgupta बादल....😂😂😂</td>\n",
              "      <td>1</td>\n",
              "    </tr>\n",
              "  </tbody>\n",
              "</table>\n",
              "</div>"
            ],
            "text/plain": [
              "                                                text  task1\n",
              "0  @Kinjal_Dubey_ इसके लिए तैयारी हो रखी है\\nआपको...      0\n",
              "1  RT @pratimamishra04: दिल्ली के मुख्यमंत्री @Ar...      1\n",
              "2  RT @nishantdabre2: आज एक तरफ खुशी है, तो एक तर...      1\n",
              "3  @BJP4India @HardeepSPuri जिस कुनबे के लोग :-\\n...      1\n",
              "4                            @manakgupta बादल....😂😂😂      1"
            ]
          },
          "metadata": {
            "tags": []
          },
          "execution_count": 12
        }
      ]
    },
    {
      "cell_type": "code",
      "metadata": {
        "id": "PlrYL06mfhbR",
        "outputId": "451eed20-a009-4e11-8edb-3c89904aec99",
        "colab": {
          "base_uri": "https://localhost:8080/",
          "height": 235
        }
      },
      "source": [
        "X_train=X['text']\n",
        "X_train"
      ],
      "execution_count": 13,
      "outputs": [
        {
          "output_type": "execute_result",
          "data": {
            "text/plain": [
              "0       1 आदमीं को मारने पर गोडसे आतंकी हो सके है तो\\n...\n",
              "1       RT @Vishesh4: @jawaharyadavbjp जवाहर यादव, अगर...\n",
              "2       RT @FunKeyBaat: #भगवा वस्त्र पहन कर मतदान नही ...\n",
              "3       Yey nina khothani labafazi benu phambili Finis...\n",
              "4       RT @Rajeshbhanjan2: जब भी कोई सिकुलर कोंग्रेसी...\n",
              "                              ...                        \n",
              "2958    @Varun_dvn जिसके नाम के साथ इंडिअनस लगा हो उसक...\n",
              "2959    मुझे सबसे ज्यादा राहुल और सोनियाके बारे बुरा ल...\n",
              "2960    RT @Gujju_Er: एक आतंकी जिसे कांग्रेस ने\\n'शांत...\n",
              "2961    RT @dayanand151: @jafahar1 @BBCHindi @Hariramk...\n",
              "2962    RT @manakgupta: “हमें 5 साल हो गए, हमने संविधा...\n",
              "Name: text, Length: 2963, dtype: object"
            ]
          },
          "metadata": {
            "tags": []
          },
          "execution_count": 13
        }
      ]
    },
    {
      "cell_type": "code",
      "metadata": {
        "id": "auEHAzkmfxwT",
        "outputId": "556639f2-5f52-4134-bd52-f5dc15071368",
        "colab": {
          "base_uri": "https://localhost:8080/",
          "height": 235
        }
      },
      "source": [
        "y_train=X['task1']\n",
        "y_train"
      ],
      "execution_count": 14,
      "outputs": [
        {
          "output_type": "execute_result",
          "data": {
            "text/plain": [
              "0       0\n",
              "1       1\n",
              "2       0\n",
              "3       0\n",
              "4       0\n",
              "       ..\n",
              "2958    1\n",
              "2959    1\n",
              "2960    0\n",
              "2961    0\n",
              "2962    1\n",
              "Name: task1, Length: 2963, dtype: int64"
            ]
          },
          "metadata": {
            "tags": []
          },
          "execution_count": 14
        }
      ]
    },
    {
      "cell_type": "code",
      "metadata": {
        "id": "3TwWITgof7Iy",
        "outputId": "82e9ff63-1168-4f79-e889-058f4db824ef",
        "colab": {
          "base_uri": "https://localhost:8080/",
          "height": 235
        }
      },
      "source": [
        "X_test=Y['text']\n",
        "X_test"
      ],
      "execution_count": 15,
      "outputs": [
        {
          "output_type": "execute_result",
          "data": {
            "text/plain": [
              "0      @Kinjal_Dubey_ इसके लिए तैयारी हो रखी है\\nआपको...\n",
              "1      RT @pratimamishra04: दिल्ली के मुख्यमंत्री @Ar...\n",
              "2      RT @nishantdabre2: आज एक तरफ खुशी है, तो एक तर...\n",
              "3      @BJP4India @HardeepSPuri जिस कुनबे के लोग :-\\n...\n",
              "4                                @manakgupta बादल....😂😂😂\n",
              "                             ...                        \n",
              "658    RT @AishwaryVerma9: दिल्ली में शून्य थे और शून...\n",
              "659    RT @KARUNASHANKEROJ: @sagarikaghose एक आर्टिकल...\n",
              "660    @CM_P17 @PShatrujeet रमजान शुरू लेकिन मजाल है ...\n",
              "661    RT @rukasa007: तो तुम्हारे सिर में एक गोली उता...\n",
              "662    @athavale_abhi @kavita_tewari गांधी परिवार और ...\n",
              "Name: text, Length: 663, dtype: object"
            ]
          },
          "metadata": {
            "tags": []
          },
          "execution_count": 15
        }
      ]
    },
    {
      "cell_type": "code",
      "metadata": {
        "id": "ZXzsq1A7gELh",
        "outputId": "78fa6256-9f1b-4387-8fa8-dc6a794b6e42",
        "colab": {
          "base_uri": "https://localhost:8080/",
          "height": 235
        }
      },
      "source": [
        "y_test=Y['task1']\n",
        "y_test"
      ],
      "execution_count": 16,
      "outputs": [
        {
          "output_type": "execute_result",
          "data": {
            "text/plain": [
              "0      0\n",
              "1      1\n",
              "2      1\n",
              "3      1\n",
              "4      1\n",
              "      ..\n",
              "658    1\n",
              "659    0\n",
              "660    0\n",
              "661    1\n",
              "662    0\n",
              "Name: task1, Length: 663, dtype: int64"
            ]
          },
          "metadata": {
            "tags": []
          },
          "execution_count": 16
        }
      ]
    },
    {
      "cell_type": "code",
      "metadata": {
        "id": "JxxefBAc5Jn5",
        "outputId": "73e2f92a-2257-48fa-8a9c-c2c40a914b6f",
        "colab": {
          "base_uri": "https://localhost:8080/",
          "height": 35
        }
      },
      "source": [
        "X_train.shape,X_test.shape,y_train.shape,y_test.shape"
      ],
      "execution_count": 17,
      "outputs": [
        {
          "output_type": "execute_result",
          "data": {
            "text/plain": [
              "((2963,), (663,), (2963,), (663,))"
            ]
          },
          "metadata": {
            "tags": []
          },
          "execution_count": 17
        }
      ]
    },
    {
      "cell_type": "code",
      "metadata": {
        "id": "zYdXZd_8B3f_"
      },
      "source": [
        "def create_tokens(lines):\n",
        "  #stop_words = set(nltk.corpus.stopwords.words('english'))\n",
        "  t_line=lines.apply(lambda x: nltk.word_tokenize(x))\n",
        "  #t_line=t_line.apply(lambda x: [w for w in x if not w in stop_words])\n",
        "  return t_line"
      ],
      "execution_count": 18,
      "outputs": []
    },
    {
      "cell_type": "code",
      "metadata": {
        "id": "ZA0GL7T8CDsb",
        "outputId": "99b2a47c-ade5-4abc-c627-b677a3c1beb5",
        "colab": {
          "base_uri": "https://localhost:8080/",
          "height": 253
        }
      },
      "source": [
        "X_train=create_tokens(X_train)\n",
        "print(X_train)\n",
        "tokenizer= Tokenizer()\n",
        "tokenizer.fit_on_texts(X_train)\n",
        "tokenizer\n"
      ],
      "execution_count": 19,
      "outputs": [
        {
          "output_type": "stream",
          "text": [
            "0       [1, आदमीं, को, मारने, पर, गोडसे, आतंकी, हो, सक...\n",
            "1       [RT, @, Vishesh4, :, @, jawaharyadavbjp, जवाहर...\n",
            "2       [RT, @, FunKeyBaat, :, #, भगवा, वस्त्र, पहन, क...\n",
            "3       [Yey, nina, khothani, labafazi, benu, phambili...\n",
            "4       [RT, @, Rajeshbhanjan2, :, जब, भी, कोई, सिकुलर...\n",
            "                              ...                        \n",
            "2958    [@, Varun_dvn, जिसके, नाम, के, साथ, इंडिअनस, ल...\n",
            "2959    [मुझे, सबसे, ज्यादा, राहुल, और, सोनियाके, बारे...\n",
            "2960    [RT, @, Gujju_Er, :, एक, आतंकी, जिसे, कांग्रेस...\n",
            "2961    [RT, @, dayanand151, :, @, jafahar1, @, BBCHin...\n",
            "2962    [RT, @, manakgupta, :, “, हमें, 5, साल, हो, गए...\n",
            "Name: text, Length: 2963, dtype: object\n"
          ],
          "name": "stdout"
        },
        {
          "output_type": "execute_result",
          "data": {
            "text/plain": [
              "<keras_preprocessing.text.Tokenizer at 0x7faa03f6ffd0>"
            ]
          },
          "metadata": {
            "tags": []
          },
          "execution_count": 19
        }
      ]
    },
    {
      "cell_type": "code",
      "metadata": {
        "id": "WUN6YH99H6dj",
        "outputId": "6273c3a3-e219-409e-b78d-183235f3c907",
        "colab": {
          "base_uri": "https://localhost:8080/",
          "height": 35
        }
      },
      "source": [
        "length=np.average(X_train.apply(lambda x:len(x)*len(x)))\n",
        "length=np.sqrt(length)\n",
        "print(length)\n",
        "length=48"
      ],
      "execution_count": 20,
      "outputs": [
        {
          "output_type": "stream",
          "text": [
            "29.573449750382068\n"
          ],
          "name": "stdout"
        }
      ]
    },
    {
      "cell_type": "code",
      "metadata": {
        "id": "NDkC0RUwC3kz"
      },
      "source": [
        "def encode_text(tokenizer, lines, length):\n",
        "  encoded = tokenizer.texts_to_sequences(lines)\n",
        "  padded = pad_sequences(encoded, maxlen=length, padding='post')\n",
        "  return padded"
      ],
      "execution_count": 21,
      "outputs": []
    },
    {
      "cell_type": "code",
      "metadata": {
        "id": "1KK2TGV0EAr_"
      },
      "source": [
        "word_index=tokenizer.word_index"
      ],
      "execution_count": 22,
      "outputs": []
    },
    {
      "cell_type": "code",
      "metadata": {
        "id": "5Msn7MOrDPDq",
        "outputId": "bde1993d-4052-41f0-8d61-1fcfac206547",
        "colab": {
          "base_uri": "https://localhost:8080/",
          "height": 235
        }
      },
      "source": [
        "X_test=create_tokens(X_test)\n",
        "print(X_test)"
      ],
      "execution_count": 23,
      "outputs": [
        {
          "output_type": "stream",
          "text": [
            "0      [@, Kinjal_Dubey_, इसके, लिए, तैयारी, हो, रखी,...\n",
            "1      [RT, @, pratimamishra04, :, दिल्ली, के, मुख्यम...\n",
            "2      [RT, @, nishantdabre2, :, आज, एक, तरफ, खुशी, ह...\n",
            "3      [@, BJP4India, @, HardeepSPuri, जिस, कुनबे, के...\n",
            "4                       [@, manakgupta, बादल, ..., .😂😂😂]\n",
            "                             ...                        \n",
            "658    [RT, @, AishwaryVerma9, :, दिल्ली, में, शून्य,...\n",
            "659    [RT, @, KARUNASHANKEROJ, :, @, sagarikaghose, ...\n",
            "660    [@, CM_P17, @, PShatrujeet, रमजान, शुरू, लेकिन...\n",
            "661    [RT, @, rukasa007, :, तो, तुम्हारे, सिर, में, ...\n",
            "662    [@, athavale_abhi, @, kavita_tewari, गांधी, पर...\n",
            "Name: text, Length: 663, dtype: object\n"
          ],
          "name": "stdout"
        }
      ]
    },
    {
      "cell_type": "code",
      "metadata": {
        "id": "C5Ya1ngEChqU",
        "outputId": "33254d88-6823-4df1-aae4-8b7112962b3b",
        "colab": {
          "base_uri": "https://localhost:8080/",
          "height": 144
        }
      },
      "source": [
        "X_train=encode_text(tokenizer,X_train,length)\n",
        "X_train\n",
        "#pd.DataFrame(train_x).to_csv(\"train_file.csv\")"
      ],
      "execution_count": 24,
      "outputs": [
        {
          "output_type": "execute_result",
          "data": {
            "text/plain": [
              "array([[  258,  4967,     9, ...,     0,     0,     0],\n",
              "       [    4,     1,  4973, ...,     0,     0,     0],\n",
              "       [    4,     1,  1497, ...,     0,     0,     0],\n",
              "       ...,\n",
              "       [    4,     1, 14733, ...,     0,     0,     0],\n",
              "       [    4,     1, 14736, ...,     0,     0,     0],\n",
              "       [    4,     1,   641, ...,     0,     0,     0]], dtype=int32)"
            ]
          },
          "metadata": {
            "tags": []
          },
          "execution_count": 24
        }
      ]
    },
    {
      "cell_type": "code",
      "metadata": {
        "id": "Mue01Ee3EIR3",
        "outputId": "353a4aa1-865c-4c64-f49b-78e6172c23bd",
        "colab": {
          "base_uri": "https://localhost:8080/",
          "height": 144
        }
      },
      "source": [
        "X_test=encode_text(tokenizer,X_test,length)\n",
        "X_test\n",
        "#pd.DataFrame(train_x).to_csv(\"train_file.csv\")"
      ],
      "execution_count": 25,
      "outputs": [
        {
          "output_type": "execute_result",
          "data": {
            "text/plain": [
              "array([[   1,  299,   40, ...,    0,    0,    0],\n",
              "       [   4,    1,    2, ...,    0,    0,    0],\n",
              "       [   4,    1,    2, ...,    0,    0,    0],\n",
              "       ...,\n",
              "       [   1,    1, 4755, ...,    0,    0,    0],\n",
              "       [   4,    1, 1219, ...,    0,    0,    0],\n",
              "       [   1,    1,  144, ...,    0,    0,    0]], dtype=int32)"
            ]
          },
          "metadata": {
            "tags": []
          },
          "execution_count": 25
        }
      ]
    },
    {
      "cell_type": "code",
      "metadata": {
        "id": "BikwuUUm3Pnk",
        "outputId": "3de59f47-e382-4696-8172-77a2992c9831",
        "colab": {
          "base_uri": "https://localhost:8080/",
          "height": 271
        }
      },
      "source": [
        "from keras.utils.np_utils import to_categorical\n",
        "y_test = to_categorical(np.asarray(y_test))\n",
        "y_train = to_categorical(np.asarray(y_train))\n",
        "print(y_test)\n",
        "print(y_train)"
      ],
      "execution_count": 26,
      "outputs": [
        {
          "output_type": "stream",
          "text": [
            "[[1. 0.]\n",
            " [0. 1.]\n",
            " [0. 1.]\n",
            " ...\n",
            " [1. 0.]\n",
            " [0. 1.]\n",
            " [1. 0.]]\n",
            "[[1. 0.]\n",
            " [0. 1.]\n",
            " [1. 0.]\n",
            " ...\n",
            " [1. 0.]\n",
            " [1. 0.]\n",
            " [0. 1.]]\n"
          ],
          "name": "stdout"
        }
      ]
    },
    {
      "cell_type": "code",
      "metadata": {
        "id": "ur_sEpys425Y",
        "outputId": "ab977706-b7e8-4f68-df4c-1b49a64343da",
        "colab": {
          "base_uri": "https://localhost:8080/",
          "height": 35
        }
      },
      "source": [
        "# print(len(X_train))\n",
        "# print(len(X_test))\n",
        "# print(len(y_train))\n",
        "# print(len(y_test))\n",
        "X_train.shape,X_test.shape,y_train.shape,y_test.shape"
      ],
      "execution_count": 27,
      "outputs": [
        {
          "output_type": "execute_result",
          "data": {
            "text/plain": [
              "((2963, 48), (663, 48), (2963, 2), (663, 2))"
            ]
          },
          "metadata": {
            "tags": []
          },
          "execution_count": 27
        }
      ]
    },
    {
      "cell_type": "code",
      "metadata": {
        "id": "qz3E8-3ok0FQ"
      },
      "source": [
        "# Creating embedding matrix\n",
        "# Using \n",
        "import zipfile\n",
        "zip_ref = zipfile.ZipFile(\"/content/drive/My Drive/Copy of crawl-300d-2M.vec.zip\", 'r')\n",
        "zip_ref.extractall()\n",
        "zip_ref.close()"
      ],
      "execution_count": 29,
      "outputs": []
    },
    {
      "cell_type": "code",
      "metadata": {
        "id": "13YtCJLflHss",
        "outputId": "d73da938-016a-4996-d851-b1be3e5c0e98",
        "colab": {
          "base_uri": "https://localhost:8080/",
          "height": 35
        }
      },
      "source": [
        "#load pre-trained embedding:\n",
        "embeddings_index = {}\n",
        "f = open('/content/crawl-300d-2M.vec', encoding=\"utf8\")\n",
        "for line in f:\n",
        "    values = line.split()#This splits each values in a  line with spaces\n",
        "    word = values[0] # This store the first values which is the word in english\n",
        "    coefs = np.asarray(values[1:], dtype='float32') # This converts all splitted values from 1 to last(expect first word) into an array\n",
        "    embeddings_index[word] = coefs # english word = array of numerical values\n",
        "f.close()\n",
        "print('Total %s word vectors in crawl-300-2M.' % len(embeddings_index))"
      ],
      "execution_count": 30,
      "outputs": [
        {
          "output_type": "stream",
          "text": [
            "Total 1999996 word vectors in crawl-300-2M.\n"
          ],
          "name": "stdout"
        }
      ]
    },
    {
      "cell_type": "code",
      "metadata": {
        "id": "F8xL9LZ22XmI",
        "outputId": "a96e5d9f-b2ee-44c4-fab4-9527a7dc8e7d",
        "colab": {
          "base_uri": "https://localhost:8080/",
          "height": 526
        }
      },
      "source": [
        "print((X_train))\n",
        "print((X_test))\n",
        "print((y_train))\n",
        "print((y_test))"
      ],
      "execution_count": 31,
      "outputs": [
        {
          "output_type": "stream",
          "text": [
            "[[  258  4967     9 ...     0     0     0]\n",
            " [    4     1  4973 ...     0     0     0]\n",
            " [    4     1  1497 ...     0     0     0]\n",
            " ...\n",
            " [    4     1 14733 ...     0     0     0]\n",
            " [    4     1 14736 ...     0     0     0]\n",
            " [    4     1   641 ...     0     0     0]]\n",
            "[[   1  299   40 ...    0    0    0]\n",
            " [   4    1    2 ...    0    0    0]\n",
            " [   4    1    2 ...    0    0    0]\n",
            " ...\n",
            " [   1    1 4755 ...    0    0    0]\n",
            " [   4    1 1219 ...    0    0    0]\n",
            " [   1    1  144 ...    0    0    0]]\n",
            "[[1. 0.]\n",
            " [0. 1.]\n",
            " [1. 0.]\n",
            " ...\n",
            " [1. 0.]\n",
            " [1. 0.]\n",
            " [0. 1.]]\n",
            "[[1. 0.]\n",
            " [0. 1.]\n",
            " [0. 1.]\n",
            " ...\n",
            " [1. 0.]\n",
            " [0. 1.]\n",
            " [1. 0.]]\n"
          ],
          "name": "stdout"
        }
      ]
    },
    {
      "cell_type": "code",
      "metadata": {
        "id": "TniueyWxuAr2",
        "outputId": "edab1884-ab04-4043-ab9c-fbfe41835637",
        "colab": {
          "base_uri": "https://localhost:8080/",
          "height": 35
        }
      },
      "source": [
        "# Initialize the weight for each word for the embedding layer. Words not present\n",
        "# in the dictionary initialized by random value \n",
        "EMBEDDING_DIM = 300\n",
        "embedding_matrix = np.random.random((len(word_index) + 1, EMBEDDING_DIM))\n",
        "#embedding_matrix = (16433, 100) NOTE: It is from uniques words in our tweets\n",
        "for word, i in word_index.items(): # Selecting word from our tweet unique words list for changing with the values from glove\n",
        "    embedding_vector = embeddings_index.get(word) # Finding our tweet words in glove and taking its array of 100 values\n",
        "    if embedding_vector is not None: \n",
        "#words not found in embedding index will be all-zeros.\n",
        "        embedding_matrix[i] = embedding_vector\n",
        "embedding_matrix.shape"
      ],
      "execution_count": 33,
      "outputs": [
        {
          "output_type": "execute_result",
          "data": {
            "text/plain": [
              "(14743, 300)"
            ]
          },
          "metadata": {
            "tags": []
          },
          "execution_count": 33
        }
      ]
    },
    {
      "cell_type": "code",
      "metadata": {
        "id": "cTyhLpMqzh9E",
        "outputId": "c452ed15-eae4-4fa4-d8ef-82075d328a44",
        "colab": {
          "base_uri": "https://localhost:8080/",
          "height": 310
        }
      },
      "source": [
        "from keras.utils.vis_utils import plot_model\n",
        "from keras.models import Sequential\n",
        "from keras.layers import Input,LSTM\n",
        "from keras.layers import Dense\n",
        "from keras.layers import Flatten\n",
        "from keras.layers import Dropout\n",
        "from keras.layers import Embedding\n",
        "from keras.layers.convolutional import Conv1D\n",
        "from keras.layers.convolutional import MaxPooling1D\n",
        "model=Sequential()\n",
        "model.add(Embedding(input_dim = 14743, output_dim = 300, weights=[embedding_matrix], input_length=length,trainable=False))\n",
        "model.add(LSTM(192, dropout=0.3, recurrent_dropout=0.2))\n",
        "model.add(Dense(2,activation='softmax'))\n",
        "model.compile(loss = 'binary_crossentropy', optimizer='adam',metrics = ['accuracy'])\n",
        "model.summary()"
      ],
      "execution_count": 34,
      "outputs": [
        {
          "output_type": "stream",
          "text": [
            "WARNING:tensorflow:Layer lstm will not use cuDNN kernel since it doesn't meet the cuDNN kernel criteria. It will use generic GPU kernel as fallback when running on GPU\n",
            "Model: \"sequential\"\n",
            "_________________________________________________________________\n",
            "Layer (type)                 Output Shape              Param #   \n",
            "=================================================================\n",
            "embedding (Embedding)        (None, 48, 300)           4422900   \n",
            "_________________________________________________________________\n",
            "lstm (LSTM)                  (None, 192)               378624    \n",
            "_________________________________________________________________\n",
            "dense (Dense)                (None, 2)                 386       \n",
            "=================================================================\n",
            "Total params: 4,801,910\n",
            "Trainable params: 379,010\n",
            "Non-trainable params: 4,422,900\n",
            "_________________________________________________________________\n"
          ],
          "name": "stdout"
        }
      ]
    },
    {
      "cell_type": "code",
      "metadata": {
        "id": "I9w_3fcezkel",
        "outputId": "ea0b6b4e-7f26-4e36-85b2-1ac8b8ba98b3",
        "colab": {
          "base_uri": "https://localhost:8080/",
          "height": 1000
        }
      },
      "source": [
        "model.fit(X_train, y_train, validation_data = (X_test, y_test),epochs=100,batch_size=256, verbose=2)"
      ],
      "execution_count": 35,
      "outputs": [
        {
          "output_type": "stream",
          "text": [
            "Epoch 1/100\n",
            "12/12 - 2s - loss: 0.7450 - accuracy: 0.6797 - val_loss: 0.6295 - val_accuracy: 0.7074\n",
            "Epoch 2/100\n",
            "12/12 - 2s - loss: 0.6090 - accuracy: 0.7135 - val_loss: 0.6081 - val_accuracy: 0.7029\n",
            "Epoch 3/100\n",
            "12/12 - 2s - loss: 0.5977 - accuracy: 0.7148 - val_loss: 0.6044 - val_accuracy: 0.7029\n",
            "Epoch 4/100\n",
            "12/12 - 2s - loss: 0.5946 - accuracy: 0.7145 - val_loss: 0.6062 - val_accuracy: 0.7029\n",
            "Epoch 5/100\n",
            "12/12 - 2s - loss: 0.5949 - accuracy: 0.7145 - val_loss: 0.6035 - val_accuracy: 0.7029\n",
            "Epoch 6/100\n",
            "12/12 - 2s - loss: 0.5962 - accuracy: 0.7148 - val_loss: 0.6050 - val_accuracy: 0.7029\n",
            "Epoch 7/100\n",
            "12/12 - 2s - loss: 0.5960 - accuracy: 0.7155 - val_loss: 0.6075 - val_accuracy: 0.7029\n",
            "Epoch 8/100\n",
            "12/12 - 2s - loss: 0.5949 - accuracy: 0.7168 - val_loss: 0.6034 - val_accuracy: 0.7014\n",
            "Epoch 9/100\n",
            "12/12 - 2s - loss: 0.5939 - accuracy: 0.7179 - val_loss: 0.6083 - val_accuracy: 0.7029\n",
            "Epoch 10/100\n",
            "12/12 - 2s - loss: 0.5932 - accuracy: 0.7165 - val_loss: 0.6057 - val_accuracy: 0.7029\n",
            "Epoch 11/100\n",
            "12/12 - 2s - loss: 0.5905 - accuracy: 0.7206 - val_loss: 0.6073 - val_accuracy: 0.6998\n",
            "Epoch 12/100\n",
            "12/12 - 2s - loss: 0.5939 - accuracy: 0.7185 - val_loss: 0.6079 - val_accuracy: 0.6998\n",
            "Epoch 13/100\n",
            "12/12 - 2s - loss: 0.5932 - accuracy: 0.7195 - val_loss: 0.6053 - val_accuracy: 0.6998\n",
            "Epoch 14/100\n",
            "12/12 - 2s - loss: 0.5893 - accuracy: 0.7206 - val_loss: 0.6172 - val_accuracy: 0.7029\n",
            "Epoch 15/100\n",
            "12/12 - 2s - loss: 0.5874 - accuracy: 0.7199 - val_loss: 0.6096 - val_accuracy: 0.7014\n",
            "Epoch 16/100\n",
            "12/12 - 2s - loss: 0.5830 - accuracy: 0.7222 - val_loss: 0.6104 - val_accuracy: 0.7014\n",
            "Epoch 17/100\n",
            "12/12 - 2s - loss: 0.5791 - accuracy: 0.7229 - val_loss: 0.6144 - val_accuracy: 0.7044\n",
            "Epoch 18/100\n",
            "12/12 - 2s - loss: 0.5799 - accuracy: 0.7236 - val_loss: 0.6171 - val_accuracy: 0.7029\n",
            "Epoch 19/100\n",
            "12/12 - 2s - loss: 0.5785 - accuracy: 0.7212 - val_loss: 0.6060 - val_accuracy: 0.7029\n",
            "Epoch 20/100\n",
            "12/12 - 2s - loss: 0.5751 - accuracy: 0.7229 - val_loss: 0.5914 - val_accuracy: 0.7059\n",
            "Epoch 21/100\n",
            "12/12 - 2s - loss: 0.5832 - accuracy: 0.7222 - val_loss: 0.5978 - val_accuracy: 0.7089\n",
            "Epoch 22/100\n",
            "12/12 - 2s - loss: 0.5752 - accuracy: 0.7253 - val_loss: 0.6056 - val_accuracy: 0.7044\n",
            "Epoch 23/100\n",
            "12/12 - 2s - loss: 0.5689 - accuracy: 0.7266 - val_loss: 0.5936 - val_accuracy: 0.7089\n",
            "Epoch 24/100\n",
            "12/12 - 2s - loss: 0.5680 - accuracy: 0.7246 - val_loss: 0.5961 - val_accuracy: 0.7044\n",
            "Epoch 25/100\n",
            "12/12 - 2s - loss: 0.5644 - accuracy: 0.7253 - val_loss: 0.5904 - val_accuracy: 0.7029\n",
            "Epoch 26/100\n",
            "12/12 - 2s - loss: 0.5660 - accuracy: 0.7246 - val_loss: 0.6150 - val_accuracy: 0.7074\n",
            "Epoch 27/100\n",
            "12/12 - 2s - loss: 0.5604 - accuracy: 0.7280 - val_loss: 0.6235 - val_accuracy: 0.7014\n",
            "Epoch 28/100\n",
            "12/12 - 2s - loss: 0.5566 - accuracy: 0.7273 - val_loss: 0.5857 - val_accuracy: 0.7029\n",
            "Epoch 29/100\n",
            "12/12 - 2s - loss: 0.5547 - accuracy: 0.7310 - val_loss: 0.6369 - val_accuracy: 0.7044\n",
            "Epoch 30/100\n",
            "12/12 - 2s - loss: 0.5556 - accuracy: 0.7290 - val_loss: 0.6017 - val_accuracy: 0.7014\n",
            "Epoch 31/100\n",
            "12/12 - 2s - loss: 0.5491 - accuracy: 0.7290 - val_loss: 0.6387 - val_accuracy: 0.7059\n",
            "Epoch 32/100\n",
            "12/12 - 2s - loss: 0.5388 - accuracy: 0.7374 - val_loss: 0.6811 - val_accuracy: 0.7029\n",
            "Epoch 33/100\n",
            "12/12 - 2s - loss: 0.5473 - accuracy: 0.7314 - val_loss: 0.6041 - val_accuracy: 0.7014\n",
            "Epoch 34/100\n",
            "12/12 - 2s - loss: 0.5342 - accuracy: 0.7297 - val_loss: 0.6187 - val_accuracy: 0.6998\n",
            "Epoch 35/100\n",
            "12/12 - 2s - loss: 0.5365 - accuracy: 0.7324 - val_loss: 0.6586 - val_accuracy: 0.7014\n",
            "Epoch 36/100\n",
            "12/12 - 2s - loss: 0.5332 - accuracy: 0.7371 - val_loss: 0.6780 - val_accuracy: 0.7044\n",
            "Epoch 37/100\n",
            "12/12 - 2s - loss: 0.5316 - accuracy: 0.7395 - val_loss: 0.5918 - val_accuracy: 0.6968\n",
            "Epoch 38/100\n",
            "12/12 - 2s - loss: 0.5279 - accuracy: 0.7418 - val_loss: 0.6481 - val_accuracy: 0.7044\n",
            "Epoch 39/100\n",
            "12/12 - 2s - loss: 0.5155 - accuracy: 0.7459 - val_loss: 0.6300 - val_accuracy: 0.7059\n",
            "Epoch 40/100\n",
            "12/12 - 2s - loss: 0.5071 - accuracy: 0.7503 - val_loss: 0.6446 - val_accuracy: 0.6983\n",
            "Epoch 41/100\n",
            "12/12 - 2s - loss: 0.5177 - accuracy: 0.7503 - val_loss: 0.6020 - val_accuracy: 0.6893\n",
            "Epoch 42/100\n",
            "12/12 - 2s - loss: 0.4973 - accuracy: 0.7482 - val_loss: 0.6435 - val_accuracy: 0.7089\n",
            "Epoch 43/100\n",
            "12/12 - 2s - loss: 0.4898 - accuracy: 0.7624 - val_loss: 0.5951 - val_accuracy: 0.6998\n",
            "Epoch 44/100\n",
            "12/12 - 2s - loss: 0.4825 - accuracy: 0.7668 - val_loss: 0.6438 - val_accuracy: 0.6998\n",
            "Epoch 45/100\n",
            "12/12 - 2s - loss: 0.4775 - accuracy: 0.7746 - val_loss: 0.6510 - val_accuracy: 0.6953\n",
            "Epoch 46/100\n",
            "12/12 - 2s - loss: 0.4502 - accuracy: 0.7891 - val_loss: 0.7523 - val_accuracy: 0.7074\n",
            "Epoch 47/100\n",
            "12/12 - 2s - loss: 0.4289 - accuracy: 0.7995 - val_loss: 0.6740 - val_accuracy: 0.6772\n",
            "Epoch 48/100\n",
            "12/12 - 2s - loss: 0.4662 - accuracy: 0.7800 - val_loss: 0.6154 - val_accuracy: 0.6637\n",
            "Epoch 49/100\n",
            "12/12 - 2s - loss: 0.4495 - accuracy: 0.7887 - val_loss: 0.6710 - val_accuracy: 0.6998\n",
            "Epoch 50/100\n",
            "12/12 - 2s - loss: 0.4288 - accuracy: 0.8016 - val_loss: 0.7655 - val_accuracy: 0.6833\n",
            "Epoch 51/100\n",
            "12/12 - 2s - loss: 0.4221 - accuracy: 0.8073 - val_loss: 0.7005 - val_accuracy: 0.6275\n",
            "Epoch 52/100\n",
            "12/12 - 2s - loss: 0.4167 - accuracy: 0.8107 - val_loss: 0.7147 - val_accuracy: 0.6682\n",
            "Epoch 53/100\n",
            "12/12 - 2s - loss: 0.4158 - accuracy: 0.8046 - val_loss: 0.6842 - val_accuracy: 0.6772\n",
            "Epoch 54/100\n",
            "12/12 - 2s - loss: 0.4039 - accuracy: 0.8232 - val_loss: 0.6906 - val_accuracy: 0.6787\n",
            "Epoch 55/100\n",
            "12/12 - 2s - loss: 0.3831 - accuracy: 0.8309 - val_loss: 0.7188 - val_accuracy: 0.6848\n",
            "Epoch 56/100\n",
            "12/12 - 2s - loss: 0.3535 - accuracy: 0.8471 - val_loss: 0.7508 - val_accuracy: 0.6953\n",
            "Epoch 57/100\n",
            "12/12 - 2s - loss: 0.3551 - accuracy: 0.8448 - val_loss: 0.8199 - val_accuracy: 0.6968\n",
            "Epoch 58/100\n",
            "12/12 - 2s - loss: 0.3534 - accuracy: 0.8387 - val_loss: 0.7741 - val_accuracy: 0.7059\n",
            "Epoch 59/100\n",
            "12/12 - 2s - loss: 0.3502 - accuracy: 0.8464 - val_loss: 0.7715 - val_accuracy: 0.6561\n",
            "Epoch 60/100\n",
            "12/12 - 2s - loss: 0.3320 - accuracy: 0.8569 - val_loss: 0.8363 - val_accuracy: 0.6863\n",
            "Epoch 61/100\n",
            "12/12 - 2s - loss: 0.3281 - accuracy: 0.8562 - val_loss: 0.7842 - val_accuracy: 0.6983\n",
            "Epoch 62/100\n",
            "12/12 - 2s - loss: 0.2928 - accuracy: 0.8819 - val_loss: 0.9230 - val_accuracy: 0.6667\n",
            "Epoch 63/100\n",
            "12/12 - 2s - loss: 0.3031 - accuracy: 0.8718 - val_loss: 0.9281 - val_accuracy: 0.6938\n",
            "Epoch 64/100\n",
            "12/12 - 2s - loss: 0.2892 - accuracy: 0.8849 - val_loss: 0.9214 - val_accuracy: 0.6380\n",
            "Epoch 65/100\n",
            "12/12 - 2s - loss: 0.2876 - accuracy: 0.8761 - val_loss: 0.9347 - val_accuracy: 0.6516\n",
            "Epoch 66/100\n",
            "12/12 - 2s - loss: 0.2838 - accuracy: 0.8846 - val_loss: 0.9558 - val_accuracy: 0.6908\n",
            "Epoch 67/100\n",
            "12/12 - 2s - loss: 0.2835 - accuracy: 0.8775 - val_loss: 1.0323 - val_accuracy: 0.6968\n",
            "Epoch 68/100\n",
            "12/12 - 2s - loss: 0.2491 - accuracy: 0.9001 - val_loss: 1.0615 - val_accuracy: 0.6908\n",
            "Epoch 69/100\n",
            "12/12 - 2s - loss: 0.2711 - accuracy: 0.8934 - val_loss: 0.9671 - val_accuracy: 0.6817\n",
            "Epoch 70/100\n",
            "12/12 - 2s - loss: 0.2456 - accuracy: 0.9001 - val_loss: 1.0070 - val_accuracy: 0.6682\n",
            "Epoch 71/100\n",
            "12/12 - 2s - loss: 0.2315 - accuracy: 0.9085 - val_loss: 0.9754 - val_accuracy: 0.6516\n",
            "Epoch 72/100\n",
            "12/12 - 2s - loss: 0.2162 - accuracy: 0.9180 - val_loss: 1.2029 - val_accuracy: 0.6214\n",
            "Epoch 73/100\n",
            "12/12 - 2s - loss: 0.2535 - accuracy: 0.8927 - val_loss: 0.9823 - val_accuracy: 0.6275\n",
            "Epoch 74/100\n",
            "12/12 - 2s - loss: 0.2264 - accuracy: 0.9069 - val_loss: 1.1738 - val_accuracy: 0.6968\n",
            "Epoch 75/100\n",
            "12/12 - 2s - loss: 0.2058 - accuracy: 0.9197 - val_loss: 1.1453 - val_accuracy: 0.6757\n",
            "Epoch 76/100\n",
            "12/12 - 2s - loss: 0.1821 - accuracy: 0.9305 - val_loss: 1.2374 - val_accuracy: 0.6697\n",
            "Epoch 77/100\n",
            "12/12 - 2s - loss: 0.1740 - accuracy: 0.9362 - val_loss: 1.2793 - val_accuracy: 0.6953\n",
            "Epoch 78/100\n",
            "12/12 - 2s - loss: 0.1740 - accuracy: 0.9379 - val_loss: 1.4087 - val_accuracy: 0.6953\n",
            "Epoch 79/100\n",
            "12/12 - 2s - loss: 0.1745 - accuracy: 0.9339 - val_loss: 1.1934 - val_accuracy: 0.6802\n",
            "Epoch 80/100\n",
            "12/12 - 2s - loss: 0.1860 - accuracy: 0.9234 - val_loss: 1.2048 - val_accuracy: 0.6848\n",
            "Epoch 81/100\n",
            "12/12 - 2s - loss: 0.1888 - accuracy: 0.9274 - val_loss: 1.1846 - val_accuracy: 0.6410\n",
            "Epoch 82/100\n",
            "12/12 - 2s - loss: 0.2029 - accuracy: 0.9204 - val_loss: 1.1318 - val_accuracy: 0.6682\n",
            "Epoch 83/100\n",
            "12/12 - 2s - loss: 0.1610 - accuracy: 0.9359 - val_loss: 1.3249 - val_accuracy: 0.6727\n",
            "Epoch 84/100\n",
            "12/12 - 2s - loss: 0.1682 - accuracy: 0.9362 - val_loss: 1.2092 - val_accuracy: 0.6395\n",
            "Epoch 85/100\n",
            "12/12 - 2s - loss: 0.1553 - accuracy: 0.9426 - val_loss: 1.2508 - val_accuracy: 0.6848\n",
            "Epoch 86/100\n",
            "12/12 - 2s - loss: 0.1466 - accuracy: 0.9413 - val_loss: 1.3237 - val_accuracy: 0.6983\n",
            "Epoch 87/100\n",
            "12/12 - 2s - loss: 0.1445 - accuracy: 0.9440 - val_loss: 1.3936 - val_accuracy: 0.6742\n",
            "Epoch 88/100\n",
            "12/12 - 2s - loss: 0.1348 - accuracy: 0.9480 - val_loss: 1.4979 - val_accuracy: 0.6802\n",
            "Epoch 89/100\n",
            "12/12 - 2s - loss: 0.1502 - accuracy: 0.9389 - val_loss: 1.3384 - val_accuracy: 0.6893\n",
            "Epoch 90/100\n",
            "12/12 - 2s - loss: 0.1193 - accuracy: 0.9544 - val_loss: 1.4722 - val_accuracy: 0.6621\n",
            "Epoch 91/100\n",
            "12/12 - 2s - loss: 0.1273 - accuracy: 0.9524 - val_loss: 1.4769 - val_accuracy: 0.6878\n",
            "Epoch 92/100\n",
            "12/12 - 2s - loss: 0.1184 - accuracy: 0.9555 - val_loss: 1.5596 - val_accuracy: 0.6742\n",
            "Epoch 93/100\n",
            "12/12 - 2s - loss: 0.1204 - accuracy: 0.9571 - val_loss: 1.5351 - val_accuracy: 0.6772\n",
            "Epoch 94/100\n",
            "12/12 - 2s - loss: 0.1267 - accuracy: 0.9521 - val_loss: 1.4519 - val_accuracy: 0.6501\n",
            "Epoch 95/100\n",
            "12/12 - 2s - loss: 0.1360 - accuracy: 0.9450 - val_loss: 1.4162 - val_accuracy: 0.6712\n",
            "Epoch 96/100\n",
            "12/12 - 2s - loss: 0.1199 - accuracy: 0.9571 - val_loss: 1.4676 - val_accuracy: 0.6637\n",
            "Epoch 97/100\n",
            "12/12 - 2s - loss: 0.1125 - accuracy: 0.9561 - val_loss: 1.4336 - val_accuracy: 0.6727\n",
            "Epoch 98/100\n",
            "12/12 - 2s - loss: 0.1352 - accuracy: 0.9555 - val_loss: 1.4701 - val_accuracy: 0.6908\n",
            "Epoch 99/100\n",
            "12/12 - 2s - loss: 0.1106 - accuracy: 0.9639 - val_loss: 1.5874 - val_accuracy: 0.6667\n",
            "Epoch 100/100\n",
            "12/12 - 2s - loss: 0.1139 - accuracy: 0.9588 - val_loss: 1.5180 - val_accuracy: 0.6787\n"
          ],
          "name": "stdout"
        },
        {
          "output_type": "execute_result",
          "data": {
            "text/plain": [
              "<tensorflow.python.keras.callbacks.History at 0x7fa9e00155f8>"
            ]
          },
          "metadata": {
            "tags": []
          },
          "execution_count": 35
        }
      ]
    },
    {
      "cell_type": "code",
      "metadata": {
        "id": "vBrmzcbUzoVk",
        "outputId": "6ee1cde0-286f-4472-a762-d9ca0cd39f44",
        "colab": {
          "base_uri": "https://localhost:8080/",
          "height": 144
        }
      },
      "source": [
        "predictions_test = model.predict(X_test)\n",
        "\n",
        "predictions_test"
      ],
      "execution_count": 36,
      "outputs": [
        {
          "output_type": "execute_result",
          "data": {
            "text/plain": [
              "array([[2.4004277e-02, 9.7599572e-01],\n",
              "       [2.1958204e-03, 9.9780422e-01],\n",
              "       [5.5064507e-02, 9.4493550e-01],\n",
              "       ...,\n",
              "       [3.3831887e-04, 9.9966168e-01],\n",
              "       [8.7119287e-01, 1.2880717e-01],\n",
              "       [4.8772740e-04, 9.9951231e-01]], dtype=float32)"
            ]
          },
          "metadata": {
            "tags": []
          },
          "execution_count": 36
        }
      ]
    },
    {
      "cell_type": "code",
      "metadata": {
        "id": "UX-ZHCKEJhUo"
      },
      "source": [
        "pred_test=np.zeros_like(predictions_test)\n",
        "pred_test[np.arange(len(predictions_test)),predictions_test.argmax(1)]=1\n",
        "# output_DataFrame=pd.DataFrame(pred_test.argmax(axis=1),index=df1.index)\n",
        "# output_DataFrame[0]=output_DataFrame[0].map({0:'NAG',1:'CAG',2:'OAG'})\n",
        "# output_DataFrame.to_csv(\"Hindi Subtask B ou.csv\")"
      ],
      "execution_count": 37,
      "outputs": []
    },
    {
      "cell_type": "code",
      "metadata": {
        "id": "cUER0UFFJBwL",
        "outputId": "2c979ce9-a9a7-4762-af76-778a1e66b1d8",
        "colab": {
          "base_uri": "https://localhost:8080/",
          "height": 199
        }
      },
      "source": [
        "from sklearn.metrics import classification_report\n",
        "print(classification_report(y_test,pred_test))"
      ],
      "execution_count": 38,
      "outputs": [
        {
          "output_type": "stream",
          "text": [
            "              precision    recall  f1-score   support\n",
            "\n",
            "           0       0.43      0.24      0.31       197\n",
            "           1       0.73      0.86      0.79       466\n",
            "\n",
            "   micro avg       0.68      0.68      0.68       663\n",
            "   macro avg       0.58      0.55      0.55       663\n",
            "weighted avg       0.64      0.68      0.65       663\n",
            " samples avg       0.68      0.68      0.68       663\n",
            "\n"
          ],
          "name": "stdout"
        }
      ]
    },
    {
      "cell_type": "code",
      "metadata": {
        "id": "TpHjSsbhJBqB"
      },
      "source": [
        ""
      ],
      "execution_count": null,
      "outputs": []
    },
    {
      "cell_type": "code",
      "metadata": {
        "id": "yegAtJpNQkH7"
      },
      "source": [
        ""
      ],
      "execution_count": null,
      "outputs": []
    },
    {
      "cell_type": "code",
      "metadata": {
        "id": "hS19jpAgR2C7"
      },
      "source": [
        ""
      ],
      "execution_count": null,
      "outputs": []
    },
    {
      "cell_type": "code",
      "metadata": {
        "id": "LoSU3QdYsDm8"
      },
      "source": [
        ""
      ],
      "execution_count": null,
      "outputs": []
    },
    {
      "cell_type": "code",
      "metadata": {
        "id": "B0nhXigFsSn7"
      },
      "source": [
        ""
      ],
      "execution_count": null,
      "outputs": []
    },
    {
      "cell_type": "code",
      "metadata": {
        "id": "CgHgJG1nulJH",
        "outputId": "75510886-d214-4481-b3a0-5bf3b5d46435",
        "colab": {
          "base_uri": "https://localhost:8080/",
          "height": 424
        }
      },
      "source": [
        "  df3=df1[['tweet_id','ID']]\n",
        "  df3"
      ],
      "execution_count": 39,
      "outputs": [
        {
          "output_type": "execute_result",
          "data": {
            "text/html": [
              "<div>\n",
              "<style scoped>\n",
              "    .dataframe tbody tr th:only-of-type {\n",
              "        vertical-align: middle;\n",
              "    }\n",
              "\n",
              "    .dataframe tbody tr th {\n",
              "        vertical-align: top;\n",
              "    }\n",
              "\n",
              "    .dataframe thead th {\n",
              "        text-align: right;\n",
              "    }\n",
              "</style>\n",
              "<table border=\"1\" class=\"dataframe\">\n",
              "  <thead>\n",
              "    <tr style=\"text-align: right;\">\n",
              "      <th></th>\n",
              "      <th>tweet_id</th>\n",
              "      <th>ID</th>\n",
              "    </tr>\n",
              "  </thead>\n",
              "  <tbody>\n",
              "    <tr>\n",
              "      <th>0</th>\n",
              "      <td>1127781647783301120</td>\n",
              "      <td>hasoc_2020_hi_1938</td>\n",
              "    </tr>\n",
              "    <tr>\n",
              "      <th>1</th>\n",
              "      <td>1127492853171535872</td>\n",
              "      <td>hasoc_2020_hi_1201</td>\n",
              "    </tr>\n",
              "    <tr>\n",
              "      <th>2</th>\n",
              "      <td>1123638375896903681</td>\n",
              "      <td>hasoc_2020_hi_1628</td>\n",
              "    </tr>\n",
              "    <tr>\n",
              "      <th>3</th>\n",
              "      <td>1127496460310683648</td>\n",
              "      <td>hasoc_2020_hi_3257</td>\n",
              "    </tr>\n",
              "    <tr>\n",
              "      <th>4</th>\n",
              "      <td>1127667277535399937</td>\n",
              "      <td>hasoc_2020_hi_4133</td>\n",
              "    </tr>\n",
              "    <tr>\n",
              "      <th>...</th>\n",
              "      <td>...</td>\n",
              "      <td>...</td>\n",
              "    </tr>\n",
              "    <tr>\n",
              "      <th>658</th>\n",
              "      <td>1123814066907242503</td>\n",
              "      <td>hasoc_2020_hi_466</td>\n",
              "    </tr>\n",
              "    <tr>\n",
              "      <th>659</th>\n",
              "      <td>1127616035689979904</td>\n",
              "      <td>hasoc_2020_hi_1758</td>\n",
              "    </tr>\n",
              "    <tr>\n",
              "      <th>660</th>\n",
              "      <td>1127502823044702208</td>\n",
              "      <td>hasoc_2020_hi_3521</td>\n",
              "    </tr>\n",
              "    <tr>\n",
              "      <th>661</th>\n",
              "      <td>1127780829914992640</td>\n",
              "      <td>hasoc_2020_hi_1293</td>\n",
              "    </tr>\n",
              "    <tr>\n",
              "      <th>662</th>\n",
              "      <td>1127465619580788737</td>\n",
              "      <td>hasoc_2020_hi_3279</td>\n",
              "    </tr>\n",
              "  </tbody>\n",
              "</table>\n",
              "<p>663 rows × 2 columns</p>\n",
              "</div>"
            ],
            "text/plain": [
              "                tweet_id                  ID\n",
              "0    1127781647783301120  hasoc_2020_hi_1938\n",
              "1    1127492853171535872  hasoc_2020_hi_1201\n",
              "2    1123638375896903681  hasoc_2020_hi_1628\n",
              "3    1127496460310683648  hasoc_2020_hi_3257\n",
              "4    1127667277535399937  hasoc_2020_hi_4133\n",
              "..                   ...                 ...\n",
              "658  1123814066907242503   hasoc_2020_hi_466\n",
              "659  1127616035689979904  hasoc_2020_hi_1758\n",
              "660  1127502823044702208  hasoc_2020_hi_3521\n",
              "661  1127780829914992640  hasoc_2020_hi_1293\n",
              "662  1127465619580788737  hasoc_2020_hi_3279\n",
              "\n",
              "[663 rows x 2 columns]"
            ]
          },
          "metadata": {
            "tags": []
          },
          "execution_count": 39
        }
      ]
    },
    {
      "cell_type": "code",
      "metadata": {
        "id": "Aj9EwXZgxhWD",
        "outputId": "2b12e987-9f56-4bc3-9307-31df240a947e",
        "colab": {
          "base_uri": "https://localhost:8080/",
          "height": 235
        }
      },
      "source": [
        "predictions_test1=predictions_test.argmax(1)\n",
        "pred_test1=pd.Series(predictions_test1)\n",
        "pred_test1"
      ],
      "execution_count": 40,
      "outputs": [
        {
          "output_type": "execute_result",
          "data": {
            "text/plain": [
              "0      1\n",
              "1      1\n",
              "2      1\n",
              "3      1\n",
              "4      1\n",
              "      ..\n",
              "658    1\n",
              "659    1\n",
              "660    1\n",
              "661    0\n",
              "662    1\n",
              "Length: 663, dtype: int64"
            ]
          },
          "metadata": {
            "tags": []
          },
          "execution_count": 40
        }
      ]
    },
    {
      "cell_type": "code",
      "metadata": {
        "id": "oFFpAuMPxkY5",
        "outputId": "989035ed-07cc-4444-8d8a-81a49f6aaea5",
        "colab": {
          "base_uri": "https://localhost:8080/",
          "height": 146
        }
      },
      "source": [
        "df3['label']=pred_test1"
      ],
      "execution_count": 41,
      "outputs": [
        {
          "output_type": "stream",
          "text": [
            "/usr/local/lib/python3.6/dist-packages/ipykernel_launcher.py:1: SettingWithCopyWarning: \n",
            "A value is trying to be set on a copy of a slice from a DataFrame.\n",
            "Try using .loc[row_indexer,col_indexer] = value instead\n",
            "\n",
            "See the caveats in the documentation: https://pandas.pydata.org/pandas-docs/stable/user_guide/indexing.html#returning-a-view-versus-a-copy\n",
            "  \"\"\"Entry point for launching an IPython kernel.\n"
          ],
          "name": "stderr"
        }
      ]
    },
    {
      "cell_type": "code",
      "metadata": {
        "id": "rp010KgjxlJy",
        "outputId": "05fbc032-3dfd-48c1-f3d2-8f643ce69dca",
        "colab": {
          "base_uri": "https://localhost:8080/",
          "height": 424
        }
      },
      "source": [
        "df3"
      ],
      "execution_count": 42,
      "outputs": [
        {
          "output_type": "execute_result",
          "data": {
            "text/html": [
              "<div>\n",
              "<style scoped>\n",
              "    .dataframe tbody tr th:only-of-type {\n",
              "        vertical-align: middle;\n",
              "    }\n",
              "\n",
              "    .dataframe tbody tr th {\n",
              "        vertical-align: top;\n",
              "    }\n",
              "\n",
              "    .dataframe thead th {\n",
              "        text-align: right;\n",
              "    }\n",
              "</style>\n",
              "<table border=\"1\" class=\"dataframe\">\n",
              "  <thead>\n",
              "    <tr style=\"text-align: right;\">\n",
              "      <th></th>\n",
              "      <th>tweet_id</th>\n",
              "      <th>ID</th>\n",
              "      <th>label</th>\n",
              "    </tr>\n",
              "  </thead>\n",
              "  <tbody>\n",
              "    <tr>\n",
              "      <th>0</th>\n",
              "      <td>1127781647783301120</td>\n",
              "      <td>hasoc_2020_hi_1938</td>\n",
              "      <td>1</td>\n",
              "    </tr>\n",
              "    <tr>\n",
              "      <th>1</th>\n",
              "      <td>1127492853171535872</td>\n",
              "      <td>hasoc_2020_hi_1201</td>\n",
              "      <td>1</td>\n",
              "    </tr>\n",
              "    <tr>\n",
              "      <th>2</th>\n",
              "      <td>1123638375896903681</td>\n",
              "      <td>hasoc_2020_hi_1628</td>\n",
              "      <td>1</td>\n",
              "    </tr>\n",
              "    <tr>\n",
              "      <th>3</th>\n",
              "      <td>1127496460310683648</td>\n",
              "      <td>hasoc_2020_hi_3257</td>\n",
              "      <td>1</td>\n",
              "    </tr>\n",
              "    <tr>\n",
              "      <th>4</th>\n",
              "      <td>1127667277535399937</td>\n",
              "      <td>hasoc_2020_hi_4133</td>\n",
              "      <td>1</td>\n",
              "    </tr>\n",
              "    <tr>\n",
              "      <th>...</th>\n",
              "      <td>...</td>\n",
              "      <td>...</td>\n",
              "      <td>...</td>\n",
              "    </tr>\n",
              "    <tr>\n",
              "      <th>658</th>\n",
              "      <td>1123814066907242503</td>\n",
              "      <td>hasoc_2020_hi_466</td>\n",
              "      <td>1</td>\n",
              "    </tr>\n",
              "    <tr>\n",
              "      <th>659</th>\n",
              "      <td>1127616035689979904</td>\n",
              "      <td>hasoc_2020_hi_1758</td>\n",
              "      <td>1</td>\n",
              "    </tr>\n",
              "    <tr>\n",
              "      <th>660</th>\n",
              "      <td>1127502823044702208</td>\n",
              "      <td>hasoc_2020_hi_3521</td>\n",
              "      <td>1</td>\n",
              "    </tr>\n",
              "    <tr>\n",
              "      <th>661</th>\n",
              "      <td>1127780829914992640</td>\n",
              "      <td>hasoc_2020_hi_1293</td>\n",
              "      <td>0</td>\n",
              "    </tr>\n",
              "    <tr>\n",
              "      <th>662</th>\n",
              "      <td>1127465619580788737</td>\n",
              "      <td>hasoc_2020_hi_3279</td>\n",
              "      <td>1</td>\n",
              "    </tr>\n",
              "  </tbody>\n",
              "</table>\n",
              "<p>663 rows × 3 columns</p>\n",
              "</div>"
            ],
            "text/plain": [
              "                tweet_id                  ID  label\n",
              "0    1127781647783301120  hasoc_2020_hi_1938      1\n",
              "1    1127492853171535872  hasoc_2020_hi_1201      1\n",
              "2    1123638375896903681  hasoc_2020_hi_1628      1\n",
              "3    1127496460310683648  hasoc_2020_hi_3257      1\n",
              "4    1127667277535399937  hasoc_2020_hi_4133      1\n",
              "..                   ...                 ...    ...\n",
              "658  1123814066907242503   hasoc_2020_hi_466      1\n",
              "659  1127616035689979904  hasoc_2020_hi_1758      1\n",
              "660  1127502823044702208  hasoc_2020_hi_3521      1\n",
              "661  1127780829914992640  hasoc_2020_hi_1293      0\n",
              "662  1127465619580788737  hasoc_2020_hi_3279      1\n",
              "\n",
              "[663 rows x 3 columns]"
            ]
          },
          "metadata": {
            "tags": []
          },
          "execution_count": 42
        }
      ]
    },
    {
      "cell_type": "code",
      "metadata": {
        "id": "4ZllqNMoxmG-",
        "outputId": "404bbeb9-b591-4322-9e34-5f3672090842",
        "colab": {
          "base_uri": "https://localhost:8080/",
          "height": 553
        }
      },
      "source": [
        "df3['label'] = df3['label'].map({0: \"NOT\",1:\"HOF\"})\n",
        "df3"
      ],
      "execution_count": 43,
      "outputs": [
        {
          "output_type": "stream",
          "text": [
            "/usr/local/lib/python3.6/dist-packages/ipykernel_launcher.py:1: SettingWithCopyWarning: \n",
            "A value is trying to be set on a copy of a slice from a DataFrame.\n",
            "Try using .loc[row_indexer,col_indexer] = value instead\n",
            "\n",
            "See the caveats in the documentation: https://pandas.pydata.org/pandas-docs/stable/user_guide/indexing.html#returning-a-view-versus-a-copy\n",
            "  \"\"\"Entry point for launching an IPython kernel.\n"
          ],
          "name": "stderr"
        },
        {
          "output_type": "execute_result",
          "data": {
            "text/html": [
              "<div>\n",
              "<style scoped>\n",
              "    .dataframe tbody tr th:only-of-type {\n",
              "        vertical-align: middle;\n",
              "    }\n",
              "\n",
              "    .dataframe tbody tr th {\n",
              "        vertical-align: top;\n",
              "    }\n",
              "\n",
              "    .dataframe thead th {\n",
              "        text-align: right;\n",
              "    }\n",
              "</style>\n",
              "<table border=\"1\" class=\"dataframe\">\n",
              "  <thead>\n",
              "    <tr style=\"text-align: right;\">\n",
              "      <th></th>\n",
              "      <th>tweet_id</th>\n",
              "      <th>ID</th>\n",
              "      <th>label</th>\n",
              "    </tr>\n",
              "  </thead>\n",
              "  <tbody>\n",
              "    <tr>\n",
              "      <th>0</th>\n",
              "      <td>1127781647783301120</td>\n",
              "      <td>hasoc_2020_hi_1938</td>\n",
              "      <td>HOF</td>\n",
              "    </tr>\n",
              "    <tr>\n",
              "      <th>1</th>\n",
              "      <td>1127492853171535872</td>\n",
              "      <td>hasoc_2020_hi_1201</td>\n",
              "      <td>HOF</td>\n",
              "    </tr>\n",
              "    <tr>\n",
              "      <th>2</th>\n",
              "      <td>1123638375896903681</td>\n",
              "      <td>hasoc_2020_hi_1628</td>\n",
              "      <td>HOF</td>\n",
              "    </tr>\n",
              "    <tr>\n",
              "      <th>3</th>\n",
              "      <td>1127496460310683648</td>\n",
              "      <td>hasoc_2020_hi_3257</td>\n",
              "      <td>HOF</td>\n",
              "    </tr>\n",
              "    <tr>\n",
              "      <th>4</th>\n",
              "      <td>1127667277535399937</td>\n",
              "      <td>hasoc_2020_hi_4133</td>\n",
              "      <td>HOF</td>\n",
              "    </tr>\n",
              "    <tr>\n",
              "      <th>...</th>\n",
              "      <td>...</td>\n",
              "      <td>...</td>\n",
              "      <td>...</td>\n",
              "    </tr>\n",
              "    <tr>\n",
              "      <th>658</th>\n",
              "      <td>1123814066907242503</td>\n",
              "      <td>hasoc_2020_hi_466</td>\n",
              "      <td>HOF</td>\n",
              "    </tr>\n",
              "    <tr>\n",
              "      <th>659</th>\n",
              "      <td>1127616035689979904</td>\n",
              "      <td>hasoc_2020_hi_1758</td>\n",
              "      <td>HOF</td>\n",
              "    </tr>\n",
              "    <tr>\n",
              "      <th>660</th>\n",
              "      <td>1127502823044702208</td>\n",
              "      <td>hasoc_2020_hi_3521</td>\n",
              "      <td>HOF</td>\n",
              "    </tr>\n",
              "    <tr>\n",
              "      <th>661</th>\n",
              "      <td>1127780829914992640</td>\n",
              "      <td>hasoc_2020_hi_1293</td>\n",
              "      <td>NOT</td>\n",
              "    </tr>\n",
              "    <tr>\n",
              "      <th>662</th>\n",
              "      <td>1127465619580788737</td>\n",
              "      <td>hasoc_2020_hi_3279</td>\n",
              "      <td>HOF</td>\n",
              "    </tr>\n",
              "  </tbody>\n",
              "</table>\n",
              "<p>663 rows × 3 columns</p>\n",
              "</div>"
            ],
            "text/plain": [
              "                tweet_id                  ID label\n",
              "0    1127781647783301120  hasoc_2020_hi_1938   HOF\n",
              "1    1127492853171535872  hasoc_2020_hi_1201   HOF\n",
              "2    1123638375896903681  hasoc_2020_hi_1628   HOF\n",
              "3    1127496460310683648  hasoc_2020_hi_3257   HOF\n",
              "4    1127667277535399937  hasoc_2020_hi_4133   HOF\n",
              "..                   ...                 ...   ...\n",
              "658  1123814066907242503   hasoc_2020_hi_466   HOF\n",
              "659  1127616035689979904  hasoc_2020_hi_1758   HOF\n",
              "660  1127502823044702208  hasoc_2020_hi_3521   HOF\n",
              "661  1127780829914992640  hasoc_2020_hi_1293   NOT\n",
              "662  1127465619580788737  hasoc_2020_hi_3279   HOF\n",
              "\n",
              "[663 rows x 3 columns]"
            ]
          },
          "metadata": {
            "tags": []
          },
          "execution_count": 43
        }
      ]
    },
    {
      "cell_type": "code",
      "metadata": {
        "id": "RkrNw26hxqlc"
      },
      "source": [
        "df3.to_csv('submission_HI_A.csv')"
      ],
      "execution_count": 45,
      "outputs": []
    },
    {
      "cell_type": "code",
      "metadata": {
        "id": "xXW0SbI9xsUq"
      },
      "source": [
        "model.save(\"HindiDatasetSubTask1_withLSTM_Fasttext.h5\")"
      ],
      "execution_count": 46,
      "outputs": []
    },
    {
      "cell_type": "code",
      "metadata": {
        "id": "Ens9D4g8yH0j"
      },
      "source": [
        ""
      ],
      "execution_count": null,
      "outputs": []
    }
  ]
}