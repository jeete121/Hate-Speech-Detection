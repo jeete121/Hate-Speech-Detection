{
 "cells": [
  {
   "cell_type": "code",
   "execution_count": 0,
   "metadata": {
    "colab": {
     "base_uri": "https://localhost:8080/",
     "height": 125
    },
    "colab_type": "code",
    "executionInfo": {
     "elapsed": 29967,
     "status": "ok",
     "timestamp": 1583677051581,
     "user": {
      "displayName": "KARTIK MOHAN",
      "photoUrl": "",
      "userId": "11733019016996442519"
     },
     "user_tz": -330
    },
    "id": "p71wFNp0f4Kb",
    "outputId": "55930543-70ca-47e2-a55e-06af3066aa88"
   },
   "outputs": [
    {
     "name": "stdout",
     "output_type": "stream",
     "text": [
      "Go to this URL in a browser: https://accounts.google.com/o/oauth2/auth?client_id=947318989803-6bn6qk8qdgf4n4g3pfee6491hc0brc4i.apps.googleusercontent.com&redirect_uri=urn%3aietf%3awg%3aoauth%3a2.0%3aoob&response_type=code&scope=email%20https%3a%2f%2fwww.googleapis.com%2fauth%2fdocs.test%20https%3a%2f%2fwww.googleapis.com%2fauth%2fdrive%20https%3a%2f%2fwww.googleapis.com%2fauth%2fdrive.photos.readonly%20https%3a%2f%2fwww.googleapis.com%2fauth%2fpeopleapi.readonly\n",
      "\n",
      "Enter your authorization code:\n",
      "··········\n",
      "Mounted at /content/drive\n"
     ]
    }
   ],
   "source": [
    "from google.colab import drive\n",
    "drive.mount('/content/drive')"
   ]
  },
  {
   "cell_type": "code",
   "execution_count": 0,
   "metadata": {
    "colab": {
     "base_uri": "https://localhost:8080/",
     "height": 116
    },
    "colab_type": "code",
    "executionInfo": {
     "elapsed": 4609,
     "status": "ok",
     "timestamp": 1583677060591,
     "user": {
      "displayName": "KARTIK MOHAN",
      "photoUrl": "",
      "userId": "11733019016996442519"
     },
     "user_tz": -330
    },
    "id": "8q4V8zMWZCsf",
    "outputId": "bf42783d-786e-4c73-bbbb-11438dbfddf6"
   },
   "outputs": [
    {
     "name": "stdout",
     "output_type": "stream",
     "text": [
      "[nltk_data] Downloading package punkt to /root/nltk_data...\n",
      "[nltk_data]   Unzipping tokenizers/punkt.zip.\n"
     ]
    },
    {
     "data": {
      "text/html": [
       "<p style=\"color: red;\">\n",
       "The default version of TensorFlow in Colab will soon switch to TensorFlow 2.x.<br>\n",
       "We recommend you <a href=\"https://www.tensorflow.org/guide/migrate\" target=\"_blank\">upgrade</a> now \n",
       "or ensure your notebook will continue to use TensorFlow 1.x via the <code>%tensorflow_version 1.x</code> magic:\n",
       "<a href=\"https://colab.research.google.com/notebooks/tensorflow_version.ipynb\" target=\"_blank\">more info</a>.</p>\n"
      ],
      "text/plain": [
       "<IPython.core.display.HTML object>"
      ]
     },
     "metadata": {
      "tags": []
     },
     "output_type": "display_data"
    },
    {
     "name": "stderr",
     "output_type": "stream",
     "text": [
      "Using TensorFlow backend.\n"
     ]
    }
   ],
   "source": [
    "import numpy as np\n",
    "import pandas as pd\n",
    "import sklearn\n",
    "import nltk\n",
    "# from nltk.stem.porter import PorterStemmer\n",
    "nltk.download('punkt')\n",
    "from sklearn import feature_extraction,model_selection\n",
    "from sklearn.metrics import confusion_matrix\n",
    "import glob\n",
    "import os\n",
    "import string\n",
    "import tensorflow as tf\n",
    "import keras as K\n",
    "import zipfile\n",
    "from keras.preprocessing.text import Tokenizer\n",
    "from keras.preprocessing.sequence import pad_sequences\n",
    "import matplotlib.pyplot as plt\n",
    "from sklearn.metrics import plot_confusion_matrix"
   ]
  },
  {
   "cell_type": "code",
   "execution_count": 0,
   "metadata": {
    "colab": {},
    "colab_type": "code",
    "id": "erAea3emZhnn"
   },
   "outputs": [],
   "source": [
    "def load_csv(path):\n",
    "  df=pd.read_csv(path).drop(['Sub-task B','ID'],axis=1)\n",
    "  df=df[(df['Sub-task A']==\"NAG\")|(df['Sub-task A']=='CAG')|(df['Sub-task A']=='OAG')].dropna()\n",
    "  df['Sub-task A'] = df['Sub-task A'].map({'NAG': 0, 'CAG': 1,'OAG': 2})\n",
    "  return df"
   ]
  },
  {
   "cell_type": "code",
   "execution_count": 0,
   "metadata": {
    "colab": {},
    "colab_type": "code",
    "id": "AeRZ6nkKgU9a"
   },
   "outputs": [],
   "source": [
    "zip_ref = zipfile.ZipFile(\"/content/drive/My Drive/Minor Project/wiki.bn.zip\", 'r')\n",
    "zip_ref.extractall()\n",
    "zip_ref.close()"
   ]
  },
  {
   "cell_type": "code",
   "execution_count": 0,
   "metadata": {
    "colab": {
     "base_uri": "https://localhost:8080/",
     "height": 228
    },
    "colab_type": "code",
    "executionInfo": {
     "elapsed": 1738,
     "status": "ok",
     "timestamp": 1583677460353,
     "user": {
      "displayName": "KARTIK MOHAN",
      "photoUrl": "",
      "userId": "11733019016996442519"
     },
     "user_tz": -330
    },
    "id": "ARFmqLvXZtwa",
    "outputId": "846c1de7-7550-411d-cf95-fa73165f5a1e"
   },
   "outputs": [
    {
     "name": "stdout",
     "output_type": "stream",
     "text": [
      "                                                Text  Sub-task A\n",
      "0                                      Dada taratari           0\n",
      "1                              Tumi korbe Amar sathe           0\n",
      "2  Ar ta chara a sob bessha peter cheleder okhan ...           2\n",
      "3                   কাকের শরীরে ময়ুরের পাখা লাগিয়েছে           1\n",
      "4  পতিতাদের চরিত্র রাজনৈতিক নেতাদের থেকে হাজার গু...           0\n",
      "                                                Text  Sub-task A\n",
      "0  Ek dom sothik kotha bolecho jhekane theka uthe...           0\n",
      "1                                        ফালতু মেয়ে           1\n",
      "2                                   DARUN AKDOM THIK           0\n",
      "3                                     Sala ranu magi           2\n",
      "4                                থামবেল ঠিককোরে বানা           2\n"
     ]
    }
   ],
   "source": [
    "train_df=load_csv(\"/content/drive/My Drive/Minor Project/iben_train.csv\")\n",
    "dev_df=load_csv(\"/content/drive/My Drive/Minor Project/iben_dev.csv\")\n",
    "print(train_df.head())\n",
    "print(dev_df.head())"
   ]
  },
  {
   "cell_type": "code",
   "execution_count": 0,
   "metadata": {
    "colab": {
     "base_uri": "https://localhost:8080/",
     "height": 34
    },
    "colab_type": "code",
    "executionInfo": {
     "elapsed": 1361,
     "status": "ok",
     "timestamp": 1583677462214,
     "user": {
      "displayName": "KARTIK MOHAN",
      "photoUrl": "",
      "userId": "11733019016996442519"
     },
     "user_tz": -330
    },
    "id": "zB_DiUeCaA48",
    "outputId": "2516a6f2-09e2-445d-98f1-67cf54d747c3"
   },
   "outputs": [
    {
     "data": {
      "text/plain": [
       "((3826, 2), (957, 2))"
      ]
     },
     "execution_count": 23,
     "metadata": {
      "tags": []
     },
     "output_type": "execute_result"
    }
   ],
   "source": [
    "train_df.shape,dev_df.shape"
   ]
  },
  {
   "cell_type": "code",
   "execution_count": 0,
   "metadata": {
    "colab": {
     "base_uri": "https://localhost:8080/",
     "height": 228
    },
    "colab_type": "code",
    "executionInfo": {
     "elapsed": 929,
     "status": "ok",
     "timestamp": 1583677462225,
     "user": {
      "displayName": "KARTIK MOHAN",
      "photoUrl": "",
      "userId": "11733019016996442519"
     },
     "user_tz": -330
    },
    "id": "WFUOC2_6tLm9",
    "outputId": "ab29a94a-259b-4572-eee4-6a27fc4d071b"
   },
   "outputs": [
    {
     "data": {
      "text/plain": [
       "0       0\n",
       "1       0\n",
       "2       2\n",
       "3       1\n",
       "4       0\n",
       "       ..\n",
       "3821    0\n",
       "3822    1\n",
       "3823    1\n",
       "3824    0\n",
       "3825    0\n",
       "Name: Sub-task A, Length: 3826, dtype: int64"
      ]
     },
     "execution_count": 24,
     "metadata": {
      "tags": []
     },
     "output_type": "execute_result"
    }
   ],
   "source": [
    "Y_train=train_df['Sub-task A']\n",
    "Y_train"
   ]
  },
  {
   "cell_type": "code",
   "execution_count": 0,
   "metadata": {
    "colab": {
     "base_uri": "https://localhost:8080/",
     "height": 228
    },
    "colab_type": "code",
    "executionInfo": {
     "elapsed": 1707,
     "status": "ok",
     "timestamp": 1583677463486,
     "user": {
      "displayName": "KARTIK MOHAN",
      "photoUrl": "",
      "userId": "11733019016996442519"
     },
     "user_tz": -330
    },
    "id": "zxAwlhN4tU2K",
    "outputId": "c472f2ba-8e35-4a33-ecfa-214ab2424e63"
   },
   "outputs": [
    {
     "data": {
      "text/plain": [
       "0      0\n",
       "1      1\n",
       "2      0\n",
       "3      2\n",
       "4      2\n",
       "      ..\n",
       "952    1\n",
       "953    0\n",
       "954    0\n",
       "955    0\n",
       "956    0\n",
       "Name: Sub-task A, Length: 957, dtype: int64"
      ]
     },
     "execution_count": 25,
     "metadata": {
      "tags": []
     },
     "output_type": "execute_result"
    }
   ],
   "source": [
    "Y_dev=dev_df['Sub-task A']\n",
    "Y_dev"
   ]
  },
  {
   "cell_type": "code",
   "execution_count": 0,
   "metadata": {
    "colab": {
     "base_uri": "https://localhost:8080/",
     "height": 158
    },
    "colab_type": "code",
    "executionInfo": {
     "elapsed": 1728,
     "status": "ok",
     "timestamp": 1583677464039,
     "user": {
      "displayName": "KARTIK MOHAN",
      "photoUrl": "",
      "userId": "11733019016996442519"
     },
     "user_tz": -330
    },
    "id": "ngWFnNN4aFYL",
    "outputId": "d4add9ea-9ddb-4664-95d2-7cc6571ed940"
   },
   "outputs": [
    {
     "name": "stdout",
     "output_type": "stream",
     "text": [
      "0    2078\n",
      "1     898\n",
      "2     850\n",
      "Name: Sub-task A, dtype: int64\n",
      "0    522\n",
      "1    218\n",
      "2    217\n",
      "Name: Sub-task A, dtype: int64\n"
     ]
    }
   ],
   "source": [
    "print(train_df['Sub-task A'].value_counts())\n",
    "print(dev_df['Sub-task A'].value_counts())"
   ]
  },
  {
   "cell_type": "code",
   "execution_count": 0,
   "metadata": {
    "colab": {},
    "colab_type": "code",
    "id": "XOJQwy1dh2_q"
   },
   "outputs": [],
   "source": [
    "# importing Word2Vec\n",
    "from gensim.models import Word2Vec\n",
    "from gensim.models import FastText"
   ]
  },
  {
   "cell_type": "code",
   "execution_count": 0,
   "metadata": {
    "colab": {},
    "colab_type": "code",
    "id": "TYTdfJ-1tF6P"
   },
   "outputs": [],
   "source": []
  },
  {
   "cell_type": "code",
   "execution_count": 0,
   "metadata": {
    "colab": {
     "base_uri": "https://localhost:8080/",
     "height": 34
    },
    "colab_type": "code",
    "executionInfo": {
     "elapsed": 10506,
     "status": "ok",
     "timestamp": 1583677477149,
     "user": {
      "displayName": "KARTIK MOHAN",
      "photoUrl": "",
      "userId": "11733019016996442519"
     },
     "user_tz": -330
    },
    "id": "8VrgjVpDh_bo",
    "outputId": "6409a1a4-b64c-4df1-a47a-9b255deff7f9"
   },
   "outputs": [
    {
     "name": "stdout",
     "output_type": "stream",
     "text": [
      "Total 145279 word vectors in wiki.bin.vec.\n"
     ]
    }
   ],
   "source": [
    "#load pre-trained embedding:\n",
    "embeddings_index = {}\n",
    "f = open('/content/wiki.bn.vec', encoding=\"utf8\")\n",
    "for line in f:\n",
    "    values = line.split()#This splits each values in a  line with spaces\n",
    "    word = values[0] # This store the first values which is the word in english\n",
    "    coefs = np.asarray(values[1:]) # This converts all splitted values from 1 to last(expect first word) into an array\n",
    "    embeddings_index[word] = coefs # english word = array of numerical values\n",
    "f.close()\n",
    "print('Total %s word vectors in wiki.bin.vec.' % len(embeddings_index))"
   ]
  },
  {
   "cell_type": "code",
   "execution_count": 0,
   "metadata": {
    "colab": {
     "base_uri": "https://localhost:8080/",
     "height": 34
    },
    "colab_type": "code",
    "executionInfo": {
     "elapsed": 10025,
     "status": "ok",
     "timestamp": 1583677477152,
     "user": {
      "displayName": "KARTIK MOHAN",
      "photoUrl": "",
      "userId": "11733019016996442519"
     },
     "user_tz": -330
    },
    "id": "MwajtIo6p7fP",
    "outputId": "847a7d13-18d1-409d-dade-46a546531312"
   },
   "outputs": [
    {
     "data": {
      "text/plain": [
       "(300,)"
      ]
     },
     "execution_count": 29,
     "metadata": {
      "tags": []
     },
     "output_type": "execute_result"
    }
   ],
   "source": [
    "embeddings_index['the'].shape"
   ]
  },
  {
   "cell_type": "code",
   "execution_count": 0,
   "metadata": {
    "colab": {},
    "colab_type": "code",
    "id": "DA5zYU0PaWDn"
   },
   "outputs": [],
   "source": [
    "tk=Tokenizer()\n",
    "tk.fit_on_texts(train_df['Text'])\n",
    "word_index=tk.word_index\n",
    "#print(index)\n",
    "train_df = tk.texts_to_sequences(train_df['Text'])\n",
    "dev_df=tk.texts_to_sequences(dev_df['Text'])"
   ]
  },
  {
   "cell_type": "code",
   "execution_count": 0,
   "metadata": {
    "colab": {
     "base_uri": "https://localhost:8080/",
     "height": 140
    },
    "colab_type": "code",
    "executionInfo": {
     "elapsed": 1544,
     "status": "ok",
     "timestamp": 1583677481245,
     "user": {
      "displayName": "KARTIK MOHAN",
      "photoUrl": "",
      "userId": "11733019016996442519"
     },
     "user_tz": -330
    },
    "id": "DIJ-ZOrbjmhx",
    "outputId": "74211452-9b51-4d70-de56-d2636c1b32a2"
   },
   "outputs": [
    {
     "name": "stdout",
     "output_type": "stream",
     "text": [
      "[[    3  1240     0 ...     0     0     0]\n",
      " [   47   607    72 ...     0     0     0]\n",
      " [   32     4   492 ...     0     0     0]\n",
      " ...\n",
      " [  143   564   414 ...     0     0     0]\n",
      " [10558    42     0 ...     0     0     0]\n",
      " [ 3465 10559    48 ...     0     0     0]]\n"
     ]
    }
   ],
   "source": [
    "embedding_vecor_length =30\n",
    "train_df = pad_sequences(train_df, maxlen=embedding_vecor_length, padding='post')\n",
    "print (train_df)"
   ]
  },
  {
   "cell_type": "code",
   "execution_count": 0,
   "metadata": {
    "colab": {
     "base_uri": "https://localhost:8080/",
     "height": 140
    },
    "colab_type": "code",
    "executionInfo": {
     "elapsed": 1896,
     "status": "ok",
     "timestamp": 1583677482766,
     "user": {
      "displayName": "KARTIK MOHAN",
      "photoUrl": "",
      "userId": "11733019016996442519"
     },
     "user_tz": -330
    },
    "id": "qtmfqhBgkeFc",
    "outputId": "9473e4c5-b43e-4ce1-9c71-117ed7590c78"
   },
   "outputs": [
    {
     "name": "stdout",
     "output_type": "stream",
     "text": [
      "[[ 296  311 1853 ...    0    0    0]\n",
      " [ 306  857    0 ...    0    0    0]\n",
      " [  35   51    7 ...    0    0    0]\n",
      " ...\n",
      " [  14  644    0 ...    0    0    0]\n",
      " [   0    0    0 ...    0    0    0]\n",
      " [   3   77   54 ...    0    0    0]]\n"
     ]
    }
   ],
   "source": [
    "embedding_vecor_length =30\n",
    "dev_df = pad_sequences(dev_df, maxlen=embedding_vecor_length, padding='post')\n",
    "print (dev_df)"
   ]
  },
  {
   "cell_type": "code",
   "execution_count": 0,
   "metadata": {
    "colab": {},
    "colab_type": "code",
    "id": "DQSapS9iimka"
   },
   "outputs": [],
   "source": [
    " # Initialize the weight for each word for the embedding layer. Words not present\n",
    "# in the dictionary initialized by random value \n",
    "EMBEDDING_DIM = 300\n",
    "embedding_matrix = np.random.random((len(word_index), EMBEDDING_DIM))\n",
    "#embedding_matrix = (16433, 100) NOTE: It is from uniques words in our tweets\n",
    "for word, i in word_index.items(): # Selecting word from our tweet unique words list for changing with the values from glove\n",
    "    embedding_vector = embeddings_index.get(word+'1') # Finding our tweet words in glove and taking its array of 100 values\n",
    "    if embedding_vector is not None: \n",
    "#words not found in embedding index will be all-zeros.\n",
    "        embedding_matrix[i] = embedding_vector"
   ]
  },
  {
   "cell_type": "code",
   "execution_count": 0,
   "metadata": {
    "colab": {
     "base_uri": "https://localhost:8080/",
     "height": 34
    },
    "colab_type": "code",
    "executionInfo": {
     "elapsed": 1591,
     "status": "ok",
     "timestamp": 1583677484905,
     "user": {
      "displayName": "KARTIK MOHAN",
      "photoUrl": "",
      "userId": "11733019016996442519"
     },
     "user_tz": -330
    },
    "id": "i1uyPr8Xa4aa",
    "outputId": "3427afed-0aa1-4d04-f600-0c857828d480"
   },
   "outputs": [
    {
     "name": "stdout",
     "output_type": "stream",
     "text": [
      "(3826, 3) (957, 3)\n"
     ]
    }
   ],
   "source": [
    "from keras.utils.np_utils import to_categorical\n",
    "y_train = to_categorical(np.asarray(Y_train))\n",
    "y_test = to_categorical(np.asarray(Y_dev))\n",
    "# y_train=np.array(train_df['Sub-task A'])\n",
    "# y_dev=np.array(dev_df['Sub-task A'])\n",
    "print(y_train.shape, y_test.shape)"
   ]
  },
  {
   "cell_type": "code",
   "execution_count": 0,
   "metadata": {
    "colab": {
     "base_uri": "https://localhost:8080/",
     "height": 34
    },
    "colab_type": "code",
    "executionInfo": {
     "elapsed": 2082,
     "status": "ok",
     "timestamp": 1583677487374,
     "user": {
      "displayName": "KARTIK MOHAN",
      "photoUrl": "",
      "userId": "11733019016996442519"
     },
     "user_tz": -330
    },
    "id": "z2F9pBFwtsLx",
    "outputId": "ecf7b030-4f27-4eae-c5db-f40305754adb"
   },
   "outputs": [
    {
     "data": {
      "text/plain": [
       "10562"
      ]
     },
     "execution_count": 35,
     "metadata": {
      "tags": []
     },
     "output_type": "execute_result"
    }
   ],
   "source": [
    "vocab_size=len(word_index)\n",
    "vocab_size"
   ]
  },
  {
   "cell_type": "code",
   "execution_count": 0,
   "metadata": {
    "colab": {
     "base_uri": "https://localhost:8080/",
     "height": 263
    },
    "colab_type": "code",
    "executionInfo": {
     "elapsed": 1881,
     "status": "ok",
     "timestamp": 1583677489624,
     "user": {
      "displayName": "KARTIK MOHAN",
      "photoUrl": "",
      "userId": "11733019016996442519"
     },
     "user_tz": -330
    },
    "id": "WdDm1-DobX56",
    "outputId": "93034e84-f859-407a-c763-719d0c454883"
   },
   "outputs": [
    {
     "name": "stdout",
     "output_type": "stream",
     "text": [
      "Model: \"sequential_2\"\n",
      "_________________________________________________________________\n",
      "Layer (type)                 Output Shape              Param #   \n",
      "=================================================================\n",
      "embedding_2 (Embedding)      (None, 30, 100)           1056200   \n",
      "_________________________________________________________________\n",
      "lstm_2 (LSTM)                (None, 192)               225024    \n",
      "_________________________________________________________________\n",
      "dense_2 (Dense)              (None, 3)                 579       \n",
      "=================================================================\n",
      "Total params: 1,281,803\n",
      "Trainable params: 1,281,803\n",
      "Non-trainable params: 0\n",
      "_________________________________________________________________\n"
     ]
    }
   ],
   "source": [
    "from keras.utils.vis_utils import plot_model\n",
    "from keras.models import Sequential\n",
    "from keras.layers import Input,LSTM\n",
    "from keras.layers import Dense\n",
    "from keras.layers import Flatten\n",
    "from keras.layers import Dropout\n",
    "from keras.layers import Embedding\n",
    "from keras.layers.convolutional import Conv1D\n",
    "from keras.layers.convolutional import MaxPooling1D\n",
    "model=Sequential()\n",
    "model.add(Embedding(vocab_size,100,input_length=train_df.shape[1]))\n",
    "model.add(LSTM(192, dropout=0.2, recurrent_dropout=0.2))\n",
    "model.add(Dense(3,activation='softmax'))\n",
    "model.compile(loss = 'categorical_crossentropy', optimizer='adam',metrics = ['accuracy'])\n",
    "model.summary()"
   ]
  },
  {
   "cell_type": "code",
   "execution_count": 0,
   "metadata": {
    "colab": {
     "base_uri": "https://localhost:8080/",
     "height": 1000
    },
    "colab_type": "code",
    "executionInfo": {
     "elapsed": 216967,
     "status": "ok",
     "timestamp": 1583677707133,
     "user": {
      "displayName": "KARTIK MOHAN",
      "photoUrl": "",
      "userId": "11733019016996442519"
     },
     "user_tz": -330
    },
    "id": "OyzGxWyNbuNB",
    "outputId": "b3aaf440-7ead-43b5-a9fd-0cdc89179e4b"
   },
   "outputs": [
    {
     "name": "stdout",
     "output_type": "stream",
     "text": [
      "Train on 3826 samples, validate on 957 samples\n",
      "Epoch 1/100\n",
      " - 3s - loss: 1.0157 - acc: 0.5342 - val_loss: 1.0032 - val_acc: 0.5455\n",
      "Epoch 2/100\n",
      " - 2s - loss: 0.9602 - acc: 0.5674 - val_loss: 0.9461 - val_acc: 0.5904\n",
      "Epoch 3/100\n",
      " - 2s - loss: 0.6775 - acc: 0.6683 - val_loss: 0.7921 - val_acc: 0.6092\n",
      "Epoch 4/100\n",
      " - 2s - loss: 0.5006 - acc: 0.7344 - val_loss: 0.8470 - val_acc: 0.6395\n",
      "Epoch 5/100\n",
      " - 2s - loss: 0.4310 - acc: 0.7548 - val_loss: 1.1038 - val_acc: 0.5935\n",
      "Epoch 6/100\n",
      " - 2s - loss: 0.3804 - acc: 0.7784 - val_loss: 1.2087 - val_acc: 0.6123\n",
      "Epoch 7/100\n",
      " - 2s - loss: 0.3716 - acc: 0.7922 - val_loss: 1.4018 - val_acc: 0.5423\n",
      "Epoch 8/100\n",
      " - 2s - loss: 0.3702 - acc: 0.8298 - val_loss: 1.1551 - val_acc: 0.6489\n",
      "Epoch 9/100\n",
      " - 2s - loss: 0.2945 - acc: 0.8811 - val_loss: 1.2475 - val_acc: 0.6625\n",
      "Epoch 10/100\n",
      " - 2s - loss: 0.2325 - acc: 0.9219 - val_loss: 1.3560 - val_acc: 0.6562\n",
      "Epoch 11/100\n",
      " - 2s - loss: 0.1616 - acc: 0.9537 - val_loss: 1.1290 - val_acc: 0.6834\n",
      "Epoch 12/100\n",
      " - 2s - loss: 0.1192 - acc: 0.9663 - val_loss: 1.1954 - val_acc: 0.6594\n",
      "Epoch 13/100\n",
      " - 2s - loss: 0.1069 - acc: 0.9697 - val_loss: 1.5202 - val_acc: 0.6604\n",
      "Epoch 14/100\n",
      " - 2s - loss: 0.0828 - acc: 0.9783 - val_loss: 1.4481 - val_acc: 0.6771\n",
      "Epoch 15/100\n",
      " - 2s - loss: 0.0756 - acc: 0.9804 - val_loss: 1.6609 - val_acc: 0.6729\n",
      "Epoch 16/100\n",
      " - 2s - loss: 0.0720 - acc: 0.9799 - val_loss: 1.5680 - val_acc: 0.6656\n",
      "Epoch 17/100\n",
      " - 2s - loss: 0.0684 - acc: 0.9830 - val_loss: 1.4194 - val_acc: 0.6792\n",
      "Epoch 18/100\n",
      " - 2s - loss: 0.0558 - acc: 0.9888 - val_loss: 1.4805 - val_acc: 0.6761\n",
      "Epoch 19/100\n",
      " - 2s - loss: 0.0497 - acc: 0.9901 - val_loss: 1.5884 - val_acc: 0.6750\n",
      "Epoch 20/100\n",
      " - 2s - loss: 0.0392 - acc: 0.9922 - val_loss: 1.7192 - val_acc: 0.6761\n",
      "Epoch 21/100\n",
      " - 2s - loss: 0.0420 - acc: 0.9901 - val_loss: 1.5495 - val_acc: 0.6646\n",
      "Epoch 22/100\n",
      " - 2s - loss: 0.0629 - acc: 0.9848 - val_loss: 1.4317 - val_acc: 0.6719\n",
      "Epoch 23/100\n",
      " - 2s - loss: 0.0453 - acc: 0.9901 - val_loss: 1.6190 - val_acc: 0.6813\n",
      "Epoch 24/100\n",
      " - 2s - loss: 0.0481 - acc: 0.9885 - val_loss: 1.5879 - val_acc: 0.6750\n",
      "Epoch 25/100\n",
      " - 2s - loss: 0.0432 - acc: 0.9914 - val_loss: 1.6974 - val_acc: 0.6677\n",
      "Epoch 26/100\n",
      " - 2s - loss: 0.0359 - acc: 0.9924 - val_loss: 1.9390 - val_acc: 0.6531\n",
      "Epoch 27/100\n",
      " - 2s - loss: 0.0475 - acc: 0.9877 - val_loss: 1.5040 - val_acc: 0.6646\n",
      "Epoch 28/100\n",
      " - 2s - loss: 0.0372 - acc: 0.9922 - val_loss: 1.7552 - val_acc: 0.6625\n",
      "Epoch 29/100\n",
      " - 2s - loss: 0.0470 - acc: 0.9877 - val_loss: 1.9925 - val_acc: 0.6667\n",
      "Epoch 30/100\n",
      " - 2s - loss: 0.0294 - acc: 0.9942 - val_loss: 2.0142 - val_acc: 0.6614\n",
      "Epoch 31/100\n",
      " - 2s - loss: 0.0332 - acc: 0.9942 - val_loss: 1.7227 - val_acc: 0.6813\n",
      "Epoch 32/100\n",
      " - 2s - loss: 0.1151 - acc: 0.9767 - val_loss: 1.2061 - val_acc: 0.6792\n",
      "Epoch 33/100\n",
      " - 2s - loss: 0.1276 - acc: 0.9668 - val_loss: 1.4714 - val_acc: 0.6834\n",
      "Epoch 34/100\n",
      " - 2s - loss: 0.0692 - acc: 0.9843 - val_loss: 1.5505 - val_acc: 0.6656\n",
      "Epoch 35/100\n",
      " - 2s - loss: 0.1380 - acc: 0.9616 - val_loss: 1.3746 - val_acc: 0.6782\n",
      "Epoch 36/100\n",
      " - 2s - loss: 0.1325 - acc: 0.9718 - val_loss: 1.4163 - val_acc: 0.6594\n",
      "Epoch 37/100\n",
      " - 2s - loss: 0.0695 - acc: 0.9796 - val_loss: 1.4992 - val_acc: 0.5716\n",
      "Epoch 38/100\n",
      " - 2s - loss: 0.0679 - acc: 0.9794 - val_loss: 1.6397 - val_acc: 0.6761\n",
      "Epoch 39/100\n",
      " - 2s - loss: 0.0513 - acc: 0.9880 - val_loss: 1.7361 - val_acc: 0.6803\n",
      "Epoch 40/100\n",
      " - 2s - loss: 0.0468 - acc: 0.9885 - val_loss: 1.6778 - val_acc: 0.6635\n",
      "Epoch 41/100\n",
      " - 2s - loss: 0.0500 - acc: 0.9872 - val_loss: 1.6628 - val_acc: 0.6855\n",
      "Epoch 42/100\n",
      " - 2s - loss: 0.0368 - acc: 0.9890 - val_loss: 1.7061 - val_acc: 0.6823\n",
      "Epoch 43/100\n",
      " - 2s - loss: 0.0313 - acc: 0.9911 - val_loss: 1.7579 - val_acc: 0.6823\n",
      "Epoch 44/100\n",
      " - 2s - loss: 0.0339 - acc: 0.9906 - val_loss: 1.6454 - val_acc: 0.6897\n",
      "Epoch 45/100\n",
      " - 2s - loss: 0.0282 - acc: 0.9916 - val_loss: 1.7924 - val_acc: 0.6834\n",
      "Epoch 46/100\n",
      " - 2s - loss: 0.0280 - acc: 0.9935 - val_loss: 1.8732 - val_acc: 0.6823\n",
      "Epoch 47/100\n",
      " - 2s - loss: 0.0398 - acc: 0.9903 - val_loss: 1.8306 - val_acc: 0.6656\n",
      "Epoch 48/100\n",
      " - 2s - loss: 0.0443 - acc: 0.9864 - val_loss: 1.5495 - val_acc: 0.6750\n",
      "Epoch 49/100\n",
      " - 2s - loss: 0.0334 - acc: 0.9922 - val_loss: 1.8292 - val_acc: 0.6729\n",
      "Epoch 50/100\n",
      " - 2s - loss: 0.0310 - acc: 0.9922 - val_loss: 1.6984 - val_acc: 0.6782\n",
      "Epoch 51/100\n",
      " - 2s - loss: 0.0259 - acc: 0.9940 - val_loss: 1.8389 - val_acc: 0.6750\n",
      "Epoch 52/100\n",
      " - 2s - loss: 0.0235 - acc: 0.9942 - val_loss: 1.9642 - val_acc: 0.6594\n",
      "Epoch 53/100\n",
      " - 2s - loss: 0.0269 - acc: 0.9927 - val_loss: 1.7555 - val_acc: 0.6573\n",
      "Epoch 54/100\n",
      " - 2s - loss: 0.0315 - acc: 0.9919 - val_loss: 1.6925 - val_acc: 0.6750\n",
      "Epoch 55/100\n",
      " - 2s - loss: 0.0281 - acc: 0.9932 - val_loss: 1.7612 - val_acc: 0.6771\n",
      "Epoch 56/100\n",
      " - 2s - loss: 0.0268 - acc: 0.9940 - val_loss: 1.7473 - val_acc: 0.6792\n",
      "Epoch 57/100\n",
      " - 2s - loss: 0.0249 - acc: 0.9932 - val_loss: 2.1497 - val_acc: 0.6719\n",
      "Epoch 58/100\n",
      " - 2s - loss: 0.0233 - acc: 0.9948 - val_loss: 2.0380 - val_acc: 0.6698\n",
      "Epoch 59/100\n",
      " - 2s - loss: 0.0219 - acc: 0.9948 - val_loss: 1.9234 - val_acc: 0.6740\n",
      "Epoch 60/100\n",
      " - 2s - loss: 0.0225 - acc: 0.9935 - val_loss: 2.1541 - val_acc: 0.6729\n",
      "Epoch 61/100\n",
      " - 2s - loss: 0.0204 - acc: 0.9956 - val_loss: 2.0857 - val_acc: 0.6719\n",
      "Epoch 62/100\n",
      " - 2s - loss: 0.0265 - acc: 0.9932 - val_loss: 1.7659 - val_acc: 0.6761\n",
      "Epoch 63/100\n",
      " - 2s - loss: 0.0252 - acc: 0.9932 - val_loss: 1.8551 - val_acc: 0.6677\n",
      "Epoch 64/100\n",
      " - 2s - loss: 0.0173 - acc: 0.9950 - val_loss: 1.9714 - val_acc: 0.6667\n",
      "Epoch 65/100\n",
      " - 2s - loss: 0.0188 - acc: 0.9950 - val_loss: 2.0963 - val_acc: 0.6604\n",
      "Epoch 66/100\n",
      " - 2s - loss: 0.0140 - acc: 0.9969 - val_loss: 2.0439 - val_acc: 0.6729\n",
      "Epoch 67/100\n",
      " - 2s - loss: 0.0154 - acc: 0.9963 - val_loss: 2.0933 - val_acc: 0.6719\n",
      "Epoch 68/100\n",
      " - 2s - loss: 0.0153 - acc: 0.9958 - val_loss: 2.1277 - val_acc: 0.6667\n",
      "Epoch 69/100\n",
      " - 2s - loss: 0.0212 - acc: 0.9950 - val_loss: 1.9451 - val_acc: 0.6729\n",
      "Epoch 70/100\n",
      " - 2s - loss: 0.0128 - acc: 0.9974 - val_loss: 2.0215 - val_acc: 0.6771\n",
      "Epoch 71/100\n",
      " - 2s - loss: 0.0125 - acc: 0.9969 - val_loss: 2.1069 - val_acc: 0.6719\n",
      "Epoch 72/100\n",
      " - 2s - loss: 0.0098 - acc: 0.9976 - val_loss: 2.1930 - val_acc: 0.6740\n",
      "Epoch 73/100\n",
      " - 2s - loss: 0.0148 - acc: 0.9961 - val_loss: 2.2430 - val_acc: 0.6698\n",
      "Epoch 74/100\n",
      " - 2s - loss: 0.0134 - acc: 0.9956 - val_loss: 2.1327 - val_acc: 0.6688\n",
      "Epoch 75/100\n",
      " - 2s - loss: 0.0117 - acc: 0.9963 - val_loss: 2.3394 - val_acc: 0.6667\n",
      "Epoch 76/100\n",
      " - 2s - loss: 0.0134 - acc: 0.9958 - val_loss: 2.2296 - val_acc: 0.6740\n",
      "Epoch 77/100\n",
      " - 2s - loss: 0.0138 - acc: 0.9963 - val_loss: 2.2577 - val_acc: 0.6646\n",
      "Epoch 78/100\n",
      " - 2s - loss: 0.0117 - acc: 0.9963 - val_loss: 2.4236 - val_acc: 0.6698\n",
      "Epoch 79/100\n",
      " - 2s - loss: 0.0113 - acc: 0.9976 - val_loss: 2.4736 - val_acc: 0.6698\n",
      "Epoch 80/100\n",
      " - 2s - loss: 0.0132 - acc: 0.9961 - val_loss: 2.4565 - val_acc: 0.6625\n",
      "Epoch 81/100\n",
      " - 2s - loss: 0.0104 - acc: 0.9974 - val_loss: 2.4880 - val_acc: 0.6708\n",
      "Epoch 82/100\n",
      " - 2s - loss: 0.0239 - acc: 0.9958 - val_loss: 1.8279 - val_acc: 0.6698\n",
      "Epoch 83/100\n",
      " - 2s - loss: 0.0189 - acc: 0.9956 - val_loss: 1.9394 - val_acc: 0.6719\n",
      "Epoch 84/100\n",
      " - 2s - loss: 0.0151 - acc: 0.9969 - val_loss: 2.0010 - val_acc: 0.6719\n",
      "Epoch 85/100\n",
      " - 2s - loss: 0.0157 - acc: 0.9966 - val_loss: 2.1076 - val_acc: 0.6719\n",
      "Epoch 86/100\n",
      " - 2s - loss: 0.0136 - acc: 0.9966 - val_loss: 2.1388 - val_acc: 0.6771\n",
      "Epoch 87/100\n",
      " - 2s - loss: 0.0116 - acc: 0.9971 - val_loss: 2.2276 - val_acc: 0.6677\n",
      "Epoch 88/100\n",
      " - 2s - loss: 0.0115 - acc: 0.9969 - val_loss: 2.2948 - val_acc: 0.6688\n",
      "Epoch 89/100\n",
      " - 2s - loss: 0.0109 - acc: 0.9974 - val_loss: 2.3341 - val_acc: 0.6677\n",
      "Epoch 90/100\n",
      " - 2s - loss: 0.0100 - acc: 0.9969 - val_loss: 2.4513 - val_acc: 0.6677\n",
      "Epoch 91/100\n",
      " - 2s - loss: 0.0082 - acc: 0.9976 - val_loss: 2.5342 - val_acc: 0.6740\n",
      "Epoch 92/100\n",
      " - 2s - loss: 0.0086 - acc: 0.9979 - val_loss: 2.5589 - val_acc: 0.6740\n",
      "Epoch 93/100\n",
      " - 2s - loss: 0.0117 - acc: 0.9971 - val_loss: 2.4232 - val_acc: 0.6729\n",
      "Epoch 94/100\n",
      " - 2s - loss: 0.0095 - acc: 0.9976 - val_loss: 2.4116 - val_acc: 0.6708\n",
      "Epoch 95/100\n",
      " - 2s - loss: 0.0099 - acc: 0.9971 - val_loss: 2.3853 - val_acc: 0.6761\n",
      "Epoch 96/100\n",
      " - 2s - loss: 0.0100 - acc: 0.9976 - val_loss: 2.4486 - val_acc: 0.6719\n",
      "Epoch 97/100\n",
      " - 2s - loss: 0.0091 - acc: 0.9976 - val_loss: 2.4310 - val_acc: 0.6750\n",
      "Epoch 98/100\n",
      " - 2s - loss: 0.0084 - acc: 0.9979 - val_loss: 2.4977 - val_acc: 0.6667\n",
      "Epoch 99/100\n",
      " - 2s - loss: 0.0081 - acc: 0.9971 - val_loss: 2.5732 - val_acc: 0.6740\n",
      "Epoch 100/100\n",
      " - 2s - loss: 0.0079 - acc: 0.9974 - val_loss: 2.5569 - val_acc: 0.6667\n"
     ]
    }
   ],
   "source": [
    "history=model.fit(train_df, y_train, validation_data = (dev_df, y_test),epochs=100,batch_size=100, verbose=2)"
   ]
  },
  {
   "cell_type": "code",
   "execution_count": 0,
   "metadata": {
    "colab": {
     "base_uri": "https://localhost:8080/",
     "height": 279
    },
    "colab_type": "code",
    "executionInfo": {
     "elapsed": 1787,
     "status": "ok",
     "timestamp": 1583677710207,
     "user": {
      "displayName": "KARTIK MOHAN",
      "photoUrl": "",
      "userId": "11733019016996442519"
     },
     "user_tz": -330
    },
    "id": "ZmKBQNhAcMDv",
    "outputId": "fdc0b198-42af-42dc-a810-03d2c3139ed9"
   },
   "outputs": [
    {
     "data": {
      "image/png": "[encoded data removed]",
      "text/plain": [
       "<Figure size 432x288 with 1 Axes>"
      ]
     },
     "metadata": {
      "tags": []
     },
     "output_type": "display_data"
    }
   ],
   "source": [
    "training_loss=history.history['loss']\n",
    "validation_loss=history.history['val_loss']\n",
    "epoch_count=range(1,len(training_loss)+1)\n",
    "plt.plot(epoch_count, training_loss, 'r--')\n",
    "plt.plot(epoch_count, validation_loss, 'b-')\n",
    "plt.legend(['Training Loss', 'Validation Loss'])\n",
    "plt.xlabel('Epoch')\n",
    "plt.ylabel('Loss')\n",
    "plt.show()"
   ]
  },
  {
   "cell_type": "code",
   "execution_count": 0,
   "metadata": {
    "colab": {
     "base_uri": "https://localhost:8080/",
     "height": 34
    },
    "colab_type": "code",
    "executionInfo": {
     "elapsed": 2062,
     "status": "ok",
     "timestamp": 1583677713273,
     "user": {
      "displayName": "KARTIK MOHAN",
      "photoUrl": "",
      "userId": "11733019016996442519"
     },
     "user_tz": -330
    },
    "id": "2dfwkIluch_i",
    "outputId": "c16d0f0c-79c8-4aef-cd77-658de98ecd52"
   },
   "outputs": [
    {
     "name": "stdout",
     "output_type": "stream",
     "text": [
      "[2.5569211729143357, 0.6666666670403635]\n"
     ]
    }
   ],
   "source": [
    "scores = model.evaluate(dev_df, y_test, verbose=0)\n",
    "print(scores)"
   ]
  },
  {
   "cell_type": "code",
   "execution_count": 0,
   "metadata": {
    "colab": {
     "base_uri": "https://localhost:8080/",
     "height": 195
    },
    "colab_type": "code",
    "executionInfo": {
     "elapsed": 4089,
     "status": "ok",
     "timestamp": 1583677718395,
     "user": {
      "displayName": "KARTIK MOHAN",
      "photoUrl": "",
      "userId": "11733019016996442519"
     },
     "user_tz": -330
    },
    "id": "mhoccecWcmfm",
    "outputId": "731d5e6f-a059-4751-e3c3-276314d10e96"
   },
   "outputs": [
    {
     "data": {
      "text/html": [
       "<div>\n",
       "<style scoped>\n",
       "    .dataframe tbody tr th:only-of-type {\n",
       "        vertical-align: middle;\n",
       "    }\n",
       "\n",
       "    .dataframe tbody tr th {\n",
       "        vertical-align: top;\n",
       "    }\n",
       "\n",
       "    .dataframe thead th {\n",
       "        text-align: right;\n",
       "    }\n",
       "</style>\n",
       "<table border=\"1\" class=\"dataframe\">\n",
       "  <thead>\n",
       "    <tr style=\"text-align: right;\">\n",
       "      <th></th>\n",
       "      <th>ID</th>\n",
       "      <th>Label</th>\n",
       "    </tr>\n",
       "  </thead>\n",
       "  <tbody>\n",
       "    <tr>\n",
       "      <th>0</th>\n",
       "      <td>C52.4.1</td>\n",
       "      <td>NAG</td>\n",
       "    </tr>\n",
       "    <tr>\n",
       "      <th>1</th>\n",
       "      <td>C52.4.2</td>\n",
       "      <td>NAG</td>\n",
       "    </tr>\n",
       "    <tr>\n",
       "      <th>2</th>\n",
       "      <td>C52.6</td>\n",
       "      <td>CAG</td>\n",
       "    </tr>\n",
       "    <tr>\n",
       "      <th>3</th>\n",
       "      <td>C52.7</td>\n",
       "      <td>NAG</td>\n",
       "    </tr>\n",
       "    <tr>\n",
       "      <th>4</th>\n",
       "      <td>C52.10</td>\n",
       "      <td>CAG</td>\n",
       "    </tr>\n",
       "  </tbody>\n",
       "</table>\n",
       "</div>"
      ],
      "text/plain": [
       "        ID Label\n",
       "0  C52.4.1   NAG\n",
       "1  C52.4.2   NAG\n",
       "2    C52.6   CAG\n",
       "3    C52.7   NAG\n",
       "4   C52.10   CAG"
      ]
     },
     "execution_count": 40,
     "metadata": {
      "tags": []
     },
     "output_type": "execute_result"
    }
   ],
   "source": [
    "predicting_df = pd.read_csv(\"/content/drive/My Drive/Minor Project/iben_test.csv\")\n",
    "test_df=tk.texts_to_sequences(predicting_df['Text'])\n",
    "embedding_vecor_length =30\n",
    "test_df = pad_sequences(test_df, maxlen=embedding_vecor_length, padding='post')\n",
    "predictions_test = model.predict(test_df)\n",
    "predictions_test1 = np.zeros_like(predictions_test)\n",
    "predictions_test1[np.arange(len(predictions_test)), predictions_test.argmax(1)] = 1\n",
    "predictions_test1 = predictions_test1.argmax(1)\n",
    "predictions_test1 = pd.Series(predictions_test1)\n",
    "predictions_test1 = predictions_test1.rename(\"Label\")\n",
    "ps = predicting_df['ID']\n",
    "output_df = pd.merge(ps,predictions_test1,how='outer',left_index=True,right_index=True)\n",
    "output_df['Label'] = output_df['Label'].map({0: 'NAG',1: 'CAG',2: 'OAG'})\n",
    "output_df.head()"
   ]
  },
  {
   "cell_type": "code",
   "execution_count": 0,
   "metadata": {
    "colab": {},
    "colab_type": "code",
    "id": "qwi1Qd2ydGMW"
   },
   "outputs": [],
   "source": [
    "output_df.to_csv(\"Bangla_TaskA_Run1_LSTM_Fasttext.csv\")"
   ]
  },
  {
   "cell_type": "code",
   "execution_count": 0,
   "metadata": {
    "colab": {
     "base_uri": "https://localhost:8080/",
     "height": 140
    },
    "colab_type": "code",
    "executionInfo": {
     "elapsed": 2029,
     "status": "ok",
     "timestamp": 1583677728207,
     "user": {
      "displayName": "KARTIK MOHAN",
      "photoUrl": "",
      "userId": "11733019016996442519"
     },
     "user_tz": -330
    },
    "id": "vg9exqmSgMML",
    "outputId": "2f80dacb-dd42-4a4f-8fc4-6b57779af687"
   },
   "outputs": [
    {
     "name": "stdout",
     "output_type": "stream",
     "text": [
      "[[9.9997854e-01 1.4345827e-05 7.1939285e-06]\n",
      " [9.8463815e-01 1.4636671e-02 7.2518544e-04]\n",
      " [9.9982041e-01 1.7613416e-04 3.5077364e-06]\n",
      " ...\n",
      " [9.9997330e-01 2.0262052e-05 6.3800253e-06]\n",
      " [9.9958402e-01 4.1018226e-04 5.8030369e-06]\n",
      " [9.9997950e-01 1.3726219e-05 6.8167606e-06]]\n"
     ]
    }
   ],
   "source": [
    "predictions_test = model.predict(dev_df)\n",
    "print(predictions_test)"
   ]
  },
  {
   "cell_type": "code",
   "execution_count": 0,
   "metadata": {
    "colab": {},
    "colab_type": "code",
    "id": "gETKMIJzcsfK"
   },
   "outputs": [],
   "source": [
    "predictions_test1 = np.zeros_like(predictions_test)\n",
    "predictions_test1[np.arange(len(predictions_test)), predictions_test.argmax(1)] = 1"
   ]
  },
  {
   "cell_type": "code",
   "execution_count": 0,
   "metadata": {
    "colab": {
     "base_uri": "https://localhost:8080/",
     "height": 210
    },
    "colab_type": "code",
    "executionInfo": {
     "elapsed": 1208,
     "status": "ok",
     "timestamp": 1583677732067,
     "user": {
      "displayName": "KARTIK MOHAN",
      "photoUrl": "",
      "userId": "11733019016996442519"
     },
     "user_tz": -330
    },
    "id": "UyYxJle-cw8m",
    "outputId": "6031a06b-10e3-4eb6-b8cb-41428c350b98"
   },
   "outputs": [
    {
     "name": "stdout",
     "output_type": "stream",
     "text": [
      "              precision    recall  f1-score   support\n",
      "\n",
      "           0       0.74      0.81      0.78       522\n",
      "           1       0.48      0.40      0.43       218\n",
      "           2       0.63      0.59      0.60       217\n",
      "\n",
      "   micro avg       0.67      0.67      0.67       957\n",
      "   macro avg       0.61      0.60      0.60       957\n",
      "weighted avg       0.66      0.67      0.66       957\n",
      " samples avg       0.67      0.67      0.67       957\n",
      "\n"
     ]
    }
   ],
   "source": [
    "from sklearn.metrics import classification_report\n",
    "print(classification_report(y_test,predictions_test1))"
   ]
  },
  {
   "cell_type": "code",
   "execution_count": 0,
   "metadata": {
    "colab": {},
    "colab_type": "code",
    "id": "NophIaXgczVz"
   },
   "outputs": [],
   "source": []
  }
 ],
 "metadata": {
  "accelerator": "GPU",
  "colab": {
   "collapsed_sections": [],
   "name": "FasttextBanglaDatasetSubTaskA_withLSTM.ipynb",
   "provenance": []
  },
  "kernelspec": {
   "display_name": "Python 3",
   "language": "python",
   "name": "python3"
  },
  "language_info": {
   "codemirror_mode": {
    "name": "ipython",
    "version": 3
   },
   "file_extension": ".py",
   "mimetype": "text/x-python",
   "name": "python",
   "nbconvert_exporter": "python",
   "pygments_lexer": "ipython3",
   "version": "3.7.6"
  }
 },
 "nbformat": 4,
 "nbformat_minor": 1
}
